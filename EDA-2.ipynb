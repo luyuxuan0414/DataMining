{
 "cells": [
  {
   "cell_type": "markdown",
   "metadata": {
    "papermill": {
     "duration": 0.04314,
     "end_time": "2020-09-21T14:40:06.239058",
     "exception": false,
     "start_time": "2020-09-21T14:40:06.195918",
     "status": "completed"
    },
    "tags": []
   },
   "source": [
    "## prework\n",
    "\n",
    "* load basic dependencies\n",
    "* load data\n",
    "* check data"
   ]
  },
  {
   "cell_type": "code",
   "execution_count": 1,
   "metadata": {
    "_cell_guid": "b1076dfc-b9ad-4769-8c92-a6c4dae69d19",
    "_uuid": "8f2839f25d086af736a60e9eeb907d3b93b6e0e5",
    "execution": {
     "iopub.execute_input": "2020-09-21T14:40:06.326552Z",
     "iopub.status.busy": "2020-09-21T14:40:06.325927Z",
     "iopub.status.idle": "2020-09-21T14:40:06.339216Z",
     "shell.execute_reply": "2020-09-21T14:40:06.338641Z"
    },
    "papermill": {
     "duration": 0.059797,
     "end_time": "2020-09-21T14:40:06.339325",
     "exception": false,
     "start_time": "2020-09-21T14:40:06.279528",
     "status": "completed"
    },
    "tags": []
   },
   "outputs": [
    {
     "name": "stdout",
     "output_type": "stream",
     "text": [
      "/kaggle/input/glove-global-vectors-for-word-representation/glove.6B.50d.txt\n",
      "/kaggle/input/glove-global-vectors-for-word-representation/glove.6B.100d.txt\n",
      "/kaggle/input/glove-global-vectors-for-word-representation/glove.6B.200d.txt\n",
      "/kaggle/input/nlp-getting-started/test.csv\n",
      "/kaggle/input/nlp-getting-started/sample_submission.csv\n",
      "/kaggle/input/nlp-getting-started/train.csv\n"
     ]
    }
   ],
   "source": [
    "# This Python 3 environment comes with many helpful analytics libraries installed\n",
    "# It is defined by the kaggle/python Docker image: https://github.com/kaggle/docker-python\n",
    "# For example, here's several helpful packages to load\n",
    "\n",
    "import numpy as np # linear algebra\n",
    "import pandas as pd # data processing, CSV file I/O (e.g. pd.read_csv)\n",
    "\n",
    "# Input data files are available in the read-only \"../input/\" directory\n",
    "# For example, running this (by clicking run or pressing Shift+Enter) will list all files under the input directory\n",
    "\n",
    "import os\n",
    "for dirname, _, filenames in os.walk('/kaggle/input'):\n",
    "    for filename in filenames:\n",
    "        print(os.path.join(dirname, filename))\n",
    "\n",
    "# You can write up to 5GB to the current directory (/kaggle/working/) that gets preserved as output when you create a version using \"Save & Run All\" \n",
    "# You can also write temporary files to /kaggle/temp/, but they won't be saved outside of the current session"
   ]
  },
  {
   "cell_type": "code",
   "execution_count": 2,
   "metadata": {
    "_cell_guid": "79c7e3d0-c299-4dcb-8224-4455121ee9b0",
    "_uuid": "d629ff2d2480ee46fbb7e2d37f6b5fab8052498a",
    "execution": {
     "iopub.execute_input": "2020-09-21T14:40:06.429303Z",
     "iopub.status.busy": "2020-09-21T14:40:06.428611Z",
     "iopub.status.idle": "2020-09-21T14:40:07.429316Z",
     "shell.execute_reply": "2020-09-21T14:40:07.428760Z"
    },
    "papermill": {
     "duration": 1.048447,
     "end_time": "2020-09-21T14:40:07.429433",
     "exception": false,
     "start_time": "2020-09-21T14:40:06.380986",
     "status": "completed"
    },
    "tags": []
   },
   "outputs": [],
   "source": [
    "import matplotlib.pyplot as plt\n",
    "%matplotlib inline\n",
    "import seaborn as sns\n",
    "from tqdm import tqdm"
   ]
  },
  {
   "cell_type": "code",
   "execution_count": 3,
   "metadata": {
    "execution": {
     "iopub.execute_input": "2020-09-21T14:40:07.519195Z",
     "iopub.status.busy": "2020-09-21T14:40:07.518571Z",
     "iopub.status.idle": "2020-09-21T14:40:07.579767Z",
     "shell.execute_reply": "2020-09-21T14:40:07.580238Z"
    },
    "papermill": {
     "duration": 0.10922,
     "end_time": "2020-09-21T14:40:07.580358",
     "exception": false,
     "start_time": "2020-09-21T14:40:07.471138",
     "status": "completed"
    },
    "tags": []
   },
   "outputs": [
    {
     "data": {
      "text/plain": [
       "((7613, 5), (3263, 4), (3263, 2))"
      ]
     },
     "execution_count": 3,
     "metadata": {},
     "output_type": "execute_result"
    }
   ],
   "source": [
    "# load data\n",
    "tweet = pd.read_csv('/kaggle/input/nlp-getting-started/train.csv')\n",
    "test = pd.read_csv('/kaggle/input/nlp-getting-started/test.csv')\n",
    "submission = pd.read_csv('/kaggle/input/nlp-getting-started/sample_submission.csv')\n",
    "tweet.shape, test.shape, submission.shape"
   ]
  },
  {
   "cell_type": "code",
   "execution_count": 4,
   "metadata": {
    "execution": {
     "iopub.execute_input": "2020-09-21T14:40:07.685427Z",
     "iopub.status.busy": "2020-09-21T14:40:07.684353Z",
     "iopub.status.idle": "2020-09-21T14:40:07.689476Z",
     "shell.execute_reply": "2020-09-21T14:40:07.688889Z"
    },
    "papermill": {
     "duration": 0.05557,
     "end_time": "2020-09-21T14:40:07.689584",
     "exception": false,
     "start_time": "2020-09-21T14:40:07.634014",
     "status": "completed"
    },
    "tags": []
   },
   "outputs": [
    {
     "name": "stdout",
     "output_type": "stream",
     "text": [
      "\n",
      "\n",
      "\n",
      "data shape is: (7613, 5)   sample number 7613   attribute number 5\n",
      "\n",
      "data columns number 5  \n",
      "all columns: Index(['id', 'keyword', 'location', 'text', 'target'], dtype='object')\n",
      "\n",
      "\n",
      "\n",
      "\n",
      "data shape is: (3263, 4)   sample number 3263   attribute number 4\n",
      "\n",
      "data columns number 4  \n",
      "all columns: Index(['id', 'keyword', 'location', 'text'], dtype='object')\n",
      "\n",
      "\n",
      "\n",
      "\n",
      "data shape is: (3263, 2)   sample number 3263   attribute number 2\n",
      "\n",
      "data columns number 2  \n",
      "all columns: Index(['id', 'target'], dtype='object')\n",
      "\n"
     ]
    }
   ],
   "source": [
    "# check data\n",
    "def show_info(data, is_matrix_transpose=False):\n",
    "    print('\\n' * 2)\n",
    "    # basic shape\n",
    "    print('data shape is: {}   sample number {}   attribute number {}\\n'.format(data.shape, data.shape[0], data.shape[1]))\n",
    "    # attribute(key)\n",
    "    print('data columns number {}  \\nall columns: {}\\n'.format(len(data.columns) ,data.columns))\n",
    "    # value's null\n",
    "#     print('data all attribute count null:\\n', data.isna().sum())\n",
    "    # data value analysis and data demo\n",
    "#     if is_matrix_transpose:\n",
    "#         print('data value analysis: ', data.describe().T)\n",
    "#         print('data demo without matrix transpose: ', data.head().T)\n",
    "#     else:\n",
    "#         print('data value analysis: ', data.describe())\n",
    "#         print('data demo without matrix transpose: ', data.head())\n",
    "show_info(tweet)\n",
    "show_info(test)\n",
    "show_info(submission)"
   ]
  },
  {
   "cell_type": "markdown",
   "metadata": {
    "papermill": {
     "duration": 0.041333,
     "end_time": "2020-09-21T14:40:07.773888",
     "exception": false,
     "start_time": "2020-09-21T14:40:07.732555",
     "status": "completed"
    },
    "tags": []
   },
   "source": [
    "## EDA\n",
    "\n",
    "\n",
    "### plot\n",
    "\n",
    "* label\n",
    "    * classification\n",
    "* value\n",
    "    * length of per words\n",
    "    * number of words in per text\n",
    "    * average of words in per text"
   ]
  },
  {
   "cell_type": "code",
   "execution_count": 5,
   "metadata": {
    "execution": {
     "iopub.execute_input": "2020-09-21T14:40:07.869073Z",
     "iopub.status.busy": "2020-09-21T14:40:07.866186Z",
     "iopub.status.idle": "2020-09-21T14:40:08.053285Z",
     "shell.execute_reply": "2020-09-21T14:40:08.052369Z"
    },
    "papermill": {
     "duration": 0.237355,
     "end_time": "2020-09-21T14:40:08.053397",
     "exception": false,
     "start_time": "2020-09-21T14:40:07.816042",
     "status": "completed"
    },
    "tags": []
   },
   "outputs": [
    {
     "data": {
      "text/plain": [
       "<matplotlib.axes._subplots.AxesSubplot at 0x7f013cacf810>"
      ]
     },
     "execution_count": 5,
     "metadata": {},
     "output_type": "execute_result"
    },
    {
     "data": {
      "image/png": "[encoded data removed]",
      "text/plain": [
       "<Figure size 432x288 with 1 Axes>"
      ]
     },
     "metadata": {
      "needs_background": "light"
     },
     "output_type": "display_data"
    }
   ],
   "source": [
    "# plot -> label -> classification\n",
    "tweet.target.value_counts().plot.bar()"
   ]
  },
  {
   "cell_type": "code",
   "execution_count": 6,
   "metadata": {
    "execution": {
     "iopub.execute_input": "2020-09-21T14:40:08.154098Z",
     "iopub.status.busy": "2020-09-21T14:40:08.153347Z",
     "iopub.status.idle": "2020-09-21T14:40:08.157018Z",
     "shell.execute_reply": "2020-09-21T14:40:08.157724Z"
    },
    "papermill": {
     "duration": 0.058238,
     "end_time": "2020-09-21T14:40:08.158004",
     "exception": false,
     "start_time": "2020-09-21T14:40:08.099766",
     "status": "completed"
    },
    "tags": []
   },
   "outputs": [
    {
     "name": "stdout",
     "output_type": "stream",
     "text": [
      "\n",
      "\n",
      "\n",
      "data shape is: (7613, 6)   sample number 7613   attribute number 6\n",
      "\n",
      "data columns number 6  \n",
      "all columns: Index(['id', 'keyword', 'location', 'text', 'target', 'length'], dtype='object')\n",
      "\n"
     ]
    }
   ],
   "source": [
    "# 增添长度属性到 true and not ==> 利用apply 来应用\n",
    "def length(text):\n",
    "    return len(text)\n",
    "# new attribute 'length' in train \n",
    "tweet['length'] = tweet['text'].apply(length)\n",
    "show_info(tweet)"
   ]
  },
  {
   "cell_type": "code",
   "execution_count": 7,
   "metadata": {
    "execution": {
     "iopub.execute_input": "2020-09-21T14:40:08.254472Z",
     "iopub.status.busy": "2020-09-21T14:40:08.253741Z",
     "iopub.status.idle": "2020-09-21T14:40:08.965006Z",
     "shell.execute_reply": "2020-09-21T14:40:08.964501Z"
    },
    "papermill": {
     "duration": 0.761586,
     "end_time": "2020-09-21T14:40:08.965119",
     "exception": false,
     "start_time": "2020-09-21T14:40:08.203533",
     "status": "completed"
    },
    "tags": []
   },
   "outputs": [
    {
     "data": {
      "image/png": "[encoded data removed]",
      "text/plain": [
       "<Figure size 1296x432 with 1 Axes>"
      ]
     },
     "metadata": {
      "needs_background": "light"
     },
     "output_type": "display_data"
    }
   ],
   "source": [
    "# plot -> value -> length\n",
    "plt.rcParams['figure.figsize'] = (18.0, 6.0)\n",
    "bins = 150\n",
    "plt.hist(tweet[tweet['target'] == 0]['length'], alpha=0.6, bins=bins, label='Not', color='red')\n",
    "plt.hist(tweet[tweet['target'] == 1]['length'], alpha=0.8, bins=bins, label='Real', color='blue')\n",
    "plt.show()"
   ]
  },
  {
   "cell_type": "code",
   "execution_count": 8,
   "metadata": {
    "execution": {
     "iopub.execute_input": "2020-09-21T14:40:09.145755Z",
     "iopub.status.busy": "2020-09-21T14:40:09.143771Z",
     "iopub.status.idle": "2020-09-21T14:40:09.466719Z",
     "shell.execute_reply": "2020-09-21T14:40:09.466185Z"
    },
    "papermill": {
     "duration": 0.454911,
     "end_time": "2020-09-21T14:40:09.466849",
     "exception": false,
     "start_time": "2020-09-21T14:40:09.011938",
     "status": "completed"
    },
    "tags": []
   },
   "outputs": [
    {
     "data": {
      "image/png": "[encoded data removed]",
      "text/plain": [
       "<Figure size 720x360 with 2 Axes>"
      ]
     },
     "metadata": {
      "needs_background": "light"
     },
     "output_type": "display_data"
    }
   ],
   "source": [
    "# number of words\n",
    "fig, (ax1, ax2) = plt.subplots(1, 2, figsize=(10, 5))\n",
    "tweet_len = tweet[tweet['target'] == 1]['text'].str.split().map(lambda x: len(x))\n",
    "ax1.hist(tweet_len, color='blue')\n",
    "tweet_len = tweet[tweet['target'] == 0]['text'].str.split().map(lambda x: len(x))\n",
    "ax2.hist(tweet_len, color='red')\n",
    "plt.show()"
   ]
  },
  {
   "cell_type": "code",
   "execution_count": 9,
   "metadata": {
    "execution": {
     "iopub.execute_input": "2020-09-21T14:40:09.570920Z",
     "iopub.status.busy": "2020-09-21T14:40:09.569986Z",
     "iopub.status.idle": "2020-09-21T14:40:10.299244Z",
     "shell.execute_reply": "2020-09-21T14:40:10.300437Z"
    },
    "papermill": {
     "duration": 0.786277,
     "end_time": "2020-09-21T14:40:10.300654",
     "exception": false,
     "start_time": "2020-09-21T14:40:09.514377",
     "status": "completed"
    },
    "tags": []
   },
   "outputs": [
    {
     "data": {
      "text/plain": [
       "<matplotlib.axes._subplots.AxesSubplot at 0x7f013c1b9390>"
      ]
     },
     "execution_count": 9,
     "metadata": {},
     "output_type": "execute_result"
    },
    {
     "data": {
      "image/png": "[encoded data removed]",
      "text/plain": [
       "<Figure size 720x360 with 2 Axes>"
      ]
     },
     "metadata": {
      "needs_background": "light"
     },
     "output_type": "display_data"
    }
   ],
   "source": [
    "# average length in a text\n",
    "fig, (ax1, ax2) = plt.subplots(1, 2, figsize=(10, 5))\n",
    "word = tweet[tweet['target'] == 1]['text'].str.split().apply(lambda x: [len(i) for i in x])\n",
    "sns.distplot(word.map(lambda x: np.mean(x)), ax=ax1, color='blue')\n",
    "word = tweet[tweet['target'] == 0]['text'].str.split().apply(lambda x: [len(i) for i in x])\n",
    "sns.distplot(word.map(lambda x: np.mean(x)), ax=ax2, color='red')"
   ]
  },
  {
   "cell_type": "markdown",
   "metadata": {
    "papermill": {
     "duration": 0.077781,
     "end_time": "2020-09-21T14:40:10.464818",
     "exception": false,
     "start_time": "2020-09-21T14:40:10.387037",
     "status": "completed"
    },
    "tags": []
   },
   "source": [
    "## Data preprocessing\n",
    "\n",
    "* init corpus (split by 0 and 1)\n",
    "* *common stopwords* in tweets (use ntlk's corpus to get stopwords)\n",
    "* *punctuation* in tweets (use string to get punctuation)\n",
    "* *common word* in tweets (use Counter in collections)\n",
    "* *N-gram* analysis => get relationship between different gram\n"
   ]
  },
  {
   "cell_type": "code",
   "execution_count": 10,
   "metadata": {
    "execution": {
     "iopub.execute_input": "2020-09-21T14:40:10.613631Z",
     "iopub.status.busy": "2020-09-21T14:40:10.612287Z",
     "iopub.status.idle": "2020-09-21T14:40:11.525014Z",
     "shell.execute_reply": "2020-09-21T14:40:11.525490Z"
    },
    "papermill": {
     "duration": 0.989892,
     "end_time": "2020-09-21T14:40:11.525635",
     "exception": false,
     "start_time": "2020-09-21T14:40:10.535743",
     "status": "completed"
    },
    "tags": []
   },
   "outputs": [],
   "source": [
    "from nltk.corpus import stopwords\n",
    "# set english\n",
    "stop = set(stopwords.words('english'))\n",
    "from nltk.tokenize import word_tokenize\n",
    "from collections import defaultdict, Counter\n",
    "import string\n",
    "from sklearn.feature_extraction.text import CountVectorizer"
   ]
  },
  {
   "cell_type": "code",
   "execution_count": 11,
   "metadata": {
    "execution": {
     "iopub.execute_input": "2020-09-21T14:40:11.636140Z",
     "iopub.status.busy": "2020-09-21T14:40:11.634506Z",
     "iopub.status.idle": "2020-09-21T14:40:11.636935Z",
     "shell.execute_reply": "2020-09-21T14:40:11.637470Z"
    },
    "papermill": {
     "duration": 0.061817,
     "end_time": "2020-09-21T14:40:11.637587",
     "exception": false,
     "start_time": "2020-09-21T14:40:11.575770",
     "status": "completed"
    },
    "tags": []
   },
   "outputs": [],
   "source": [
    "# create corpus to get only corpus\n",
    "def create_corpus(target):\n",
    "    corpus = []\n",
    "    \n",
    "    for x in tweet[tweet['target']==target]['text'].str.split():\n",
    "        for i in x:\n",
    "            corpus.append(i)\n",
    "    return corpus\n",
    "\n",
    "def create_corpus_df(tweet, target):\n",
    "    corpus = []\n",
    "    for x in tweet[tweet['target']==target]['text'].str.split():\n",
    "        for i in x:\n",
    "            corpus.append(i)\n",
    "    return corpus"
   ]
  },
  {
   "cell_type": "code",
   "execution_count": 12,
   "metadata": {
    "execution": {
     "iopub.execute_input": "2020-09-21T14:40:11.736970Z",
     "iopub.status.busy": "2020-09-21T14:40:11.736159Z",
     "iopub.status.idle": "2020-09-21T14:40:11.929545Z",
     "shell.execute_reply": "2020-09-21T14:40:11.930091Z"
    },
    "papermill": {
     "duration": 0.246846,
     "end_time": "2020-09-21T14:40:11.930223",
     "exception": false,
     "start_time": "2020-09-21T14:40:11.683377",
     "status": "completed"
    },
    "tags": []
   },
   "outputs": [
    {
     "data": {
      "text/plain": [
       "<BarContainer object of 10 artists>"
      ]
     },
     "execution_count": 12,
     "metadata": {},
     "output_type": "execute_result"
    },
    {
     "data": {
      "image/png": "[encoded data removed]",
      "text/plain": [
       "<Figure size 1296x432 with 1 Axes>"
      ]
     },
     "metadata": {
      "needs_background": "light"
     },
     "output_type": "display_data"
    }
   ],
   "source": [
    "# create corpus 0 => not\n",
    "corpus = create_corpus(0)\n",
    "dic = defaultdict(int)\n",
    "for word in corpus:\n",
    "    if word in stop:\n",
    "        dic[word] += 1\n",
    "\n",
    "top = sorted(dic.items(), key=lambda x: x[1], reverse=True)[:10]\n",
    "\n",
    "# then plot stop words \n",
    "plt.rcParams['figure.figsize'] = (18.0, 6.0)\n",
    "x, y = zip(*top)\n",
    "plt.bar(x, y)"
   ]
  },
  {
   "cell_type": "code",
   "execution_count": 13,
   "metadata": {
    "execution": {
     "iopub.execute_input": "2020-09-21T14:40:12.035413Z",
     "iopub.status.busy": "2020-09-21T14:40:12.034422Z",
     "iopub.status.idle": "2020-09-21T14:40:12.215838Z",
     "shell.execute_reply": "2020-09-21T14:40:12.216307Z"
    },
    "papermill": {
     "duration": 0.236558,
     "end_time": "2020-09-21T14:40:12.216431",
     "exception": false,
     "start_time": "2020-09-21T14:40:11.979873",
     "status": "completed"
    },
    "tags": []
   },
   "outputs": [
    {
     "data": {
      "text/plain": [
       "<BarContainer object of 10 artists>"
      ]
     },
     "execution_count": 13,
     "metadata": {},
     "output_type": "execute_result"
    },
    {
     "data": {
      "image/png": "[encoded data removed]",
      "text/plain": [
       "<Figure size 1296x432 with 1 Axes>"
      ]
     },
     "metadata": {
      "needs_background": "light"
     },
     "output_type": "display_data"
    }
   ],
   "source": [
    "# create corpus 1 => real\n",
    "corpus = create_corpus(1)\n",
    "\n",
    "dic = defaultdict(int)\n",
    "for word in corpus:\n",
    "    if word in stop:\n",
    "        dic[word] += 1\n",
    "\n",
    "top = sorted(dic.items(), key=lambda x: x[1], reverse=True)[:10]\n",
    "\n",
    "plt.rcParams['figure.figsize'] = (18.0, 6.0)\n",
    "x, y = zip(*top)\n",
    "plt.bar(x, y)"
   ]
  },
  {
   "cell_type": "code",
   "execution_count": 14,
   "metadata": {
    "execution": {
     "iopub.execute_input": "2020-09-21T14:40:12.321643Z",
     "iopub.status.busy": "2020-09-21T14:40:12.320865Z",
     "iopub.status.idle": "2020-09-21T14:40:12.544409Z",
     "shell.execute_reply": "2020-09-21T14:40:12.544905Z"
    },
    "papermill": {
     "duration": 0.280182,
     "end_time": "2020-09-21T14:40:12.545042",
     "exception": false,
     "start_time": "2020-09-21T14:40:12.264860",
     "status": "completed"
    },
    "tags": []
   },
   "outputs": [
    {
     "data": {
      "text/plain": [
       "<BarContainer object of 20 artists>"
      ]
     },
     "execution_count": 14,
     "metadata": {},
     "output_type": "execute_result"
    },
    {
     "data": {
      "image/png": "[encoded data removed]",
      "text/plain": [
       "<Figure size 1152x360 with 1 Axes>"
      ]
     },
     "metadata": {
      "needs_background": "light"
     },
     "output_type": "display_data"
    }
   ],
   "source": [
    "# punctuation 0 => not\n",
    "plt.figure(figsize=(16, 5))\n",
    "corpus = create_corpus(0)\n",
    "dic = defaultdict(int)\n",
    "special = string.punctuation\n",
    "for i in (corpus):\n",
    "    if i in special:\n",
    "        dic[i] += 1\n",
    "x, y = zip(*dic.items())\n",
    "plt.bar(x, y)"
   ]
  },
  {
   "cell_type": "code",
   "execution_count": 15,
   "metadata": {
    "execution": {
     "iopub.execute_input": "2020-09-21T14:40:12.663249Z",
     "iopub.status.busy": "2020-09-21T14:40:12.661302Z",
     "iopub.status.idle": "2020-09-21T14:40:12.873403Z",
     "shell.execute_reply": "2020-09-21T14:40:12.873855Z"
    },
    "papermill": {
     "duration": 0.275385,
     "end_time": "2020-09-21T14:40:12.874029",
     "exception": false,
     "start_time": "2020-09-21T14:40:12.598644",
     "status": "completed"
    },
    "tags": []
   },
   "outputs": [
    {
     "data": {
      "text/plain": [
       "<BarContainer object of 18 artists>"
      ]
     },
     "execution_count": 15,
     "metadata": {},
     "output_type": "execute_result"
    },
    {
     "data": {
      "image/png": "[encoded data removed]",
      "text/plain": [
       "<Figure size 1152x360 with 1 Axes>"
      ]
     },
     "metadata": {
      "needs_background": "light"
     },
     "output_type": "display_data"
    }
   ],
   "source": [
    "# punctuation 1 => Real\n",
    "plt.figure(figsize=(16, 5))\n",
    "corpus = create_corpus(1)\n",
    "dic = defaultdict(int)\n",
    "special = string.punctuation\n",
    "for i in (corpus):\n",
    "    if i in special:\n",
    "        dic[i] += 1\n",
    "\n",
    "x, y = zip(*dic.items())\n",
    "plt.bar(x, y)"
   ]
  },
  {
   "cell_type": "code",
   "execution_count": 16,
   "metadata": {
    "execution": {
     "iopub.execute_input": "2020-09-21T14:40:12.997656Z",
     "iopub.status.busy": "2020-09-21T14:40:12.996832Z",
     "iopub.status.idle": "2020-09-21T14:40:13.188296Z",
     "shell.execute_reply": "2020-09-21T14:40:13.188845Z"
    },
    "papermill": {
     "duration": 0.262767,
     "end_time": "2020-09-21T14:40:13.188975",
     "exception": false,
     "start_time": "2020-09-21T14:40:12.926208",
     "status": "completed"
    },
    "tags": []
   },
   "outputs": [
    {
     "data": {
      "text/plain": [
       "<matplotlib.axes._subplots.AxesSubplot at 0x7f0132f0acd0>"
      ]
     },
     "execution_count": 16,
     "metadata": {},
     "output_type": "execute_result"
    },
    {
     "data": {
      "image/png": "[encoded data removed]",
      "text/plain": [
       "<Figure size 1152x360 with 1 Axes>"
      ]
     },
     "metadata": {
      "needs_background": "light"
     },
     "output_type": "display_data"
    }
   ],
   "source": [
    "# common words\n",
    "plt.figure(figsize=(16, 5))\n",
    "counter = Counter(corpus)\n",
    "most = counter.most_common()\n",
    "x = []\n",
    "y = []\n",
    "for word, count in most[:40]:\n",
    "    if (word not in stop):\n",
    "        x.append(word)\n",
    "        y.append(count)\n",
    "sns.barplot(x=y, y=x)"
   ]
  },
  {
   "cell_type": "code",
   "execution_count": 17,
   "metadata": {
    "execution": {
     "iopub.execute_input": "2020-09-21T14:40:13.318651Z",
     "iopub.status.busy": "2020-09-21T14:40:13.303237Z",
     "iopub.status.idle": "2020-09-21T14:40:14.263456Z",
     "shell.execute_reply": "2020-09-21T14:40:14.263958Z"
    },
    "papermill": {
     "duration": 1.021209,
     "end_time": "2020-09-21T14:40:14.264088",
     "exception": false,
     "start_time": "2020-09-21T14:40:13.242879",
     "status": "completed"
    },
    "tags": []
   },
   "outputs": [
    {
     "data": {
      "text/plain": [
       "<matplotlib.axes._subplots.AxesSubplot at 0x7f0136f1be90>"
      ]
     },
     "execution_count": 17,
     "metadata": {},
     "output_type": "execute_result"
    },
    {
     "data": {
      "image/png": "[encoded data removed]",
      "text/plain": [
       "<Figure size 1152x360 with 1 Axes>"
      ]
     },
     "metadata": {
      "needs_background": "light"
     },
     "output_type": "display_data"
    }
   ],
   "source": [
    "# N-gram analysis 多变量分析\n",
    "def get_top_tweet_bigrams(corpus, n=None):\n",
    "    vec = CountVectorizer(ngram_range=(2, 2)).fit(corpus)\n",
    "    bag_of_words = vec.transform(corpus)\n",
    "    sum_words = bag_of_words.sum(axis=0)\n",
    "    words_freq = [(word, sum_words[0, idx]) for word, idx in vec.vocabulary_.items()]\n",
    "    words_freq = sorted(words_freq, key=lambda x: x[1], reverse=True)\n",
    "    return words_freq[:n]\n",
    "\n",
    "plt.figure(figsize=(16, 5))\n",
    "top_tweet_bigrams = get_top_tweet_bigrams(tweet['text'])[:10]\n",
    "x, y = map(list, zip(*top_tweet_bigrams))\n",
    "sns.barplot(x=y, y=x)"
   ]
  },
  {
   "cell_type": "markdown",
   "metadata": {
    "papermill": {
     "duration": 0.052501,
     "end_time": "2020-09-21T14:40:14.376703",
     "exception": false,
     "start_time": "2020-09-21T14:40:14.324202",
     "status": "completed"
    },
    "tags": []
   },
   "source": [
    "## Data cleaning\n",
    "\n",
    "* concat\n",
    "* remove\n",
    "    * url\n",
    "    * html tag\n",
    "    * emojis\n",
    "    * punctuations"
   ]
  },
  {
   "cell_type": "code",
   "execution_count": 18,
   "metadata": {
    "execution": {
     "iopub.execute_input": "2020-09-21T14:40:14.487004Z",
     "iopub.status.busy": "2020-09-21T14:40:14.486227Z",
     "iopub.status.idle": "2020-09-21T14:40:14.488740Z",
     "shell.execute_reply": "2020-09-21T14:40:14.489182Z"
    },
    "papermill": {
     "duration": 0.059635,
     "end_time": "2020-09-21T14:40:14.489302",
     "exception": false,
     "start_time": "2020-09-21T14:40:14.429667",
     "status": "completed"
    },
    "tags": []
   },
   "outputs": [],
   "source": [
    "import re"
   ]
  },
  {
   "cell_type": "code",
   "execution_count": 19,
   "metadata": {
    "execution": {
     "iopub.execute_input": "2020-09-21T14:40:14.600074Z",
     "iopub.status.busy": "2020-09-21T14:40:14.599196Z",
     "iopub.status.idle": "2020-09-21T14:40:14.606540Z",
     "shell.execute_reply": "2020-09-21T14:40:14.606072Z"
    },
    "papermill": {
     "duration": 0.064416,
     "end_time": "2020-09-21T14:40:14.606634",
     "exception": false,
     "start_time": "2020-09-21T14:40:14.542218",
     "status": "completed"
    },
    "tags": []
   },
   "outputs": [
    {
     "data": {
      "text/plain": [
       "(10876, 6)"
      ]
     },
     "execution_count": 19,
     "metadata": {},
     "output_type": "execute_result"
    }
   ],
   "source": [
    "# concat\n",
    "df = pd.concat([tweet, test])\n",
    "df.shape"
   ]
  },
  {
   "cell_type": "code",
   "execution_count": 20,
   "metadata": {
    "execution": {
     "iopub.execute_input": "2020-09-21T14:40:14.739739Z",
     "iopub.status.busy": "2020-09-21T14:40:14.729352Z",
     "iopub.status.idle": "2020-09-21T14:40:14.943000Z",
     "shell.execute_reply": "2020-09-21T14:40:14.943479Z"
    },
    "papermill": {
     "duration": 0.283407,
     "end_time": "2020-09-21T14:40:14.943595",
     "exception": false,
     "start_time": "2020-09-21T14:40:14.660188",
     "status": "completed"
    },
    "tags": []
   },
   "outputs": [],
   "source": [
    "# method\n",
    "def remove_URL(text):\n",
    "    url = re.compile(r'https?://\\S+|www\\.\\S+')\n",
    "    return url.sub(r'', text)\n",
    "def remove_html(text):\n",
    "    html = re.compile(r'<.*?>')\n",
    "    return html.sub(r'', text)\n",
    "def remove_emoji(text):\n",
    "    emoji_pattern = re.compile(\"[\"\n",
    "                           u\"\\U0001F600-\\U0001F64F\"  # emoticons\n",
    "                           u\"\\U0001F300-\\U0001F5FF\"  # symbols & pictographs\n",
    "                           u\"\\U0001F680-\\U0001F6FF\"  # transport & map symbols\n",
    "                           u\"\\U0001F1E0-\\U0001F1FF\"  # flags (iOS)\n",
    "                           u\"\\U00002702-\\U000027B0\"\n",
    "                           u\"\\U000024C2-\\U0001F251\"\n",
    "                           \"]+\", flags=re.UNICODE)\n",
    "    return emoji_pattern.sub(r'', text)\n",
    "def remove_punct(text):\n",
    "    table = str.maketrans('', '', string.punctuation)\n",
    "    return text.translate(table)\n",
    "\n",
    "# use apply to remove\n",
    "df['text'] = df['text'].apply(lambda x: remove_URL(x))\n",
    "df['text'] = df['text'].apply(lambda x: remove_html(x))\n",
    "df['text'] = df['text'].apply(lambda x: remove_emoji(x))\n",
    "df['text'] = df['text'].apply(lambda x: remove_punct(x))"
   ]
  },
  {
   "cell_type": "markdown",
   "metadata": {
    "papermill": {
     "duration": 0.055119,
     "end_time": "2020-09-21T14:40:15.052543",
     "exception": false,
     "start_time": "2020-09-21T14:40:14.997424",
     "status": "completed"
    },
    "tags": []
   },
   "source": [
    "### Word Cloud (EDA)"
   ]
  },
  {
   "cell_type": "code",
   "execution_count": 21,
   "metadata": {
    "execution": {
     "iopub.execute_input": "2020-09-21T14:40:15.168163Z",
     "iopub.status.busy": "2020-09-21T14:40:15.167557Z",
     "iopub.status.idle": "2020-09-21T14:40:15.212177Z",
     "shell.execute_reply": "2020-09-21T14:40:15.211449Z"
    },
    "papermill": {
     "duration": 0.105173,
     "end_time": "2020-09-21T14:40:15.212289",
     "exception": false,
     "start_time": "2020-09-21T14:40:15.107116",
     "status": "completed"
    },
    "tags": []
   },
   "outputs": [],
   "source": [
    "from wordcloud import WordCloud"
   ]
  },
  {
   "cell_type": "code",
   "execution_count": 22,
   "metadata": {
    "execution": {
     "iopub.execute_input": "2020-09-21T14:40:15.331129Z",
     "iopub.status.busy": "2020-09-21T14:40:15.330298Z",
     "iopub.status.idle": "2020-09-21T14:40:15.347613Z",
     "shell.execute_reply": "2020-09-21T14:40:15.347059Z"
    },
    "papermill": {
     "duration": 0.076738,
     "end_time": "2020-09-21T14:40:15.347721",
     "exception": false,
     "start_time": "2020-09-21T14:40:15.270983",
     "status": "completed"
    },
    "tags": []
   },
   "outputs": [
    {
     "data": {
      "text/plain": [
       "46269"
      ]
     },
     "execution_count": 22,
     "metadata": {},
     "output_type": "execute_result"
    }
   ],
   "source": [
    "corpus_new1 = create_corpus_df(df, 1)\n",
    "len(corpus_new1)"
   ]
  },
  {
   "cell_type": "code",
   "execution_count": 23,
   "metadata": {
    "execution": {
     "iopub.execute_input": "2020-09-21T14:40:15.492722Z",
     "iopub.status.busy": "2020-09-21T14:40:15.482322Z",
     "iopub.status.idle": "2020-09-21T14:40:16.300876Z",
     "shell.execute_reply": "2020-09-21T14:40:16.301355Z"
    },
    "papermill": {
     "duration": 0.899705,
     "end_time": "2020-09-21T14:40:16.301497",
     "exception": false,
     "start_time": "2020-09-21T14:40:15.401792",
     "status": "completed"
    },
    "tags": []
   },
   "outputs": [
    {
     "data": {
      "image/png": "[encoded data removed]",
      "text/plain": [
       "<Figure size 864x576 with 1 Axes>"
      ]
     },
     "metadata": {
      "needs_background": "light"
     },
     "output_type": "display_data"
    }
   ],
   "source": [
    "plt.figure(figsize=(12, 8))\n",
    "word_cloud = WordCloud(\n",
    "    background_color='black',\n",
    "    max_font_size=80\n",
    ").generate(' '.join(corpus_new1))\n",
    "plt.imshow(word_cloud)\n",
    "plt.show()"
   ]
  },
  {
   "cell_type": "code",
   "execution_count": 24,
   "metadata": {
    "execution": {
     "iopub.execute_input": "2020-09-21T14:40:16.428652Z",
     "iopub.status.busy": "2020-09-21T14:40:16.427843Z",
     "iopub.status.idle": "2020-09-21T14:40:16.449154Z",
     "shell.execute_reply": "2020-09-21T14:40:16.448654Z"
    },
    "papermill": {
     "duration": 0.086005,
     "end_time": "2020-09-21T14:40:16.449255",
     "exception": false,
     "start_time": "2020-09-21T14:40:16.363250",
     "status": "completed"
    },
    "tags": []
   },
   "outputs": [
    {
     "data": {
      "text/plain": [
       "60478"
      ]
     },
     "execution_count": 24,
     "metadata": {},
     "output_type": "execute_result"
    }
   ],
   "source": [
    "corpus_new0 = create_corpus_df(df, 0)\n",
    "len(corpus_new0)"
   ]
  },
  {
   "cell_type": "markdown",
   "metadata": {
    "papermill": {
     "duration": 0.061422,
     "end_time": "2020-09-21T14:40:16.571627",
     "exception": false,
     "start_time": "2020-09-21T14:40:16.510205",
     "status": "completed"
    },
    "tags": []
   },
   "source": [
    "## Model\n",
    "\n",
    "\n",
    "### prework\n",
    "* model prework \n",
    "* train test split\n",
    "\n",
    "### embedding [use some ways to extract features]\n",
    "* build\n",
    "* visualize\n",
    "* use tf-idf ==> get word vec\n",
    "* use GloVe to embedding => 全局的，固定词典\n",
    "    * base model based on GloVe\n",
    "    * train test split\n"
   ]
  },
  {
   "cell_type": "code",
   "execution_count": 25,
   "metadata": {
    "execution": {
     "iopub.execute_input": "2020-09-21T14:40:16.699590Z",
     "iopub.status.busy": "2020-09-21T14:40:16.698849Z",
     "iopub.status.idle": "2020-09-21T14:40:22.387322Z",
     "shell.execute_reply": "2020-09-21T14:40:22.386662Z"
    },
    "papermill": {
     "duration": 5.754087,
     "end_time": "2020-09-21T14:40:22.387446",
     "exception": false,
     "start_time": "2020-09-21T14:40:16.633359",
     "status": "completed"
    },
    "tags": []
   },
   "outputs": [],
   "source": [
    "from sklearn.model_selection import train_test_split\n",
    "\n",
    "# embedding => use following some ways to extract features\n",
    "from sklearn.decomposition import PCA, TruncatedSVD\n",
    "\n",
    "import matplotlib\n",
    "\n",
    "from sklearn.feature_extraction.text import TfidfVectorizer, CountVectorizer\n",
    "\n",
    "from keras.preprocessing.text import Tokenizer\n",
    "from keras.preprocessing.sequence import pad_sequences"
   ]
  },
  {
   "cell_type": "code",
   "execution_count": 26,
   "metadata": {
    "execution": {
     "iopub.execute_input": "2020-09-21T14:40:22.524595Z",
     "iopub.status.busy": "2020-09-21T14:40:22.519321Z",
     "iopub.status.idle": "2020-09-21T14:40:22.798374Z",
     "shell.execute_reply": "2020-09-21T14:40:22.797843Z"
    },
    "papermill": {
     "duration": 0.349462,
     "end_time": "2020-09-21T14:40:22.798476",
     "exception": false,
     "start_time": "2020-09-21T14:40:22.449014",
     "status": "completed"
    },
    "tags": []
   },
   "outputs": [],
   "source": [
    "def cv(data):\n",
    "    count_vectorizer = CountVectorizer()\n",
    "\n",
    "    emb = count_vectorizer.fit_transform(data)\n",
    "\n",
    "    return emb, count_vectorizer\n",
    "\n",
    "list_corpus = df[\"text\"].tolist()\n",
    "list_labels = df[\"target\"].tolist()\n",
    "\n",
    "X_train, X_test, y_train, y_test = train_test_split(list_corpus, list_labels, test_size=0.2, \n",
    "                                                                                random_state=2)\n",
    "\n",
    "X_train_counts, count_vectorizer = cv(X_train)\n",
    "X_test_counts = count_vectorizer.transform(X_test)"
   ]
  },
  {
   "cell_type": "code",
   "execution_count": 27,
   "metadata": {
    "execution": {
     "iopub.execute_input": "2020-09-21T14:40:22.934850Z",
     "iopub.status.busy": "2020-09-21T14:40:22.933704Z",
     "iopub.status.idle": "2020-09-21T14:40:22.939316Z",
     "shell.execute_reply": "2020-09-21T14:40:22.938782Z"
    },
    "papermill": {
     "duration": 0.079689,
     "end_time": "2020-09-21T14:40:22.939417",
     "exception": false,
     "start_time": "2020-09-21T14:40:22.859728",
     "status": "completed"
    },
    "tags": []
   },
   "outputs": [
    {
     "data": {
      "text/plain": [
       "<Figure size 1152x1152 with 0 Axes>"
      ]
     },
     "metadata": {},
     "output_type": "display_data"
    }
   ],
   "source": [
    "# visual embedding\n",
    "# def plot_LSA(test_data, test_labels, savepath='PCA_demo.csv', plot=True):\n",
    "#     # latent sematic analysis 隐形语义分析 => 进行奇异值分解之后得到的左边的就是词向量\n",
    "#     lsa = TruncatedSVD(n_components=2)\n",
    "#     lsa.fit(test_data)\n",
    "#     lsa_scores = lsa.transform(test_data)\n",
    "#     color_mapper = {\n",
    "#         label: idx for idx, label in enumerate(set(test_labels))\n",
    "#     }\n",
    "#     color_column = [color_mapper[label] for label in test_labels]\n",
    "#     colors = ['orange', 'blue']\n",
    "#     if plot:\n",
    "#         plt.scatter(lsa_scores[:, 0], lsa_scores[:, 1], s=8, alpha=.8, c=test_labels, cmap=matplotlib.colors.ListedColormap(colors))\n",
    "#         orange_patch = mpatches.Patch(color='orange', label='Not')\n",
    "#         blue_patch = mpatches.Patch(color='blue', label='Real')\n",
    "#         plt.legend(handles=[orange_patch, blue_patch], prop={'size': 30})\n",
    "def plot_LSA(test_data, test_labels, savepath=\"PCA_demo.csv\", plot=True):\n",
    "    lsa = TruncatedSVD(n_components=2)\n",
    "    lsa.fit(test_data)\n",
    "    lsa_scores = lsa.transform(test_data)\n",
    "    color_mapper = {label:idx for idx,label in enumerate(set(test_labels))}\n",
    "    color_column = [color_mapper[label] for label in test_labels]\n",
    "    colors = ['orange','blue']\n",
    "    if plot:\n",
    "        plt.scatter(lsa_scores[:,0], lsa_scores[:,1], s=8, alpha=.8, c=test_labels, cmap=matplotlib.colors.ListedColormap(colors))\n",
    "        orange_patch = mpatches.Patch(color='orange', label='Not')\n",
    "        blue_patch = mpatches.Patch(color='blue', label='Real')\n",
    "        plt.legend(handles=[orange_patch, blue_patch], prop={'size': 30})\n",
    "\n",
    "\n",
    "fig = plt.figure(figsize=(16, 16))\n",
    "# plot_LSA(X_train_counts, y_train)\n",
    "plt.show()"
   ]
  },
  {
   "cell_type": "code",
   "execution_count": 28,
   "metadata": {
    "execution": {
     "iopub.execute_input": "2020-09-21T14:40:23.089337Z",
     "iopub.status.busy": "2020-09-21T14:40:23.084198Z",
     "iopub.status.idle": "2020-09-21T14:40:23.389122Z",
     "shell.execute_reply": "2020-09-21T14:40:23.390019Z"
    },
    "papermill": {
     "duration": 0.387952,
     "end_time": "2020-09-21T14:40:23.390254",
     "exception": false,
     "start_time": "2020-09-21T14:40:23.002302",
     "status": "completed"
    },
    "tags": []
   },
   "outputs": [
    {
     "data": {
      "text/plain": [
       "<Figure size 1152x1152 with 0 Axes>"
      ]
     },
     "metadata": {},
     "output_type": "display_data"
    }
   ],
   "source": [
    "def tfidf(data):\n",
    "    tfidf_vectorizer = TfidfVectorizer()\n",
    "    train = tfidf_vectorizer.fit_transform(data)\n",
    "    return train, tfidf_vectorizer\n",
    "\n",
    "X_train_tfidf, tfidf_vectorizer = tfidf(X_train)\n",
    "X_test_tfidf = tfidf_vectorizer.transform(X_test)\n",
    "\n",
    "fig = plt.figure(figsize=(16, 16))\n",
    "# plot_LSA(X_train_tfidf, y_train)\n",
    "plt.show()"
   ]
  },
  {
   "cell_type": "code",
   "execution_count": 29,
   "metadata": {
    "execution": {
     "iopub.execute_input": "2020-09-21T14:40:23.597000Z",
     "iopub.status.busy": "2020-09-21T14:40:23.596032Z",
     "iopub.status.idle": "2020-09-21T14:40:25.947016Z",
     "shell.execute_reply": "2020-09-21T14:40:25.946483Z"
    },
    "papermill": {
     "duration": 2.457982,
     "end_time": "2020-09-21T14:40:25.947119",
     "exception": false,
     "start_time": "2020-09-21T14:40:23.489137",
     "status": "completed"
    },
    "tags": []
   },
   "outputs": [
    {
     "name": "stderr",
     "output_type": "stream",
     "text": [
      "100%|██████████| 10876/10876 [00:02<00:00, 4646.35it/s]\n"
     ]
    }
   ],
   "source": [
    "# GloVe => have three dim(50d, 100d, 200d) => then use 100d here\n",
    "# first to create **lowercase only** corpus\n",
    "def create_corpus_new(df):\n",
    "    corpus = []\n",
    "    for tweet in tqdm(df['text']):\n",
    "        words = [word.lower() for word in word_tokenize(tweet)]\n",
    "        corpus.append(words)\n",
    "    return corpus\n",
    "corpus = create_corpus_new(df)"
   ]
  },
  {
   "cell_type": "code",
   "execution_count": 30,
   "metadata": {
    "execution": {
     "iopub.execute_input": "2020-09-21T14:40:26.098418Z",
     "iopub.status.busy": "2020-09-21T14:40:26.097834Z",
     "iopub.status.idle": "2020-09-21T14:40:45.296909Z",
     "shell.execute_reply": "2020-09-21T14:40:45.295489Z"
    },
    "papermill": {
     "duration": 19.277423,
     "end_time": "2020-09-21T14:40:45.297038",
     "exception": false,
     "start_time": "2020-09-21T14:40:26.019615",
     "status": "completed"
    },
    "tags": []
   },
   "outputs": [],
   "source": [
    "embedding_dict = {}\n",
    "# get glove 100b txt \n",
    "with open('../input/glove-global-vectors-for-word-representation/glove.6B.100d.txt', 'r') as f:\n",
    "    for line in f:\n",
    "        values = line.split()\n",
    "        word = values[0]\n",
    "        vectors = np.asarray(values[1:], 'float32')\n",
    "        embedding_dict[word] = vectors\n",
    "f.close()"
   ]
  },
  {
   "cell_type": "code",
   "execution_count": 31,
   "metadata": {
    "execution": {
     "iopub.execute_input": "2020-09-21T14:40:45.476761Z",
     "iopub.status.busy": "2020-09-21T14:40:45.461430Z",
     "iopub.status.idle": "2020-09-21T14:40:45.967196Z",
     "shell.execute_reply": "2020-09-21T14:40:45.967719Z"
    },
    "papermill": {
     "duration": 0.596737,
     "end_time": "2020-09-21T14:40:45.967856",
     "exception": false,
     "start_time": "2020-09-21T14:40:45.371119",
     "status": "completed"
    },
    "tags": []
   },
   "outputs": [
    {
     "name": "stdout",
     "output_type": "stream",
     "text": [
      "Number of unique words:  22807\n"
     ]
    }
   ],
   "source": [
    "MAX_LEN = 50\n",
    "tokenizer_obj = Tokenizer()\n",
    "tokenizer_obj.fit_on_texts(corpus)\n",
    "sequences = tokenizer_obj.texts_to_sequences(corpus)\n",
    "\n",
    "tweet_pad = pad_sequences(sequences, maxlen=MAX_LEN, truncating='post', padding='post')\n",
    "\n",
    "word_index = tokenizer_obj.word_index\n",
    "print('Number of unique words: ', len(word_index))"
   ]
  },
  {
   "cell_type": "code",
   "execution_count": 32,
   "metadata": {
    "execution": {
     "iopub.execute_input": "2020-09-21T14:40:46.126493Z",
     "iopub.status.busy": "2020-09-21T14:40:46.125622Z",
     "iopub.status.idle": "2020-09-21T14:40:46.195371Z",
     "shell.execute_reply": "2020-09-21T14:40:46.195968Z"
    },
    "papermill": {
     "duration": 0.153797,
     "end_time": "2020-09-21T14:40:46.196145",
     "exception": false,
     "start_time": "2020-09-21T14:40:46.042348",
     "status": "completed"
    },
    "tags": []
   },
   "outputs": [
    {
     "name": "stderr",
     "output_type": "stream",
     "text": [
      "100%|██████████| 22807/22807 [00:00<00:00, 352974.03it/s]\n"
     ]
    }
   ],
   "source": [
    "num_words = len(word_index)+1\n",
    "embedding_matrix = np.zeros((num_words, 100))\n",
    "for word, i in tqdm(word_index.items()):\n",
    "    if i < num_words:\n",
    "        emb_vec = embedding_dict.get(word)\n",
    "        if emb_vec is not None:\n",
    "            embedding_matrix[i] = emb_vec"
   ]
  },
  {
   "cell_type": "code",
   "execution_count": 33,
   "metadata": {
    "execution": {
     "iopub.execute_input": "2020-09-21T14:40:46.358263Z",
     "iopub.status.busy": "2020-09-21T14:40:46.357582Z",
     "iopub.status.idle": "2020-09-21T14:40:46.362066Z",
     "shell.execute_reply": "2020-09-21T14:40:46.361497Z"
    },
    "papermill": {
     "duration": 0.087963,
     "end_time": "2020-09-21T14:40:46.362175",
     "exception": false,
     "start_time": "2020-09-21T14:40:46.274212",
     "status": "completed"
    },
    "tags": []
   },
   "outputs": [],
   "source": [
    "# model dependencies\n",
    "from keras.models import Model, Sequential\n",
    "from keras.layers import Embedding, SpatialDropout1D, LSTM, Dense\n",
    "from keras.optimizers import Adam\n",
    "from keras.initializers import Constant\n",
    "\n",
    "# train test split\n",
    "from sklearn.model_selection import train_test_split"
   ]
  },
  {
   "cell_type": "code",
   "execution_count": 34,
   "metadata": {
    "execution": {
     "iopub.execute_input": "2020-09-21T14:40:46.518054Z",
     "iopub.status.busy": "2020-09-21T14:40:46.517458Z",
     "iopub.status.idle": "2020-09-21T14:40:50.026233Z",
     "shell.execute_reply": "2020-09-21T14:40:50.026738Z"
    },
    "papermill": {
     "duration": 3.589943,
     "end_time": "2020-09-21T14:40:50.026883",
     "exception": false,
     "start_time": "2020-09-21T14:40:46.436940",
     "status": "completed"
    },
    "tags": []
   },
   "outputs": [
    {
     "name": "stdout",
     "output_type": "stream",
     "text": [
      "Model: \"sequential\"\n",
      "_________________________________________________________________\n",
      "Layer (type)                 Output Shape              Param #   \n",
      "=================================================================\n",
      "embedding (Embedding)        (None, 50, 100)           2280800   \n",
      "_________________________________________________________________\n",
      "spatial_dropout1d (SpatialDr (None, 50, 100)           0         \n",
      "_________________________________________________________________\n",
      "lstm (LSTM)                  (None, 100)               80400     \n",
      "_________________________________________________________________\n",
      "dense (Dense)                (None, 1)                 101       \n",
      "=================================================================\n",
      "Total params: 2,361,301\n",
      "Trainable params: 80,501\n",
      "Non-trainable params: 2,280,800\n",
      "_________________________________________________________________\n"
     ]
    }
   ],
   "source": [
    "model = Sequential()\n",
    "\n",
    "model.add(Embedding(num_words, 100, embeddings_initializer=Constant(embedding_matrix), input_length=MAX_LEN, trainable=False))\n",
    "model.add(SpatialDropout1D(0.2))\n",
    "model.add(LSTM(100, dropout=0.2, recurrent_dropout=0.2))\n",
    "model.add(Dense(1, activation='sigmoid'))\n",
    "\n",
    "optimizer = Adam(learning_rate=3e-4)\n",
    "model.compile(loss='binary_crossentropy', optimizer=optimizer, metrics=['accuracy'])\n",
    "model.summary()"
   ]
  },
  {
   "cell_type": "code",
   "execution_count": 35,
   "metadata": {
    "execution": {
     "iopub.execute_input": "2020-09-21T14:40:50.219059Z",
     "iopub.status.busy": "2020-09-21T14:40:50.218148Z",
     "iopub.status.idle": "2020-09-21T14:40:50.225542Z",
     "shell.execute_reply": "2020-09-21T14:40:50.225052Z"
    },
    "papermill": {
     "duration": 0.123157,
     "end_time": "2020-09-21T14:40:50.225637",
     "exception": false,
     "start_time": "2020-09-21T14:40:50.102480",
     "status": "completed"
    },
    "tags": []
   },
   "outputs": [
    {
     "data": {
      "text/plain": [
       "((6090, 50), (1523, 50))"
      ]
     },
     "execution_count": 35,
     "metadata": {},
     "output_type": "execute_result"
    }
   ],
   "source": [
    "# extract valid content\n",
    "train = tweet_pad[:tweet.shape[0]]\n",
    "test = tweet_pad[:tweet.shape[0]:]\n",
    "# then train test split\n",
    "X_train, X_test, y_train, y_test = train_test_split(train, tweet['target'].values, test_size=0.2)\n",
    "X_train.shape, X_test.shape"
   ]
  },
  {
   "cell_type": "code",
   "execution_count": 36,
   "metadata": {
    "execution": {
     "iopub.execute_input": "2020-09-21T14:40:50.381004Z",
     "iopub.status.busy": "2020-09-21T14:40:50.380018Z",
     "iopub.status.idle": "2020-09-21T14:40:50.385802Z",
     "shell.execute_reply": "2020-09-21T14:40:50.385112Z"
    },
    "papermill": {
     "duration": 0.083983,
     "end_time": "2020-09-21T14:40:50.385981",
     "exception": false,
     "start_time": "2020-09-21T14:40:50.301998",
     "status": "completed"
    },
    "tags": []
   },
   "outputs": [],
   "source": [
    "# test plot\n",
    "# fig = plot_LSA(train, tweet['target'])\n",
    "plt.show()"
   ]
  },
  {
   "cell_type": "code",
   "execution_count": 37,
   "metadata": {
    "execution": {
     "iopub.execute_input": "2020-09-21T14:40:50.542072Z",
     "iopub.status.busy": "2020-09-21T14:40:50.541483Z",
     "iopub.status.idle": "2020-09-21T15:26:43.857611Z",
     "shell.execute_reply": "2020-09-21T15:26:43.858424Z"
    },
    "papermill": {
     "duration": 2753.396346,
     "end_time": "2020-09-21T15:26:43.858648",
     "exception": false,
     "start_time": "2020-09-21T14:40:50.462302",
     "status": "completed"
    },
    "tags": []
   },
   "outputs": [
    {
     "name": "stdout",
     "output_type": "stream",
     "text": [
      "Epoch 1/10\n",
      "1523/1523 - 274s - loss: 0.5257 - accuracy: 0.7488 - val_loss: 0.4765 - val_accuracy: 0.7846\n",
      "Epoch 2/10\n",
      "1523/1523 - 273s - loss: 0.4789 - accuracy: 0.7842 - val_loss: 0.4976 - val_accuracy: 0.7912\n",
      "Epoch 3/10\n",
      "1523/1523 - 273s - loss: 0.4782 - accuracy: 0.7865 - val_loss: 0.4898 - val_accuracy: 0.7840\n",
      "Epoch 4/10\n",
      "1523/1523 - 278s - loss: 0.4694 - accuracy: 0.7903 - val_loss: 0.4626 - val_accuracy: 0.7925\n",
      "Epoch 5/10\n",
      "1523/1523 - 281s - loss: 0.4638 - accuracy: 0.7885 - val_loss: 0.4579 - val_accuracy: 0.7866\n",
      "Epoch 6/10\n",
      "1523/1523 - 273s - loss: 0.4536 - accuracy: 0.7947 - val_loss: 0.4594 - val_accuracy: 0.7932\n",
      "Epoch 7/10\n",
      "1523/1523 - 274s - loss: 0.4496 - accuracy: 0.7984 - val_loss: 0.4667 - val_accuracy: 0.7899\n",
      "Epoch 8/10\n",
      "1523/1523 - 274s - loss: 0.4402 - accuracy: 0.8018 - val_loss: 0.4534 - val_accuracy: 0.7971\n",
      "Epoch 9/10\n",
      "1523/1523 - 275s - loss: 0.4333 - accuracy: 0.8090 - val_loss: 0.4642 - val_accuracy: 0.8089\n",
      "Epoch 10/10\n",
      "1523/1523 - 271s - loss: 0.4244 - accuracy: 0.8136 - val_loss: 0.4598 - val_accuracy: 0.8063\n"
     ]
    }
   ],
   "source": [
    "# fit\n",
    "history = model.fit(X_train, y_train, batch_size=4, epochs=10, validation_data=(X_test, y_test), verbose=2)"
   ]
  },
  {
   "cell_type": "code",
   "execution_count": 38,
   "metadata": {
    "execution": {
     "iopub.execute_input": "2020-09-21T15:26:44.125787Z",
     "iopub.status.busy": "2020-09-21T15:26:44.124842Z",
     "iopub.status.idle": "2020-09-21T15:26:51.271120Z",
     "shell.execute_reply": "2020-09-21T15:26:51.272048Z"
    },
    "papermill": {
     "duration": 7.28696,
     "end_time": "2020-09-21T15:26:51.272305",
     "exception": false,
     "start_time": "2020-09-21T15:26:43.985345",
     "status": "completed"
    },
    "tags": []
   },
   "outputs": [],
   "source": [
    "# predict\n",
    "train_pred_GloVe = model.predict(train)\n",
    "train_pred_GloVe_int = train_pred_GloVe.round().astype('int')\n",
    "test_pred_GloVe = model.predict(test)\n",
    "test_pred_GloVe_int = test_pred_GloVe.round().astype('int')\n",
    "# len(test), len(test_pred_GloVe), len(test_pred_GloVe_int)"
   ]
  },
  {
   "cell_type": "markdown",
   "metadata": {
    "papermill": {
     "duration": 0.082943,
     "end_time": "2020-09-21T15:26:51.448712",
     "exception": false,
     "start_time": "2020-09-21T15:26:51.365769",
     "status": "completed"
    },
    "tags": []
   },
   "source": [
    "## bert model (using TFHub)\n",
    "\n",
    "* download tokenization.py\n",
    "* load dependencies"
   ]
  },
  {
   "cell_type": "code",
   "execution_count": 39,
   "metadata": {
    "execution": {
     "iopub.execute_input": "2020-09-21T15:26:51.624927Z",
     "iopub.status.busy": "2020-09-21T15:26:51.624133Z",
     "iopub.status.idle": "2020-09-21T15:26:52.632384Z",
     "shell.execute_reply": "2020-09-21T15:26:52.631167Z"
    },
    "papermill": {
     "duration": 1.097917,
     "end_time": "2020-09-21T15:26:52.632509",
     "exception": false,
     "start_time": "2020-09-21T15:26:51.534592",
     "status": "completed"
    },
    "tags": []
   },
   "outputs": [],
   "source": [
    "# get file => tokenization.py\n",
    "!wget --quiet https://raw.githubusercontent.com/tensorflow/models/master/official/nlp/bert/tokenization.py"
   ]
  },
  {
   "cell_type": "code",
   "execution_count": 40,
   "metadata": {
    "execution": {
     "iopub.execute_input": "2020-09-21T15:26:52.800619Z",
     "iopub.status.busy": "2020-09-21T15:26:52.800040Z",
     "iopub.status.idle": "2020-09-21T15:26:53.105325Z",
     "shell.execute_reply": "2020-09-21T15:26:53.104442Z"
    },
    "papermill": {
     "duration": 0.39105,
     "end_time": "2020-09-21T15:26:53.105438",
     "exception": false,
     "start_time": "2020-09-21T15:26:52.714388",
     "status": "completed"
    },
    "tags": []
   },
   "outputs": [],
   "source": [
    "# submission['target'] = test_pred_GloVe_int\n",
    "# submission.head()\n",
    "import tensorflow as tf\n",
    "from keras.layers import Input\n",
    "from keras.optimizers import Adam\n",
    "from keras.callbacks import ModelCheckpoint\n",
    "import tensorflow_hub as hub\n",
    "\n",
    "import tokenization"
   ]
  },
  {
   "cell_type": "code",
   "execution_count": 41,
   "metadata": {
    "execution": {
     "iopub.execute_input": "2020-09-21T15:26:53.299497Z",
     "iopub.status.busy": "2020-09-21T15:26:53.298567Z",
     "iopub.status.idle": "2020-09-21T15:26:53.303887Z",
     "shell.execute_reply": "2020-09-21T15:26:53.304977Z"
    },
    "papermill": {
     "duration": 0.117987,
     "end_time": "2020-09-21T15:26:53.305150",
     "exception": false,
     "start_time": "2020-09-21T15:26:53.187163",
     "status": "completed"
    },
    "tags": []
   },
   "outputs": [],
   "source": [
    "def bert_encode(texts, tokenizer, max_len=512):\n",
    "    \n",
    "    all_tokens = []\n",
    "    all_masks = []\n",
    "    all_segments = []\n",
    "    \n",
    "    for text in texts:\n",
    "        text = tokenizer.tokenize(text)\n",
    "            \n",
    "        text = text[:max_len-2]\n",
    "        input_sequence = [\"[CLS]\"] + text + [\"[SEP]\"]\n",
    "        pad_len = max_len - len(input_sequence)\n",
    "        \n",
    "        tokens = tokenizer.convert_tokens_to_ids(input_sequence)\n",
    "        tokens += [0] * pad_len\n",
    "        pad_masks = [1] * len(input_sequence) + [0] * pad_len\n",
    "        segment_ids = [0] * max_len\n",
    "        \n",
    "        all_tokens.append(tokens)\n",
    "        all_masks.append(pad_masks)\n",
    "        all_segments.append(segment_ids)\n",
    "    \n",
    "    return np.array(all_tokens), np.array(all_masks), np.array(all_segments)"
   ]
  },
  {
   "cell_type": "code",
   "execution_count": 42,
   "metadata": {
    "execution": {
     "iopub.execute_input": "2020-09-21T15:26:53.497888Z",
     "iopub.status.busy": "2020-09-21T15:26:53.495159Z",
     "iopub.status.idle": "2020-09-21T15:26:53.500218Z",
     "shell.execute_reply": "2020-09-21T15:26:53.500644Z"
    },
    "papermill": {
     "duration": 0.095423,
     "end_time": "2020-09-21T15:26:53.500794",
     "exception": false,
     "start_time": "2020-09-21T15:26:53.405371",
     "status": "completed"
    },
    "tags": []
   },
   "outputs": [],
   "source": [
    "# bert build model\n",
    "def build_model(bert_layer, max_len=512):\n",
    "    input_word_ids = Input(shape=(max_len,), dtype=tf.int32, name=\"input_word_ids\")\n",
    "    input_mask = Input(shape=(max_len,), dtype=tf.int32, name=\"input_mask\")\n",
    "    segment_ids = Input(shape=(max_len,), dtype=tf.int32, name=\"segment_ids\")\n",
    "\n",
    "    _, sequence_output = bert_layer([input_word_ids, input_mask, segment_ids])\n",
    "    clf_output = sequence_output[:, 0, :]\n",
    "    \n",
    "    if Dropout_num == 0:\n",
    "        # Without Dropout\n",
    "        out = Dense(1, activation='sigmoid')(clf_output)\n",
    "    else:\n",
    "        # With Dropout(Dropout_num), Dropout_num > 0\n",
    "        x = Dropout(Dropout_num)(clf_output)\n",
    "        out = Dense(1, activation='sigmoid')(x)\n",
    "\n",
    "    model = Model(inputs=[input_word_ids, input_mask, segment_ids], outputs=out)\n",
    "    model.compile(Adam(lr=learning_rate), loss='binary_crossentropy', metrics=['accuracy'])\n",
    "    \n",
    "    return model"
   ]
  },
  {
   "cell_type": "code",
   "execution_count": 43,
   "metadata": {
    "_kg_hide-input": true,
    "execution": {
     "iopub.execute_input": "2020-09-21T15:26:53.686075Z",
     "iopub.status.busy": "2020-09-21T15:26:53.668667Z",
     "iopub.status.idle": "2020-09-21T15:26:53.713363Z",
     "shell.execute_reply": "2020-09-21T15:26:53.713864Z"
    },
    "papermill": {
     "duration": 0.131227,
     "end_time": "2020-09-21T15:26:53.713980",
     "exception": false,
     "start_time": "2020-09-21T15:26:53.582753",
     "status": "completed"
    },
    "tags": []
   },
   "outputs": [],
   "source": [
    "# data cleaning for bert model data format\n",
    "def clean_tweets(tweet):\n",
    "    tweet = ''.join([x for x in tweet if x in string.printable])\n",
    "    # remove url\n",
    "    tweet = re.sub(r'http\\S+', '', tweet)\n",
    "    return tweet\n",
    "\n",
    "def remove_emoji(text):\n",
    "    emoji_pattern = re.compile(\"[\"\n",
    "                           u\"\\U0001F600-\\U0001F64F\"  # emoticons\n",
    "                           u\"\\U0001F300-\\U0001F5FF\"  # symbols & pictographs\n",
    "                           u\"\\U0001F680-\\U0001F6FF\"  # transport & map symbols\n",
    "                           u\"\\U0001F1E0-\\U0001F1FF\"  # flags (iOS)\n",
    "                           u\"\\U00002702-\\U000027B0\"\n",
    "                           u\"\\U000024C2-\\U0001F251\"\n",
    "                           \"]+\", flags=re.UNICODE)\n",
    "    return emoji_pattern.sub(r'', text)\n",
    "\n",
    "def remove_punctuations(text):\n",
    "    punctuations = '@#!?+&*[]-%.:/();$=><|{}^' + \"'`\"\n",
    "    \n",
    "    for p in punctuations:\n",
    "        text = text.replace(p, f' {p} ')\n",
    "\n",
    "    text = text.replace('...', ' ... ')\n",
    "    \n",
    "    if '...' not in text:\n",
    "        text = text.replace('..', ' ... ')\n",
    "    \n",
    "    return text\n",
    "\n",
    "abbreviations = {\n",
    "    \"$\" : \" dollar \",\n",
    "    \"€\" : \" euro \",\n",
    "    \"4ao\" : \"for adults only\",\n",
    "    \"a.m\" : \"before midday\",\n",
    "    \"a3\" : \"anytime anywhere anyplace\",\n",
    "    \"aamof\" : \"as a matter of fact\",\n",
    "    \"acct\" : \"account\",\n",
    "    \"adih\" : \"another day in hell\",\n",
    "    \"afaic\" : \"as far as i am concerned\",\n",
    "    \"afaict\" : \"as far as i can tell\",\n",
    "    \"afaik\" : \"as far as i know\",\n",
    "    \"afair\" : \"as far as i remember\",\n",
    "    \"afk\" : \"away from keyboard\",\n",
    "    \"app\" : \"application\",\n",
    "    \"approx\" : \"approximately\",\n",
    "    \"apps\" : \"applications\",\n",
    "    \"asap\" : \"as soon as possible\",\n",
    "    \"asl\" : \"age, sex, location\",\n",
    "    \"atk\" : \"at the keyboard\",\n",
    "    \"ave.\" : \"avenue\",\n",
    "    \"aymm\" : \"are you my mother\",\n",
    "    \"ayor\" : \"at your own risk\", \n",
    "    \"b&b\" : \"bed and breakfast\",\n",
    "    \"b+b\" : \"bed and breakfast\",\n",
    "    \"b.c\" : \"before christ\",\n",
    "    \"b2b\" : \"business to business\",\n",
    "    \"b2c\" : \"business to customer\",\n",
    "    \"b4\" : \"before\",\n",
    "    \"b4n\" : \"bye for now\",\n",
    "    \"b@u\" : \"back at you\",\n",
    "    \"bae\" : \"before anyone else\",\n",
    "    \"bak\" : \"back at keyboard\",\n",
    "    \"bbbg\" : \"bye bye be good\",\n",
    "    \"bbc\" : \"british broadcasting corporation\",\n",
    "    \"bbias\" : \"be back in a second\",\n",
    "    \"bbl\" : \"be back later\",\n",
    "    \"bbs\" : \"be back soon\",\n",
    "    \"be4\" : \"before\",\n",
    "    \"bfn\" : \"bye for now\",\n",
    "    \"blvd\" : \"boulevard\",\n",
    "    \"bout\" : \"about\",\n",
    "    \"brb\" : \"be right back\",\n",
    "    \"bros\" : \"brothers\",\n",
    "    \"brt\" : \"be right there\",\n",
    "    \"bsaaw\" : \"big smile and a wink\",\n",
    "    \"btw\" : \"by the way\",\n",
    "    \"bwl\" : \"bursting with laughter\",\n",
    "    \"c/o\" : \"care of\",\n",
    "    \"cet\" : \"central european time\",\n",
    "    \"cf\" : \"compare\",\n",
    "    \"cia\" : \"central intelligence agency\",\n",
    "    \"csl\" : \"can not stop laughing\",\n",
    "    \"cu\" : \"see you\",\n",
    "    \"cul8r\" : \"see you later\",\n",
    "    \"cv\" : \"curriculum vitae\",\n",
    "    \"cwot\" : \"complete waste of time\",\n",
    "    \"cya\" : \"see you\",\n",
    "    \"cyt\" : \"see you tomorrow\",\n",
    "    \"dae\" : \"does anyone else\",\n",
    "    \"dbmib\" : \"do not bother me i am busy\",\n",
    "    \"diy\" : \"do it yourself\",\n",
    "    \"dm\" : \"direct message\",\n",
    "    \"dwh\" : \"during work hours\",\n",
    "    \"e123\" : \"easy as one two three\",\n",
    "    \"eet\" : \"eastern european time\",\n",
    "    \"eg\" : \"example\",\n",
    "    \"embm\" : \"early morning business meeting\",\n",
    "    \"encl\" : \"enclosed\",\n",
    "    \"encl.\" : \"enclosed\",\n",
    "    \"etc\" : \"and so on\",\n",
    "    \"faq\" : \"frequently asked questions\",\n",
    "    \"fawc\" : \"for anyone who cares\",\n",
    "    \"fb\" : \"facebook\",\n",
    "    \"fc\" : \"fingers crossed\",\n",
    "    \"fig\" : \"figure\",\n",
    "    \"fimh\" : \"forever in my heart\", \n",
    "    \"ft.\" : \"feet\",\n",
    "    \"ft\" : \"featuring\",\n",
    "    \"ftl\" : \"for the loss\",\n",
    "    \"ftw\" : \"for the win\",\n",
    "    \"fwiw\" : \"for what it is worth\",\n",
    "    \"fyi\" : \"for your information\",\n",
    "    \"g9\" : \"genius\",\n",
    "    \"gahoy\" : \"get a hold of yourself\",\n",
    "    \"gal\" : \"get a life\",\n",
    "    \"gcse\" : \"general certificate of secondary education\",\n",
    "    \"gfn\" : \"gone for now\",\n",
    "    \"gg\" : \"good game\",\n",
    "    \"gl\" : \"good luck\",\n",
    "    \"glhf\" : \"good luck have fun\",\n",
    "    \"gmt\" : \"greenwich mean time\",\n",
    "    \"gmta\" : \"great minds think alike\",\n",
    "    \"gn\" : \"good night\",\n",
    "    \"g.o.a.t\" : \"greatest of all time\",\n",
    "    \"goat\" : \"greatest of all time\",\n",
    "    \"goi\" : \"get over it\",\n",
    "    \"gps\" : \"global positioning system\",\n",
    "    \"gr8\" : \"great\",\n",
    "    \"gratz\" : \"congratulations\",\n",
    "    \"gyal\" : \"girl\",\n",
    "    \"h&c\" : \"hot and cold\",\n",
    "    \"hp\" : \"horsepower\",\n",
    "    \"hr\" : \"hour\",\n",
    "    \"hrh\" : \"his royal highness\",\n",
    "    \"ht\" : \"height\",\n",
    "    \"ibrb\" : \"i will be right back\",\n",
    "    \"ic\" : \"i see\",\n",
    "    \"icq\" : \"i seek you\",\n",
    "    \"icymi\" : \"in case you missed it\",\n",
    "    \"idc\" : \"i do not care\",\n",
    "    \"idgadf\" : \"i do not give a damn fuck\",\n",
    "    \"idgaf\" : \"i do not give a fuck\",\n",
    "    \"idk\" : \"i do not know\",\n",
    "    \"ie\" : \"that is\",\n",
    "    \"i.e\" : \"that is\",\n",
    "    \"ifyp\" : \"i feel your pain\",\n",
    "    \"IG\" : \"instagram\",\n",
    "    \"iirc\" : \"if i remember correctly\",\n",
    "    \"ilu\" : \"i love you\",\n",
    "    \"ily\" : \"i love you\",\n",
    "    \"imho\" : \"in my humble opinion\",\n",
    "    \"imo\" : \"in my opinion\",\n",
    "    \"imu\" : \"i miss you\",\n",
    "    \"iow\" : \"in other words\",\n",
    "    \"irl\" : \"in real life\",\n",
    "    \"j4f\" : \"just for fun\",\n",
    "    \"jic\" : \"just in case\",\n",
    "    \"jk\" : \"just kidding\",\n",
    "    \"jsyk\" : \"just so you know\",\n",
    "    \"l8r\" : \"later\",\n",
    "    \"lb\" : \"pound\",\n",
    "    \"lbs\" : \"pounds\",\n",
    "    \"ldr\" : \"long distance relationship\",\n",
    "    \"lmao\" : \"laugh my ass off\",\n",
    "    \"lmfao\" : \"laugh my fucking ass off\",\n",
    "    \"lol\" : \"laughing out loud\",\n",
    "    \"ltd\" : \"limited\",\n",
    "    \"ltns\" : \"long time no see\",\n",
    "    \"m8\" : \"mate\",\n",
    "    \"mf\" : \"motherfucker\",\n",
    "    \"mfs\" : \"motherfuckers\",\n",
    "    \"mfw\" : \"my face when\",\n",
    "    \"mofo\" : \"motherfucker\",\n",
    "    \"mph\" : \"miles per hour\",\n",
    "    \"mr\" : \"mister\",\n",
    "    \"mrw\" : \"my reaction when\",\n",
    "    \"ms\" : \"miss\",\n",
    "    \"mte\" : \"my thoughts exactly\",\n",
    "    \"nagi\" : \"not a good idea\",\n",
    "    \"nbc\" : \"national broadcasting company\",\n",
    "    \"nbd\" : \"not big deal\",\n",
    "    \"nfs\" : \"not for sale\",\n",
    "    \"ngl\" : \"not going to lie\",\n",
    "    \"nhs\" : \"national health service\",\n",
    "    \"nrn\" : \"no reply necessary\",\n",
    "    \"nsfl\" : \"not safe for life\",\n",
    "    \"nsfw\" : \"not safe for work\",\n",
    "    \"nth\" : \"nice to have\",\n",
    "    \"nvr\" : \"never\",\n",
    "    \"nyc\" : \"new york city\",\n",
    "    \"oc\" : \"original content\",\n",
    "    \"og\" : \"original\",\n",
    "    \"ohp\" : \"overhead projector\",\n",
    "    \"oic\" : \"oh i see\",\n",
    "    \"omdb\" : \"over my dead body\",\n",
    "    \"omg\" : \"oh my god\",\n",
    "    \"omw\" : \"on my way\",\n",
    "    \"p.a\" : \"per annum\",\n",
    "    \"p.m\" : \"after midday\",\n",
    "    \"pm\" : \"prime minister\",\n",
    "    \"poc\" : \"people of color\",\n",
    "    \"pov\" : \"point of view\",\n",
    "    \"pp\" : \"pages\",\n",
    "    \"ppl\" : \"people\",\n",
    "    \"prw\" : \"parents are watching\",\n",
    "    \"ps\" : \"postscript\",\n",
    "    \"pt\" : \"point\",\n",
    "    \"ptb\" : \"please text back\",\n",
    "    \"pto\" : \"please turn over\",\n",
    "    \"qpsa\" : \"what happens\", #\"que pasa\",\n",
    "    \"ratchet\" : \"rude\",\n",
    "    \"rbtl\" : \"read between the lines\",\n",
    "    \"rlrt\" : \"real life retweet\", \n",
    "    \"rofl\" : \"rolling on the floor laughing\",\n",
    "    \"roflol\" : \"rolling on the floor laughing out loud\",\n",
    "    \"rotflmao\" : \"rolling on the floor laughing my ass off\",\n",
    "    \"rt\" : \"retweet\",\n",
    "    \"ruok\" : \"are you ok\",\n",
    "    \"sfw\" : \"safe for work\",\n",
    "    \"sk8\" : \"skate\",\n",
    "    \"smh\" : \"shake my head\",\n",
    "    \"sq\" : \"square\",\n",
    "    \"srsly\" : \"seriously\", \n",
    "    \"ssdd\" : \"same stuff different day\",\n",
    "    \"tbh\" : \"to be honest\",\n",
    "    \"tbs\" : \"tablespooful\",\n",
    "    \"tbsp\" : \"tablespooful\",\n",
    "    \"tfw\" : \"that feeling when\",\n",
    "    \"thks\" : \"thank you\",\n",
    "    \"tho\" : \"though\",\n",
    "    \"thx\" : \"thank you\",\n",
    "    \"tia\" : \"thanks in advance\",\n",
    "    \"til\" : \"today i learned\",\n",
    "    \"tl;dr\" : \"too long i did not read\",\n",
    "    \"tldr\" : \"too long i did not read\",\n",
    "    \"tmb\" : \"tweet me back\",\n",
    "    \"tntl\" : \"trying not to laugh\",\n",
    "    \"ttyl\" : \"talk to you later\",\n",
    "    \"u\" : \"you\",\n",
    "    \"u2\" : \"you too\",\n",
    "    \"u4e\" : \"yours for ever\",\n",
    "    \"utc\" : \"coordinated universal time\",\n",
    "    \"w/\" : \"with\",\n",
    "    \"w/o\" : \"without\",\n",
    "    \"w8\" : \"wait\",\n",
    "    \"wassup\" : \"what is up\",\n",
    "    \"wb\" : \"welcome back\",\n",
    "    \"wtf\" : \"what the fuck\",\n",
    "    \"wtg\" : \"way to go\",\n",
    "    \"wtpa\" : \"where the party at\",\n",
    "    \"wuf\" : \"where are you from\",\n",
    "    \"wuzup\" : \"what is up\",\n",
    "    \"wywh\" : \"wish you were here\",\n",
    "    \"yd\" : \"yard\",\n",
    "    \"ygtr\" : \"you got that right\",\n",
    "    \"ynk\" : \"you never know\",\n",
    "    \"zzz\" : \"sleeping bored and tired\"\n",
    "}"
   ]
  },
  {
   "cell_type": "code",
   "execution_count": 44,
   "metadata": {
    "execution": {
     "iopub.execute_input": "2020-09-21T15:26:53.883239Z",
     "iopub.status.busy": "2020-09-21T15:26:53.882511Z",
     "iopub.status.idle": "2020-09-21T15:26:53.885266Z",
     "shell.execute_reply": "2020-09-21T15:26:53.886545Z"
    },
    "papermill": {
     "duration": 0.091168,
     "end_time": "2020-09-21T15:26:53.886666",
     "exception": false,
     "start_time": "2020-09-21T15:26:53.795498",
     "status": "completed"
    },
    "tags": []
   },
   "outputs": [],
   "source": [
    "def convert_abbrev(word):\n",
    "    return abbreviations[word.lower()] if word.lower() in abbreviations.keys() else word"
   ]
  },
  {
   "cell_type": "code",
   "execution_count": 45,
   "metadata": {
    "execution": {
     "iopub.execute_input": "2020-09-21T15:26:54.058477Z",
     "iopub.status.busy": "2020-09-21T15:26:54.055312Z",
     "iopub.status.idle": "2020-09-21T15:26:54.059959Z",
     "shell.execute_reply": "2020-09-21T15:26:54.059299Z"
    },
    "papermill": {
     "duration": 0.091997,
     "end_time": "2020-09-21T15:26:54.060059",
     "exception": false,
     "start_time": "2020-09-21T15:26:53.968062",
     "status": "completed"
    },
    "tags": []
   },
   "outputs": [],
   "source": [
    "def convert_abbrev_in_text(text):\n",
    "    tokens = word_tokenize(text)\n",
    "    tokens = [convert_abbrev(word) for word in tokens]\n",
    "    text = ' '.join(tokens)\n",
    "    return text"
   ]
  },
  {
   "cell_type": "code",
   "execution_count": 46,
   "metadata": {
    "execution": {
     "iopub.execute_input": "2020-09-21T15:26:54.235200Z",
     "iopub.status.busy": "2020-09-21T15:26:54.234444Z",
     "iopub.status.idle": "2020-09-21T15:27:24.452013Z",
     "shell.execute_reply": "2020-09-21T15:27:24.450784Z"
    },
    "papermill": {
     "duration": 30.307973,
     "end_time": "2020-09-21T15:27:24.452163",
     "exception": false,
     "start_time": "2020-09-21T15:26:54.144190",
     "status": "completed"
    },
    "tags": []
   },
   "outputs": [],
   "source": [
    "# load bert from tensorflow hub\n",
    "# => use keras to save as a layer\n",
    "module_url = 'https://tfhub.dev/tensorflow/bert_en_uncased_L-24_H-1024_A-16/1'\n",
    "bert_layer = hub.KerasLayer(module_url, trainable=True)"
   ]
  },
  {
   "cell_type": "code",
   "execution_count": 47,
   "metadata": {
    "execution": {
     "iopub.execute_input": "2020-09-21T15:27:24.627413Z",
     "iopub.status.busy": "2020-09-21T15:27:24.626592Z",
     "iopub.status.idle": "2020-09-21T15:27:24.655082Z",
     "shell.execute_reply": "2020-09-21T15:27:24.654537Z"
    },
    "papermill": {
     "duration": 0.118526,
     "end_time": "2020-09-21T15:27:24.655184",
     "exception": false,
     "start_time": "2020-09-21T15:27:24.536658",
     "status": "completed"
    },
    "tags": []
   },
   "outputs": [],
   "source": [
    "# load data\n",
    "train = pd.read_csv('/kaggle/input/nlp-getting-started/train.csv')\n",
    "test = pd.read_csv('/kaggle/input/nlp-getting-started/test.csv')"
   ]
  },
  {
   "cell_type": "code",
   "execution_count": 48,
   "metadata": {
    "execution": {
     "iopub.execute_input": "2020-09-21T15:27:24.832157Z",
     "iopub.status.busy": "2020-09-21T15:27:24.831428Z",
     "iopub.status.idle": "2020-09-21T15:27:24.835263Z",
     "shell.execute_reply": "2020-09-21T15:27:24.834794Z"
    },
    "papermill": {
     "duration": 0.098236,
     "end_time": "2020-09-21T15:27:24.835389",
     "exception": false,
     "start_time": "2020-09-21T15:27:24.737153",
     "status": "completed"
    },
    "tags": []
   },
   "outputs": [],
   "source": [
    "# target correction\n",
    "target_corrected = False\n",
    "target_big_corrected = False\n",
    "if target_corrected:\n",
    "    ids_with_target_error = [328,443,513,2619,3640,3900,4342,5781,6552,6554,6570,6701,6702,6729,6861,7226]\n",
    "    train.loc[train['id'].isin(ids_with_target_error),'target'] = 0\n",
    "    train[train['id'].isin(ids_with_target_error)]\n",
    "if target_big_corrected:\n",
    "    train['text'] = train['text'].apply(lambda x: clean_tweets(x))\n",
    "    test['text'] = text['text'].apply(lambda x: clean_tweets(x))\n",
    "    train['text'] = train['text'].apply(lambda x: remove_emoji(x))\n",
    "    test['text'] = test['text'].apply(lambda x: remove_emoji(x))\n",
    "    train['text'] = train['text'].apply(lambda x: remove_punctuation(x))\n",
    "    test['text'] = test['text'].apply(lambda x: remove_punctuation(x))\n",
    "    train['text'] = train['text'].apply(lambda x: convert_abbrev_in_text(x))\n",
    "    test['text'] = test['text'].apply(lambda x: convert_abbrev_in_text(x))"
   ]
  },
  {
   "cell_type": "markdown",
   "metadata": {
    "papermill": {
     "duration": 0.083162,
     "end_time": "2020-09-21T15:27:25.000979",
     "exception": false,
     "start_time": "2020-09-21T15:27:24.917817",
     "status": "completed"
    },
    "tags": []
   },
   "source": [
    "## build and train bert\n",
    "\n",
    "\n",
    "* format input data (train_input and test_input)\n",
    "* build (add bert layer) and summary\n",
    "* set callback and so on => for fit\n",
    "* predict (and evaluate [if use confuse matrix => run train and val] ) and save model\n",
    "* submit\n"
   ]
  },
  {
   "cell_type": "code",
   "execution_count": 49,
   "metadata": {
    "execution": {
     "iopub.execute_input": "2020-09-21T15:27:25.176484Z",
     "iopub.status.busy": "2020-09-21T15:27:25.175486Z",
     "iopub.status.idle": "2020-09-21T15:27:25.314766Z",
     "shell.execute_reply": "2020-09-21T15:27:25.314212Z"
    },
    "papermill": {
     "duration": 0.229529,
     "end_time": "2020-09-21T15:27:25.314875",
     "exception": false,
     "start_time": "2020-09-21T15:27:25.085346",
     "status": "completed"
    },
    "tags": []
   },
   "outputs": [],
   "source": [
    "vocab_file = bert_layer.resolved_object.vocab_file.asset_path.numpy()\n",
    "do_lower_case = bert_layer.resolved_object.do_lower_case.numpy()\n",
    "tokenizer = tokenization.FullTokenizer(vocab_file, do_lower_case)"
   ]
  },
  {
   "cell_type": "code",
   "execution_count": 50,
   "metadata": {
    "execution": {
     "iopub.execute_input": "2020-09-21T15:27:25.514051Z",
     "iopub.status.busy": "2020-09-21T15:27:25.498028Z",
     "iopub.status.idle": "2020-09-21T15:27:33.129828Z",
     "shell.execute_reply": "2020-09-21T15:27:33.129269Z"
    },
    "papermill": {
     "duration": 7.730571,
     "end_time": "2020-09-21T15:27:33.129945",
     "exception": false,
     "start_time": "2020-09-21T15:27:25.399374",
     "status": "completed"
    },
    "tags": []
   },
   "outputs": [],
   "source": [
    "# bert encode\n",
    "train_input = bert_encode(train.text.values, tokenizer, max_len=160)\n",
    "test_input = bert_encode(test.text.values, tokenizer, max_len=160)\n",
    "train_labels = train.target.values"
   ]
  },
  {
   "cell_type": "code",
   "execution_count": 51,
   "metadata": {
    "execution": {
     "iopub.execute_input": "2020-09-21T15:27:33.309525Z",
     "iopub.status.busy": "2020-09-21T15:27:33.308610Z",
     "iopub.status.idle": "2020-09-21T15:27:35.699960Z",
     "shell.execute_reply": "2020-09-21T15:27:35.701319Z"
    },
    "papermill": {
     "duration": 2.485039,
     "end_time": "2020-09-21T15:27:35.701547",
     "exception": false,
     "start_time": "2020-09-21T15:27:33.216508",
     "status": "completed"
    },
    "tags": []
   },
   "outputs": [
    {
     "name": "stdout",
     "output_type": "stream",
     "text": [
      "Model: \"functional_1\"\n",
      "__________________________________________________________________________________________________\n",
      "Layer (type)                    Output Shape         Param #     Connected to                     \n",
      "==================================================================================================\n",
      "input_word_ids (InputLayer)     [(None, 160)]        0                                            \n",
      "__________________________________________________________________________________________________\n",
      "input_mask (InputLayer)         [(None, 160)]        0                                            \n",
      "__________________________________________________________________________________________________\n",
      "segment_ids (InputLayer)        [(None, 160)]        0                                            \n",
      "__________________________________________________________________________________________________\n",
      "keras_layer (KerasLayer)        [(None, 1024), (None 335141889   input_word_ids[0][0]             \n",
      "                                                                 input_mask[0][0]                 \n",
      "                                                                 segment_ids[0][0]                \n",
      "__________________________________________________________________________________________________\n",
      "tf_op_layer_strided_slice (Tens [(None, 1024)]       0           keras_layer[0][1]                \n",
      "__________________________________________________________________________________________________\n",
      "dense_1 (Dense)                 (None, 1)            1025        tf_op_layer_strided_slice[0][0]  \n",
      "==================================================================================================\n",
      "Total params: 335,142,914\n",
      "Trainable params: 335,142,913\n",
      "Non-trainable params: 1\n",
      "__________________________________________________________________________________________________\n"
     ]
    }
   ],
   "source": [
    "Dropout_num = 0\n",
    "learning_rate = 6e-6\n",
    "\n",
    "model_BERT = build_model(bert_layer, max_len=160)\n",
    "model_BERT.summary()"
   ]
  },
  {
   "cell_type": "code",
   "execution_count": 52,
   "metadata": {
    "execution": {
     "iopub.execute_input": "2020-09-21T15:27:35.941035Z",
     "iopub.status.busy": "2020-09-21T15:27:35.939233Z",
     "iopub.status.idle": "2020-09-21T15:48:12.112885Z",
     "shell.execute_reply": "2020-09-21T15:48:12.113655Z"
    },
    "papermill": {
     "duration": 1236.280155,
     "end_time": "2020-09-21T15:48:12.113894",
     "exception": false,
     "start_time": "2020-09-21T15:27:35.833739",
     "status": "completed"
    },
    "tags": []
   },
   "outputs": [
    {
     "name": "stdout",
     "output_type": "stream",
     "text": [
      "Epoch 1/3\n",
      "405/405 [==============================] - 426s 1s/step - loss: 0.4278 - accuracy: 0.8187 - val_loss: 0.3868 - val_accuracy: 0.8380\n",
      "Epoch 2/3\n",
      "405/405 [==============================] - 387s 956ms/step - loss: 0.2759 - accuracy: 0.8912 - val_loss: 0.4017 - val_accuracy: 0.8266\n",
      "Epoch 3/3\n",
      "405/405 [==============================] - 387s 955ms/step - loss: 0.1414 - accuracy: 0.9453 - val_loss: 0.4797 - val_accuracy: 0.8336\n"
     ]
    }
   ],
   "source": [
    "# callback and fit \n",
    "checkpoint = ModelCheckpoint('model_BERT.h5', monitor='val_loss', save_best_only=True)\n",
    "\n",
    "train_history = model_BERT.fit(\n",
    "    train_input, train_labels,\n",
    "    validation_split=0.15,\n",
    "    epochs=3,\n",
    "    callbacks=[checkpoint],\n",
    "    batch_size=16\n",
    ")"
   ]
  },
  {
   "cell_type": "code",
   "execution_count": 53,
   "metadata": {
    "execution": {
     "iopub.execute_input": "2020-09-21T15:48:13.595381Z",
     "iopub.status.busy": "2020-09-21T15:48:13.570661Z",
     "iopub.status.idle": "2020-09-21T15:51:41.159766Z",
     "shell.execute_reply": "2020-09-21T15:51:41.158694Z"
    },
    "papermill": {
     "duration": 208.520882,
     "end_time": "2020-09-21T15:51:41.159937",
     "exception": false,
     "start_time": "2020-09-21T15:48:12.639055",
     "status": "completed"
    },
    "tags": []
   },
   "outputs": [],
   "source": [
    "# predict\n",
    "model_BERT.load_weights('model_BERT.h5')\n",
    "test_pred_BERT = model_BERT.predict(test_input)\n",
    "test_pred_BERT_int = test_pred_BERT.round().astype('int')\n",
    "\n",
    "# evaluate\n",
    "# get confuse matrix\n",
    "train_pred_BERT = model_BERT.predict(train_input)\n",
    "train_pred_BERT_int = train_pred_BERT.round().astype('int')"
   ]
  },
  {
   "cell_type": "code",
   "execution_count": 54,
   "metadata": {
    "execution": {
     "iopub.execute_input": "2020-09-21T15:51:42.176029Z",
     "iopub.status.busy": "2020-09-21T15:51:42.175113Z",
     "iopub.status.idle": "2020-09-21T15:51:42.394198Z",
     "shell.execute_reply": "2020-09-21T15:51:42.394669Z"
    },
    "papermill": {
     "duration": 0.727991,
     "end_time": "2020-09-21T15:51:42.394850",
     "exception": false,
     "start_time": "2020-09-21T15:51:41.666859",
     "status": "completed"
    },
    "tags": []
   },
   "outputs": [
    {
     "data": {
      "text/plain": [
       "<matplotlib.axes._subplots.AxesSubplot at 0x7efc95201ad0>"
      ]
     },
     "execution_count": 54,
     "metadata": {},
     "output_type": "execute_result"
    },
    {
     "data": {
      "image/png": "[encoded data removed]",
      "text/plain": [
       "<Figure size 1296x432 with 1 Axes>"
      ]
     },
     "metadata": {
      "needs_background": "light"
     },
     "output_type": "display_data"
    }
   ],
   "source": [
    "pred = pd.DataFrame(test_pred_BERT, columns=['preds'])\n",
    "pred.plot.hist()"
   ]
  },
  {
   "cell_type": "code",
   "execution_count": 55,
   "metadata": {
    "execution": {
     "iopub.execute_input": "2020-09-21T15:51:43.414291Z",
     "iopub.status.busy": "2020-09-21T15:51:43.413598Z",
     "iopub.status.idle": "2020-09-21T15:51:44.006483Z",
     "shell.execute_reply": "2020-09-21T15:51:44.007914Z"
    },
    "papermill": {
     "duration": 1.109729,
     "end_time": "2020-09-21T15:51:44.008135",
     "exception": false,
     "start_time": "2020-09-21T15:51:42.898406",
     "status": "completed"
    },
    "tags": []
   },
   "outputs": [],
   "source": [
    "submission['target'] = test_pred_BERT_int\n",
    "submission.to_csv('submission.csv', index=False, header=True)"
   ]
  }
 ],
 "metadata": {
  "kernelspec": {
   "display_name": "Python 3 (ipykernel)",
   "language": "python",
   "name": "python3"
  },
  "language_info": {
   "codemirror_mode": {
    "name": "ipython",
    "version": 3
   },
   "file_extension": ".py",
   "mimetype": "text/x-python",
   "name": "python",
   "nbconvert_exporter": "python",
   "pygments_lexer": "ipython3",
   "version": "3.9.16"
  },
  "papermill": {
   "duration": 4306.399302,
   "end_time": "2020-09-21T15:51:48.263029",
   "environment_variables": {},
   "exception": null,
   "input_path": "__notebook__.ipynb",
   "output_path": "__notebook__.ipynb",
   "parameters": {},
   "start_time": "2020-09-21T14:40:01.863727",
   "version": "2.1.0"
  }
 },
 "nbformat": 4,
 "nbformat_minor": 4
}
