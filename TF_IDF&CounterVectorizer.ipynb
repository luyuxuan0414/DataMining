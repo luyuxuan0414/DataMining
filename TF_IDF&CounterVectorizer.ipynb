{
 "cells": [
  {
   "cell_type": "markdown",
   "id": "7014a56a",
   "metadata": {
    "papermill": {
     "duration": 0.021752,
     "end_time": "2023-05-26T09:57:28.698328",
     "exception": false,
     "start_time": "2023-05-26T09:57:28.676576",
     "status": "completed"
    },
    "tags": []
   },
   "source": [
    "<div style=\"color:white;\n",
    "           display:fill;\n",
    "           border-radius:5px;\n",
    "           background-color:black;\n",
    "           font-size:200%;\n",
    "           font-family:Serif;\n",
    "           letter-spacing:0.5px\n",
    "            \">\n",
    "<p style=\"padding: 10px;\n",
    "          color:red;\n",
    "          font-size:120%;\n",
    "          text-align:center;\">\n",
    " Payam Amanat\n",
    "\n",
    "\n",
    "</p>\n",
    "\n",
    "</div>"
   ]
  },
  {
   "cell_type": "markdown",
   "id": "b36b87c0",
   "metadata": {
    "papermill": {
     "duration": 0.02125,
     "end_time": "2023-05-26T09:57:28.741063",
     "exception": false,
     "start_time": "2023-05-26T09:57:28.719813",
     "status": "completed"
    },
    "tags": []
   },
   "source": [
    "<center>\n",
    "<img src='https://encrypted-tbn0.gstatic.com/images?q=tbn:ANd9GcRFvwkNafIcPg0fdrdnXI9JhmA3a1loR9kiTsOsRv5HYYqL5wcaqzbM90fvWLgO9sR0qOU&usqp=CAU' width=800 height=500 />\n",
    "</center>"
   ]
  },
  {
   "cell_type": "markdown",
   "id": "b2fab279",
   "metadata": {
    "papermill": {
     "duration": 0.020917,
     "end_time": "2023-05-26T09:57:28.784155",
     "exception": false,
     "start_time": "2023-05-26T09:57:28.763238",
     "status": "completed"
    },
    "tags": []
   },
   "source": [
    "<a id=\"1.1\"></a>\n",
    "<h2 style=\"font-family: Verdana; font-size: 28px; font-style: normal; font-weight: normal; text-decoration: none; text-transform: none; letter-spacing: 2px; color: black; background-color: #ffffff; text-align:center\"><b>Notebook- </b> Abstraction </h2>"
   ]
  },
  {
   "cell_type": "markdown",
   "id": "6c4cd906",
   "metadata": {
    "papermill": {
     "duration": 0.020859,
     "end_time": "2023-05-26T09:57:28.826439",
     "exception": false,
     "start_time": "2023-05-26T09:57:28.805580",
     "status": "completed"
    },
    "tags": []
   },
   "source": [
    "<div style=\"font-family:Verdana; background-color:aliceblue; padding:30px; font-size:17px;color:#034914\">\n",
    "\n",
    "* In this project we will use of different Models of Classification for binary prediction . <br>\n",
    "* The objective of this project is : <br>\n",
    "\n",
    "1: Loading dataset<br>\n",
    "2: EDA<br>\n",
    "3: Cleaning text<br>\n",
    "4: Tokenization<br>\n",
    "5: Lemmatization & Stemmer methods<br>\n",
    "6: Using both CounterVectorizer and TI-IDF<br>\n",
    "7: Using classification models<br>\n",
    "</div>"
   ]
  },
  {
   "cell_type": "markdown",
   "id": "0e2b5ef0",
   "metadata": {
    "papermill": {
     "duration": 0.020957,
     "end_time": "2023-05-26T09:57:28.869829",
     "exception": false,
     "start_time": "2023-05-26T09:57:28.848872",
     "status": "completed"
    },
    "tags": []
   },
   "source": [
    "### Loading necessary libraries"
   ]
  },
  {
   "cell_type": "code",
   "execution_count": 4,
   "id": "56b16c7b",
   "metadata": {},
   "outputs": [
    {
     "name": "stdout",
     "output_type": "stream",
     "text": [
      "Collecting package metadata (current_repodata.json): done\n",
      "Solving environment: done\n",
      "\n",
      "\n",
      "==> WARNING: A newer version of conda exists. <==\n",
      "  current version: 23.3.1\n",
      "  latest version: 23.5.0\n",
      "\n",
      "Please update conda by running\n",
      "\n",
      "    $ conda update -n base -c defaults conda\n",
      "\n",
      "Or to minimize the number of packages updated during conda update use\n",
      "\n",
      "     conda install conda=23.5.0\n",
      "\n",
      "\n",
      "\n",
      "## Package Plan ##\n",
      "\n",
      "  environment location: /Users/luyuxuan/opt/anaconda3/envs/MedIP\n",
      "\n",
      "  added / updated specs:\n",
      "    - xgboost\n",
      "\n",
      "\n",
      "The following packages will be downloaded:\n",
      "\n",
      "    package                    |            build\n",
      "    ---------------------------|-----------------\n",
      "    _py-xgboost-mutex-2.0      |            cpu_0           8 KB\n",
      "    libxgboost-1.7.3           |       hcec6c5f_0         2.3 MB\n",
      "    py-xgboost-1.7.3           |   py39hecd8cb5_0         216 KB\n",
      "    xgboost-1.7.3              |   py39hecd8cb5_0          14 KB\n",
      "    ------------------------------------------------------------\n",
      "                                           Total:         2.6 MB\n",
      "\n",
      "The following NEW packages will be INSTALLED:\n",
      "\n",
      "  _py-xgboost-mutex  pkgs/main/osx-64::_py-xgboost-mutex-2.0-cpu_0 \n",
      "  libxgboost         pkgs/main/osx-64::libxgboost-1.7.3-hcec6c5f_0 \n",
      "  py-xgboost         pkgs/main/osx-64::py-xgboost-1.7.3-py39hecd8cb5_0 \n",
      "  xgboost            pkgs/main/osx-64::xgboost-1.7.3-py39hecd8cb5_0 \n",
      "\n",
      "\n",
      "\n",
      "Downloading and Extracting Packages\n",
      "_py-xgboost-mutex-2. | 8 KB      |                                       |   0% \n",
      "libxgboost-1.7.3     | 2.3 MB    |                                       |   0% \u001b[A\n",
      "\n",
      "py-xgboost-1.7.3     | 216 KB    |                                       |   0% \u001b[A\u001b[A\n",
      "\n",
      "\n",
      "xgboost-1.7.3        | 14 KB     |                                       |   0% \u001b[A\u001b[A\u001b[A\n",
      "_py-xgboost-mutex-2. | 8 KB      | ##################################### | 100% \u001b[A\n",
      "\n",
      "\n",
      "xgboost-1.7.3        | 14 KB     | ##################################### | 100% \u001b[A\u001b[A\u001b[A\n",
      "\n",
      "\n",
      "xgboost-1.7.3        | 14 KB     | ##################################### | 100% \u001b[A\u001b[A\u001b[A\n",
      "libxgboost-1.7.3     | 2.3 MB    | ###############################       |  84% \u001b[A\n",
      "\n",
      "py-xgboost-1.7.3     | 216 KB    | ##################################### | 100% \u001b[A\u001b[A\n",
      "\n",
      "py-xgboost-1.7.3     | 216 KB    | ##################################### | 100% \u001b[A\u001b[A\n",
      "                                                                                \u001b[A\n",
      "                                                                                \u001b[A\n",
      "\n",
      "                                                                                \u001b[A\u001b[A\n",
      "\n",
      "\n",
      "                                                                                \u001b[A\u001b[A\u001b[A\n",
      "Preparing transaction: done\n",
      "Verifying transaction: done\n",
      "Executing transaction: done\n",
      "\n",
      "Note: you may need to restart the kernel to use updated packages.\n"
     ]
    }
   ],
   "source": [
    "conda install xgboost"
   ]
  },
  {
   "cell_type": "code",
   "execution_count": 5,
   "id": "446d5d55",
   "metadata": {
    "execution": {
     "iopub.execute_input": "2023-05-26T09:57:28.915518Z",
     "iopub.status.busy": "2023-05-26T09:57:28.914404Z",
     "iopub.status.idle": "2023-05-26T09:57:32.059810Z",
     "shell.execute_reply": "2023-05-26T09:57:32.058513Z"
    },
    "papermill": {
     "duration": 3.171353,
     "end_time": "2023-05-26T09:57:32.062514",
     "exception": false,
     "start_time": "2023-05-26T09:57:28.891161",
     "status": "completed"
    },
    "tags": []
   },
   "outputs": [],
   "source": [
    "%matplotlib inline\n",
    "import pandas as pd\n",
    "import numpy as np\n",
    "import matplotlib.pyplot as plt\n",
    "import seaborn as sns\n",
    "import re\n",
    "import string\n",
    "import warnings\n",
    "import nltk\n",
    "\n",
    "\n",
    "from nltk.tokenize import RegexpTokenizer\n",
    "from nltk.corpus import stopwords\n",
    "from nltk.stem import WordNetLemmatizer ,PorterStemmer\n",
    "from sklearn.feature_extraction.text import CountVectorizer,TfidfVectorizer\n",
    "from sklearn.linear_model import LogisticRegression\n",
    "from sklearn.model_selection import train_test_split\n",
    "from sklearn.metrics import accuracy_score, f1_score, recall_score, precision_score, confusion_matrix\n",
    "from sklearn.ensemble import RandomForestClassifier\n",
    "from xgboost import XGBClassifier\n",
    "from sklearn.naive_bayes import MultinomialNB\n",
    "from sklearn.svm import SVC\n",
    "\n",
    "sns.set(style='darkgrid',font_scale=1.5)\n",
    "pd.set_option('display.max_rows', None)\n",
    "pd.set_option('display.max_columns',None)\n",
    "pd.set_option('display.precision', 8)\n",
    "\n",
    "warnings.filterwarnings('ignore')"
   ]
  },
  {
   "cell_type": "markdown",
   "id": "1d0dc663",
   "metadata": {
    "papermill": {
     "duration": 0.0235,
     "end_time": "2023-05-26T09:57:32.108964",
     "exception": false,
     "start_time": "2023-05-26T09:57:32.085464",
     "status": "completed"
    },
    "tags": []
   },
   "source": [
    "<div style=\"color:white;\n",
    "           display:fill;\n",
    "           border-radius:5px;\n",
    "           background-color:black;\n",
    "           font-size:200%;\n",
    "           font-family:Serif;\n",
    "           letter-spacing:0.5px\">\n",
    "\n",
    "<p style=\"padding: 10px;\n",
    "          color:white;\n",
    "          font-size:120%;\n",
    "          text-align:center;\">\n",
    "Loading Dataset\n",
    "</p>\n",
    "</div>"
   ]
  },
  {
   "cell_type": "code",
   "execution_count": 6,
   "id": "4157e4ba",
   "metadata": {
    "execution": {
     "iopub.execute_input": "2023-05-26T09:57:32.157852Z",
     "iopub.status.busy": "2023-05-26T09:57:32.157431Z",
     "iopub.status.idle": "2023-05-26T09:57:32.261921Z",
     "shell.execute_reply": "2023-05-26T09:57:32.260492Z"
    },
    "papermill": {
     "duration": 0.132145,
     "end_time": "2023-05-26T09:57:32.264679",
     "exception": false,
     "start_time": "2023-05-26T09:57:32.132534",
     "status": "completed"
    },
    "tags": []
   },
   "outputs": [],
   "source": [
    "train_df = pd.read_csv(\"/Users/luyuxuan/Desktop/kaggle/train.csv\")\n",
    "test_df= pd.read_csv(\"/Users/luyuxuan/Desktop/kaggle/test.csv\")"
   ]
  },
  {
   "cell_type": "code",
   "execution_count": 7,
   "id": "4d8c123a",
   "metadata": {
    "execution": {
     "iopub.execute_input": "2023-05-26T09:57:32.310014Z",
     "iopub.status.busy": "2023-05-26T09:57:32.309465Z",
     "iopub.status.idle": "2023-05-26T09:57:32.344916Z",
     "shell.execute_reply": "2023-05-26T09:57:32.343708Z"
    },
    "papermill": {
     "duration": 0.060808,
     "end_time": "2023-05-26T09:57:32.347451",
     "exception": false,
     "start_time": "2023-05-26T09:57:32.286643",
     "status": "completed"
    },
    "tags": []
   },
   "outputs": [
    {
     "data": {
      "text/html": [
       "<div>\n",
       "<style scoped>\n",
       "    .dataframe tbody tr th:only-of-type {\n",
       "        vertical-align: middle;\n",
       "    }\n",
       "\n",
       "    .dataframe tbody tr th {\n",
       "        vertical-align: top;\n",
       "    }\n",
       "\n",
       "    .dataframe thead th {\n",
       "        text-align: right;\n",
       "    }\n",
       "</style>\n",
       "<table border=\"1\" class=\"dataframe\">\n",
       "  <thead>\n",
       "    <tr style=\"text-align: right;\">\n",
       "      <th></th>\n",
       "      <th>id</th>\n",
       "      <th>keyword</th>\n",
       "      <th>location</th>\n",
       "      <th>text</th>\n",
       "      <th>target</th>\n",
       "    </tr>\n",
       "  </thead>\n",
       "  <tbody>\n",
       "    <tr>\n",
       "      <th>0</th>\n",
       "      <td>1</td>\n",
       "      <td>NaN</td>\n",
       "      <td>NaN</td>\n",
       "      <td>Our Deeds are the Reason of this #earthquake M...</td>\n",
       "      <td>1</td>\n",
       "    </tr>\n",
       "    <tr>\n",
       "      <th>1</th>\n",
       "      <td>4</td>\n",
       "      <td>NaN</td>\n",
       "      <td>NaN</td>\n",
       "      <td>Forest fire near La Ronge Sask. Canada</td>\n",
       "      <td>1</td>\n",
       "    </tr>\n",
       "    <tr>\n",
       "      <th>2</th>\n",
       "      <td>5</td>\n",
       "      <td>NaN</td>\n",
       "      <td>NaN</td>\n",
       "      <td>All residents asked to 'shelter in place' are ...</td>\n",
       "      <td>1</td>\n",
       "    </tr>\n",
       "    <tr>\n",
       "      <th>3</th>\n",
       "      <td>6</td>\n",
       "      <td>NaN</td>\n",
       "      <td>NaN</td>\n",
       "      <td>13,000 people receive #wildfires evacuation or...</td>\n",
       "      <td>1</td>\n",
       "    </tr>\n",
       "    <tr>\n",
       "      <th>4</th>\n",
       "      <td>7</td>\n",
       "      <td>NaN</td>\n",
       "      <td>NaN</td>\n",
       "      <td>Just got sent this photo from Ruby #Alaska as ...</td>\n",
       "      <td>1</td>\n",
       "    </tr>\n",
       "    <tr>\n",
       "      <th>5</th>\n",
       "      <td>8</td>\n",
       "      <td>NaN</td>\n",
       "      <td>NaN</td>\n",
       "      <td>#RockyFire Update =&gt; California Hwy. 20 closed...</td>\n",
       "      <td>1</td>\n",
       "    </tr>\n",
       "    <tr>\n",
       "      <th>6</th>\n",
       "      <td>10</td>\n",
       "      <td>NaN</td>\n",
       "      <td>NaN</td>\n",
       "      <td>#flood #disaster Heavy rain causes flash flood...</td>\n",
       "      <td>1</td>\n",
       "    </tr>\n",
       "    <tr>\n",
       "      <th>7</th>\n",
       "      <td>13</td>\n",
       "      <td>NaN</td>\n",
       "      <td>NaN</td>\n",
       "      <td>I'm on top of the hill and I can see a fire in...</td>\n",
       "      <td>1</td>\n",
       "    </tr>\n",
       "    <tr>\n",
       "      <th>8</th>\n",
       "      <td>14</td>\n",
       "      <td>NaN</td>\n",
       "      <td>NaN</td>\n",
       "      <td>There's an emergency evacuation happening now ...</td>\n",
       "      <td>1</td>\n",
       "    </tr>\n",
       "    <tr>\n",
       "      <th>9</th>\n",
       "      <td>15</td>\n",
       "      <td>NaN</td>\n",
       "      <td>NaN</td>\n",
       "      <td>I'm afraid that the tornado is coming to our a...</td>\n",
       "      <td>1</td>\n",
       "    </tr>\n",
       "    <tr>\n",
       "      <th>10</th>\n",
       "      <td>16</td>\n",
       "      <td>NaN</td>\n",
       "      <td>NaN</td>\n",
       "      <td>Three people died from the heat wave so far</td>\n",
       "      <td>1</td>\n",
       "    </tr>\n",
       "    <tr>\n",
       "      <th>11</th>\n",
       "      <td>17</td>\n",
       "      <td>NaN</td>\n",
       "      <td>NaN</td>\n",
       "      <td>Haha South Tampa is getting flooded hah- WAIT ...</td>\n",
       "      <td>1</td>\n",
       "    </tr>\n",
       "    <tr>\n",
       "      <th>12</th>\n",
       "      <td>18</td>\n",
       "      <td>NaN</td>\n",
       "      <td>NaN</td>\n",
       "      <td>#raining #flooding #Florida #TampaBay #Tampa 1...</td>\n",
       "      <td>1</td>\n",
       "    </tr>\n",
       "    <tr>\n",
       "      <th>13</th>\n",
       "      <td>19</td>\n",
       "      <td>NaN</td>\n",
       "      <td>NaN</td>\n",
       "      <td>#Flood in Bago Myanmar #We arrived Bago</td>\n",
       "      <td>1</td>\n",
       "    </tr>\n",
       "    <tr>\n",
       "      <th>14</th>\n",
       "      <td>20</td>\n",
       "      <td>NaN</td>\n",
       "      <td>NaN</td>\n",
       "      <td>Damage to school bus on 80 in multi car crash ...</td>\n",
       "      <td>1</td>\n",
       "    </tr>\n",
       "    <tr>\n",
       "      <th>15</th>\n",
       "      <td>23</td>\n",
       "      <td>NaN</td>\n",
       "      <td>NaN</td>\n",
       "      <td>What's up man?</td>\n",
       "      <td>0</td>\n",
       "    </tr>\n",
       "    <tr>\n",
       "      <th>16</th>\n",
       "      <td>24</td>\n",
       "      <td>NaN</td>\n",
       "      <td>NaN</td>\n",
       "      <td>I love fruits</td>\n",
       "      <td>0</td>\n",
       "    </tr>\n",
       "    <tr>\n",
       "      <th>17</th>\n",
       "      <td>25</td>\n",
       "      <td>NaN</td>\n",
       "      <td>NaN</td>\n",
       "      <td>Summer is lovely</td>\n",
       "      <td>0</td>\n",
       "    </tr>\n",
       "    <tr>\n",
       "      <th>18</th>\n",
       "      <td>26</td>\n",
       "      <td>NaN</td>\n",
       "      <td>NaN</td>\n",
       "      <td>My car is so fast</td>\n",
       "      <td>0</td>\n",
       "    </tr>\n",
       "    <tr>\n",
       "      <th>19</th>\n",
       "      <td>28</td>\n",
       "      <td>NaN</td>\n",
       "      <td>NaN</td>\n",
       "      <td>What a goooooooaaaaaal!!!!!!</td>\n",
       "      <td>0</td>\n",
       "    </tr>\n",
       "  </tbody>\n",
       "</table>\n",
       "</div>"
      ],
      "text/plain": [
       "    id keyword location                                               text  \\\n",
       "0    1     NaN      NaN  Our Deeds are the Reason of this #earthquake M...   \n",
       "1    4     NaN      NaN             Forest fire near La Ronge Sask. Canada   \n",
       "2    5     NaN      NaN  All residents asked to 'shelter in place' are ...   \n",
       "3    6     NaN      NaN  13,000 people receive #wildfires evacuation or...   \n",
       "4    7     NaN      NaN  Just got sent this photo from Ruby #Alaska as ...   \n",
       "5    8     NaN      NaN  #RockyFire Update => California Hwy. 20 closed...   \n",
       "6   10     NaN      NaN  #flood #disaster Heavy rain causes flash flood...   \n",
       "7   13     NaN      NaN  I'm on top of the hill and I can see a fire in...   \n",
       "8   14     NaN      NaN  There's an emergency evacuation happening now ...   \n",
       "9   15     NaN      NaN  I'm afraid that the tornado is coming to our a...   \n",
       "10  16     NaN      NaN        Three people died from the heat wave so far   \n",
       "11  17     NaN      NaN  Haha South Tampa is getting flooded hah- WAIT ...   \n",
       "12  18     NaN      NaN  #raining #flooding #Florida #TampaBay #Tampa 1...   \n",
       "13  19     NaN      NaN            #Flood in Bago Myanmar #We arrived Bago   \n",
       "14  20     NaN      NaN  Damage to school bus on 80 in multi car crash ...   \n",
       "15  23     NaN      NaN                                     What's up man?   \n",
       "16  24     NaN      NaN                                      I love fruits   \n",
       "17  25     NaN      NaN                                   Summer is lovely   \n",
       "18  26     NaN      NaN                                  My car is so fast   \n",
       "19  28     NaN      NaN                       What a goooooooaaaaaal!!!!!!   \n",
       "\n",
       "    target  \n",
       "0        1  \n",
       "1        1  \n",
       "2        1  \n",
       "3        1  \n",
       "4        1  \n",
       "5        1  \n",
       "6        1  \n",
       "7        1  \n",
       "8        1  \n",
       "9        1  \n",
       "10       1  \n",
       "11       1  \n",
       "12       1  \n",
       "13       1  \n",
       "14       1  \n",
       "15       0  \n",
       "16       0  \n",
       "17       0  \n",
       "18       0  \n",
       "19       0  "
      ]
     },
     "execution_count": 7,
     "metadata": {},
     "output_type": "execute_result"
    }
   ],
   "source": [
    "train_df.head(20)"
   ]
  },
  {
   "cell_type": "markdown",
   "id": "3565a5e8",
   "metadata": {
    "papermill": {
     "duration": 0.022649,
     "end_time": "2023-05-26T09:57:32.392461",
     "exception": false,
     "start_time": "2023-05-26T09:57:32.369812",
     "status": "completed"
    },
    "tags": []
   },
   "source": [
    "<div style=\"color:white;\n",
    "           display:fill;\n",
    "           border-radius:5px;\n",
    "           background-color:black;\n",
    "           font-size:200%;\n",
    "           font-family:Serif;\n",
    "           letter-spacing:0.5px\">\n",
    "\n",
    "<p style=\"padding: 10px;\n",
    "          color:white;\n",
    "          font-size:120%;\n",
    "          text-align:center;\">\n",
    "Basic Understanding of Dataset\n",
    "</p>\n",
    "</div>"
   ]
  },
  {
   "cell_type": "markdown",
   "id": "46442bf0",
   "metadata": {
    "papermill": {
     "duration": 0.021938,
     "end_time": "2023-05-26T09:57:32.437182",
     "exception": false,
     "start_time": "2023-05-26T09:57:32.415244",
     "status": "completed"
    },
    "tags": []
   },
   "source": [
    "### Shape of Train and Test dataset"
   ]
  },
  {
   "cell_type": "code",
   "execution_count": 8,
   "id": "65ca0460",
   "metadata": {
    "execution": {
     "iopub.execute_input": "2023-05-26T09:57:32.484440Z",
     "iopub.status.busy": "2023-05-26T09:57:32.483695Z",
     "iopub.status.idle": "2023-05-26T09:57:32.489996Z",
     "shell.execute_reply": "2023-05-26T09:57:32.488651Z"
    },
    "papermill": {
     "duration": 0.033947,
     "end_time": "2023-05-26T09:57:32.492922",
     "exception": false,
     "start_time": "2023-05-26T09:57:32.458975",
     "status": "completed"
    },
    "tags": []
   },
   "outputs": [
    {
     "name": "stdout",
     "output_type": "stream",
     "text": [
      "Train dataset shape : (7613, 5)\n",
      "----------------------------------------\n",
      "Test dataset shape : (3263, 4)\n"
     ]
    }
   ],
   "source": [
    "print(f'Train dataset shape : {train_df.shape}')\n",
    "print('--'*20)\n",
    "print(f'Test dataset shape : {test_df.shape}')"
   ]
  },
  {
   "cell_type": "markdown",
   "id": "d2853ac1",
   "metadata": {
    "papermill": {
     "duration": 0.022625,
     "end_time": "2023-05-26T09:57:32.540019",
     "exception": false,
     "start_time": "2023-05-26T09:57:32.517394",
     "status": "completed"
    },
    "tags": []
   },
   "source": [
    "### Features in Train and Test dataset"
   ]
  },
  {
   "cell_type": "code",
   "execution_count": 9,
   "id": "51d80ea0",
   "metadata": {
    "execution": {
     "iopub.execute_input": "2023-05-26T09:57:32.586709Z",
     "iopub.status.busy": "2023-05-26T09:57:32.585881Z",
     "iopub.status.idle": "2023-05-26T09:57:32.593112Z",
     "shell.execute_reply": "2023-05-26T09:57:32.591837Z"
    },
    "papermill": {
     "duration": 0.033761,
     "end_time": "2023-05-26T09:57:32.595749",
     "exception": false,
     "start_time": "2023-05-26T09:57:32.561988",
     "status": "completed"
    },
    "tags": []
   },
   "outputs": [
    {
     "name": "stdout",
     "output_type": "stream",
     "text": [
      "Train data : Index(['id', 'keyword', 'location', 'text', 'target'], dtype='object')\n",
      "--------------------------------------------------------------------------------\n",
      "Test data : Index(['id', 'keyword', 'location', 'text'], dtype='object')\n"
     ]
    }
   ],
   "source": [
    "print(f'Train data : {train_df.columns}')\n",
    "print('----'*20)\n",
    "print(f'Test data : {test_df.columns}')"
   ]
  },
  {
   "cell_type": "markdown",
   "id": "e2e11b92",
   "metadata": {
    "papermill": {
     "duration": 0.022897,
     "end_time": "2023-05-26T09:57:32.641236",
     "exception": false,
     "start_time": "2023-05-26T09:57:32.618339",
     "status": "completed"
    },
    "tags": []
   },
   "source": [
    "<div style=\"color:white;\n",
    "           display:fill;\n",
    "           border-radius:5px;\n",
    "           background-color:black;\n",
    "           font-size:200%;\n",
    "           font-family:Serif;\n",
    "           letter-spacing:0.5px\">\n",
    "\n",
    "<p style=\"padding: 10px;\n",
    "          color:white;\n",
    "          font-size:120%;\n",
    "          text-align:center;\">\n",
    "Exploratory Data Analysis (EDA)\n",
    "</p>\n",
    "</div>"
   ]
  },
  {
   "cell_type": "markdown",
   "id": "524145c5",
   "metadata": {
    "papermill": {
     "duration": 0.021526,
     "end_time": "2023-05-26T09:57:32.685138",
     "exception": false,
     "start_time": "2023-05-26T09:57:32.663612",
     "status": "completed"
    },
    "tags": []
   },
   "source": [
    "### Checking duplicated text for both Train and Test dataset"
   ]
  },
  {
   "cell_type": "code",
   "execution_count": 10,
   "id": "b33fa8cd",
   "metadata": {
    "execution": {
     "iopub.execute_input": "2023-05-26T09:57:32.731633Z",
     "iopub.status.busy": "2023-05-26T09:57:32.731238Z",
     "iopub.status.idle": "2023-05-26T09:57:32.744691Z",
     "shell.execute_reply": "2023-05-26T09:57:32.743297Z"
    },
    "papermill": {
     "duration": 0.039437,
     "end_time": "2023-05-26T09:57:32.747121",
     "exception": false,
     "start_time": "2023-05-26T09:57:32.707684",
     "status": "completed"
    },
    "tags": []
   },
   "outputs": [
    {
     "name": "stdout",
     "output_type": "stream",
     "text": [
      "The number of dublicated data in Train dataset : 110\n",
      "------------------------------------------------------------\n",
      "The number of dublicated data in Test dataset :  110\n"
     ]
    }
   ],
   "source": [
    "print('The number of dublicated data in Train dataset :' ,train_df.duplicated(['text']).sum())\n",
    "print('---'*20)\n",
    "print('The number of dublicated data in Test dataset : ', train_df.duplicated(['text']).sum())\n"
   ]
  },
  {
   "cell_type": "markdown",
   "id": "5baa8b94",
   "metadata": {
    "papermill": {
     "duration": 0.02231,
     "end_time": "2023-05-26T09:57:32.792249",
     "exception": false,
     "start_time": "2023-05-26T09:57:32.769939",
     "status": "completed"
    },
    "tags": []
   },
   "source": [
    "### Removing duplicated texts from both Train and Test dataset"
   ]
  },
  {
   "cell_type": "code",
   "execution_count": 11,
   "id": "60c45aff",
   "metadata": {
    "execution": {
     "iopub.execute_input": "2023-05-26T09:57:32.840215Z",
     "iopub.status.busy": "2023-05-26T09:57:32.839812Z",
     "iopub.status.idle": "2023-05-26T09:57:32.860420Z",
     "shell.execute_reply": "2023-05-26T09:57:32.858614Z"
    },
    "papermill": {
     "duration": 0.048501,
     "end_time": "2023-05-26T09:57:32.863354",
     "exception": false,
     "start_time": "2023-05-26T09:57:32.814853",
     "status": "completed"
    },
    "tags": []
   },
   "outputs": [],
   "source": [
    "train_df.drop_duplicates([\"text\", \"target\"], inplace=True)\n",
    "test_df.drop_duplicates([\"text\"], inplace=True)"
   ]
  },
  {
   "cell_type": "markdown",
   "id": "2b63deee",
   "metadata": {
    "papermill": {
     "duration": 0.02169,
     "end_time": "2023-05-26T09:57:32.907895",
     "exception": false,
     "start_time": "2023-05-26T09:57:32.886205",
     "status": "completed"
    },
    "tags": []
   },
   "source": [
    "### Checking dtypes for both Train and Test dataset"
   ]
  },
  {
   "cell_type": "code",
   "execution_count": 12,
   "id": "cd12e399",
   "metadata": {
    "execution": {
     "iopub.execute_input": "2023-05-26T09:57:32.955266Z",
     "iopub.status.busy": "2023-05-26T09:57:32.954798Z",
     "iopub.status.idle": "2023-05-26T09:57:32.962515Z",
     "shell.execute_reply": "2023-05-26T09:57:32.961424Z"
    },
    "papermill": {
     "duration": 0.034189,
     "end_time": "2023-05-26T09:57:32.965349",
     "exception": false,
     "start_time": "2023-05-26T09:57:32.931160",
     "status": "completed"
    },
    "tags": []
   },
   "outputs": [
    {
     "name": "stdout",
     "output_type": "stream",
     "text": [
      "Train features dtypes \n",
      "id           int64\n",
      "keyword     object\n",
      "location    object\n",
      "text        object\n",
      "target       int64\n",
      "dtype: object\n",
      "--------------------\n",
      "Test features dtypes \n",
      "id           int64\n",
      "keyword     object\n",
      "location    object\n",
      "text        object\n",
      "dtype: object\n"
     ]
    }
   ],
   "source": [
    "print(f'Train features dtypes \\n{train_df.dtypes}')\n",
    "print('-'*20)\n",
    "print(f'Test features dtypes \\n{test_df.dtypes}')"
   ]
  },
  {
   "cell_type": "markdown",
   "id": "72d5f5b2",
   "metadata": {
    "papermill": {
     "duration": 0.022217,
     "end_time": "2023-05-26T09:57:33.009712",
     "exception": false,
     "start_time": "2023-05-26T09:57:32.987495",
     "status": "completed"
    },
    "tags": []
   },
   "source": [
    "### Missing values in Train dataset"
   ]
  },
  {
   "cell_type": "code",
   "execution_count": 13,
   "id": "9c505720",
   "metadata": {
    "execution": {
     "iopub.execute_input": "2023-05-26T09:57:33.057081Z",
     "iopub.status.busy": "2023-05-26T09:57:33.056685Z",
     "iopub.status.idle": "2023-05-26T09:57:33.178913Z",
     "shell.execute_reply": "2023-05-26T09:57:33.177541Z"
    },
    "papermill": {
     "duration": 0.149963,
     "end_time": "2023-05-26T09:57:33.181892",
     "exception": false,
     "start_time": "2023-05-26T09:57:33.031929",
     "status": "completed"
    },
    "tags": []
   },
   "outputs": [
    {
     "name": "stdout",
     "output_type": "stream",
     "text": [
      "Missin values in Train dataset : \n"
     ]
    },
    {
     "data": {
      "text/html": [
       "<style type=\"text/css\">\n",
       "</style>\n",
       "<table id=\"T_d25c2\">\n",
       "  <thead>\n",
       "    <tr>\n",
       "      <th class=\"blank level0\" >&nbsp;</th>\n",
       "      <th id=\"T_d25c2_level0_col0\" class=\"col_heading level0 col0\" >Miss values</th>\n",
       "      <th id=\"T_d25c2_level0_col1\" class=\"col_heading level0 col1\" >Miss values percentage %</th>\n",
       "    </tr>\n",
       "  </thead>\n",
       "  <tbody>\n",
       "    <tr>\n",
       "      <th id=\"T_d25c2_level0_row0\" class=\"row_heading level0 row0\" >id</th>\n",
       "      <td id=\"T_d25c2_row0_col0\" class=\"data row0 col0\" >0</td>\n",
       "      <td id=\"T_d25c2_row0_col1\" class=\"data row0 col1\" >0.000000</td>\n",
       "    </tr>\n",
       "    <tr>\n",
       "      <th id=\"T_d25c2_level0_row1\" class=\"row_heading level0 row1\" >keyword</th>\n",
       "      <td id=\"T_d25c2_row1_col0\" class=\"data row1 col0\" >56</td>\n",
       "      <td id=\"T_d25c2_row1_col1\" class=\"data row1 col1\" >0.744582</td>\n",
       "    </tr>\n",
       "    <tr>\n",
       "      <th id=\"T_d25c2_level0_row2\" class=\"row_heading level0 row2\" >location</th>\n",
       "      <td id=\"T_d25c2_row2_col0\" class=\"data row2 col0\" >2490</td>\n",
       "      <td id=\"T_d25c2_row2_col1\" class=\"data row2 col1\" >33.107300</td>\n",
       "    </tr>\n",
       "    <tr>\n",
       "      <th id=\"T_d25c2_level0_row3\" class=\"row_heading level0 row3\" >text</th>\n",
       "      <td id=\"T_d25c2_row3_col0\" class=\"data row3 col0\" >0</td>\n",
       "      <td id=\"T_d25c2_row3_col1\" class=\"data row3 col1\" >0.000000</td>\n",
       "    </tr>\n",
       "    <tr>\n",
       "      <th id=\"T_d25c2_level0_row4\" class=\"row_heading level0 row4\" >target</th>\n",
       "      <td id=\"T_d25c2_row4_col0\" class=\"data row4 col0\" >0</td>\n",
       "      <td id=\"T_d25c2_row4_col1\" class=\"data row4 col1\" >0.000000</td>\n",
       "    </tr>\n",
       "  </tbody>\n",
       "</table>\n"
      ],
      "text/plain": [
       "<pandas.io.formats.style.Styler at 0x7feb25029040>"
      ]
     },
     "execution_count": 13,
     "metadata": {},
     "output_type": "execute_result"
    }
   ],
   "source": [
    "print(\"Missin values in Train dataset : \")\n",
    "null_data = train_df.isnull().sum().to_frame().rename(columns={0:'Miss values'})\n",
    "null_data[\"Miss values percentage %\"] = train_df.isnull().sum() * 100 / len(train_df)\n",
    "null_data.style"
   ]
  },
  {
   "cell_type": "markdown",
   "id": "9068b65d",
   "metadata": {
    "papermill": {
     "duration": 0.022543,
     "end_time": "2023-05-26T09:57:33.227082",
     "exception": false,
     "start_time": "2023-05-26T09:57:33.204539",
     "status": "completed"
    },
    "tags": []
   },
   "source": [
    "### Missing values in Test dataset"
   ]
  },
  {
   "cell_type": "code",
   "execution_count": 14,
   "id": "37753dd9",
   "metadata": {
    "execution": {
     "iopub.execute_input": "2023-05-26T09:57:33.275989Z",
     "iopub.status.busy": "2023-05-26T09:57:33.275190Z",
     "iopub.status.idle": "2023-05-26T09:57:33.296809Z",
     "shell.execute_reply": "2023-05-26T09:57:33.295565Z"
    },
    "papermill": {
     "duration": 0.048935,
     "end_time": "2023-05-26T09:57:33.299625",
     "exception": false,
     "start_time": "2023-05-26T09:57:33.250690",
     "status": "completed"
    },
    "tags": []
   },
   "outputs": [
    {
     "name": "stdout",
     "output_type": "stream",
     "text": [
      "Missin values in Test dataset : \n"
     ]
    },
    {
     "data": {
      "text/html": [
       "<style type=\"text/css\">\n",
       "</style>\n",
       "<table id=\"T_d138a\">\n",
       "  <thead>\n",
       "    <tr>\n",
       "      <th class=\"blank level0\" >&nbsp;</th>\n",
       "      <th id=\"T_d138a_level0_col0\" class=\"col_heading level0 col0\" >Miss values</th>\n",
       "      <th id=\"T_d138a_level0_col1\" class=\"col_heading level0 col1\" >Miss values percentage %</th>\n",
       "    </tr>\n",
       "  </thead>\n",
       "  <tbody>\n",
       "    <tr>\n",
       "      <th id=\"T_d138a_level0_row0\" class=\"row_heading level0 row0\" >id</th>\n",
       "      <td id=\"T_d138a_row0_col0\" class=\"data row0 col0\" >0</td>\n",
       "      <td id=\"T_d138a_row0_col1\" class=\"data row0 col1\" >0.000000</td>\n",
       "    </tr>\n",
       "    <tr>\n",
       "      <th id=\"T_d138a_level0_row1\" class=\"row_heading level0 row1\" >keyword</th>\n",
       "      <td id=\"T_d138a_row1_col0\" class=\"data row1 col0\" >26</td>\n",
       "      <td id=\"T_d138a_row1_col1\" class=\"data row1 col1\" >0.350000</td>\n",
       "    </tr>\n",
       "    <tr>\n",
       "      <th id=\"T_d138a_level0_row2\" class=\"row_heading level0 row2\" >location</th>\n",
       "      <td id=\"T_d138a_row2_col0\" class=\"data row2 col0\" >1097</td>\n",
       "      <td id=\"T_d138a_row2_col1\" class=\"data row2 col1\" >14.590000</td>\n",
       "    </tr>\n",
       "    <tr>\n",
       "      <th id=\"T_d138a_level0_row3\" class=\"row_heading level0 row3\" >text</th>\n",
       "      <td id=\"T_d138a_row3_col0\" class=\"data row3 col0\" >0</td>\n",
       "      <td id=\"T_d138a_row3_col1\" class=\"data row3 col1\" >0.000000</td>\n",
       "    </tr>\n",
       "  </tbody>\n",
       "</table>\n"
      ],
      "text/plain": [
       "<pandas.io.formats.style.Styler at 0x7feb24eb8af0>"
      ]
     },
     "execution_count": 14,
     "metadata": {},
     "output_type": "execute_result"
    }
   ],
   "source": [
    "print(\"Missin values in Test dataset : \")\n",
    "null_data = test_df.isnull().sum().to_frame().rename(columns={0:'Miss values'})\n",
    "null_data[\"Miss values percentage %\"] = round(test_df.isnull().sum() * 100 / len(train_df),2)\n",
    "null_data.style"
   ]
  },
  {
   "cell_type": "markdown",
   "id": "57bb493c",
   "metadata": {
    "papermill": {
     "duration": 0.023148,
     "end_time": "2023-05-26T09:57:33.345730",
     "exception": false,
     "start_time": "2023-05-26T09:57:33.322582",
     "status": "completed"
    },
    "tags": []
   },
   "source": [
    "### Showing target feature percentage "
   ]
  },
  {
   "cell_type": "code",
   "execution_count": 15,
   "id": "f00123ab",
   "metadata": {
    "execution": {
     "iopub.execute_input": "2023-05-26T09:57:33.394476Z",
     "iopub.status.busy": "2023-05-26T09:57:33.394034Z",
     "iopub.status.idle": "2023-05-26T09:57:33.587868Z",
     "shell.execute_reply": "2023-05-26T09:57:33.586018Z"
    },
    "papermill": {
     "duration": 0.223118,
     "end_time": "2023-05-26T09:57:33.592446",
     "exception": false,
     "start_time": "2023-05-26T09:57:33.369328",
     "status": "completed"
    },
    "tags": []
   },
   "outputs": [
    {
     "data": {
      "image/png": "[encoded data removed]",
      "text/plain": [
       "<Figure size 600x400 with 1 Axes>"
      ]
     },
     "metadata": {},
     "output_type": "display_data"
    }
   ],
   "source": [
    "plt.figure(figsize=(6,4))\n",
    "plt.pie(train_df[\"target\"].value_counts(), labels= train_df[\"target\"].value_counts().keys(),autopct='%1.1f%%')\n",
    "plt.title('Target values distribution')\n",
    "plt.show()"
   ]
  },
  {
   "cell_type": "markdown",
   "id": "fc4de253",
   "metadata": {
    "papermill": {
     "duration": 0.023668,
     "end_time": "2023-05-26T09:57:33.662714",
     "exception": false,
     "start_time": "2023-05-26T09:57:33.639046",
     "status": "completed"
    },
    "tags": []
   },
   "source": [
    "### Checking each keywords and their len "
   ]
  },
  {
   "cell_type": "code",
   "execution_count": 16,
   "id": "0e385841",
   "metadata": {
    "execution": {
     "iopub.execute_input": "2023-05-26T09:57:33.713268Z",
     "iopub.status.busy": "2023-05-26T09:57:33.712318Z",
     "iopub.status.idle": "2023-05-26T09:57:33.731108Z",
     "shell.execute_reply": "2023-05-26T09:57:33.729795Z"
    },
    "papermill": {
     "duration": 0.048894,
     "end_time": "2023-05-26T09:57:33.735526",
     "exception": false,
     "start_time": "2023-05-26T09:57:33.686632",
     "status": "completed"
    },
    "tags": []
   },
   "outputs": [
    {
     "name": "stdout",
     "output_type": "stream",
     "text": [
      "Train keyword len : 221\n"
     ]
    },
    {
     "data": {
      "text/plain": [
       "fatalities               45\n",
       "deluge                   42\n",
       "armageddon               42\n",
       "damage                   41\n",
       "body%20bags              41\n",
       "harm                     41\n",
       "windstorm                40\n",
       "twister                  40\n",
       "siren                    40\n",
       "evacuate                 40\n",
       "fear                     40\n",
       "flames                   39\n",
       "famine                   39\n",
       "collision                39\n",
       "earthquake               39\n",
       "explosion                39\n",
       "outbreak                 39\n",
       "sinkhole                 39\n",
       "sinking                  39\n",
       "sunk                     39\n",
       "weapon                   39\n",
       "weapons                  39\n",
       "whirlwind                39\n",
       "collided                 39\n",
       "wrecked                  39\n",
       "blaze                    38\n",
       "upheaval                 38\n",
       "drowned                  38\n",
       "thunder                  38\n",
       "flooding                 38\n",
       "explode                  38\n",
       "derailed                 38\n",
       "fire                     38\n",
       "bombed                   38\n",
       "ambulance                38\n",
       "oil%20spill              38\n",
       "hurricane                38\n",
       "deaths                   38\n",
       "crush                    37\n",
       "quarantined              37\n",
       "police                   37\n",
       "emergency                37\n",
       "pandemonium              37\n",
       "panic                    37\n",
       "curfew                   37\n",
       "hostages                 37\n",
       "mudslide                 37\n",
       "blizzard                 37\n",
       "ruin                     37\n",
       "destroy                  37\n",
       "sandstorm                37\n",
       "fatality                 37\n",
       "bioterror                37\n",
       "wounded                  37\n",
       "wreck                    37\n",
       "wreckage                 37\n",
       "debris                   37\n",
       "desolation               36\n",
       "nuclear%20reactor        36\n",
       "devastation              36\n",
       "dust%20storm             36\n",
       "evacuated                36\n",
       "massacre                 36\n",
       "danger                   36\n",
       "death                    36\n",
       "catastrophe              36\n",
       "typhoon                  36\n",
       "tragedy                  36\n",
       "attack                   36\n",
       "refugees                 36\n",
       "screaming                36\n",
       "cliff%20fall             36\n",
       "traumatised              35\n",
       "tornado                  35\n",
       "structural%20failure     35\n",
       "storm                    35\n",
       "screams                  35\n",
       "accident                 35\n",
       "flood                    35\n",
       "floods                   35\n",
       "emergency%20plan         35\n",
       "hail                     35\n",
       "attacked                 35\n",
       "hijacker                 35\n",
       "rioting                  35\n",
       "rescued                  35\n",
       "razed                    35\n",
       "injured                  35\n",
       "injury                   35\n",
       "inundated                35\n",
       "bloody                   35\n",
       "ablaze                   35\n",
       "bleeding                 35\n",
       "collapsed                35\n",
       "disaster                 35\n",
       "casualties               35\n",
       "buildings%20burning      35\n",
       "drought                  35\n",
       "bridge%20collapse        35\n",
       "derail                   35\n",
       "blood                    35\n",
       "rainstorm                34\n",
       "demolish                 34\n",
       "hazardous                34\n",
       "heat%20wave              34\n",
       "smoke                    34\n",
       "army                     34\n",
       "arsonist                 34\n",
       "military                 34\n",
       "crashed                  34\n",
       "casualty                 34\n",
       "lava                     34\n",
       "screamed                 34\n",
       "quarantine               34\n",
       "loud%20bang              34\n",
       "nuclear%20disaster       34\n",
       "demolition               34\n",
       "collide                  34\n",
       "hazard                   34\n",
       "destruction              34\n",
       "tsunami                  34\n",
       "electrocuted             34\n",
       "drowning                 34\n",
       "bomb                     34\n",
       "blazing                  34\n",
       "annihilated              34\n",
       "airplane%20accident      34\n",
       "flattened                34\n",
       "burning                  34\n",
       "terrorism                34\n",
       "wildfire                 33\n",
       "body%20bagging           33\n",
       "wounds                   33\n",
       "crash                    33\n",
       "blew%20up                33\n",
       "body%20bag               33\n",
       "stretcher                33\n",
       "riot                     33\n",
       "survived                 33\n",
       "collapse                 33\n",
       "violent%20storm          33\n",
       "chemical%20emergency     33\n",
       "trouble                  33\n",
       "burned                   33\n",
       "thunderstorm             33\n",
       "emergency%20services     33\n",
       "panicking                33\n",
       "natural%20disaster       33\n",
       "derailment               33\n",
       "evacuation               33\n",
       "landslide                33\n",
       "meltdown                 33\n",
       "blown%20up               33\n",
       "lightning                33\n",
       "injuries                 33\n",
       "forest%20fires           32\n",
       "buildings%20on%20fire    32\n",
       "detonation               32\n",
       "hijacking                32\n",
       "arson                    32\n",
       "destroyed                32\n",
       "hijack                   32\n",
       "detonate                 32\n",
       "survive                  32\n",
       "apocalypse               32\n",
       "hailstorm                32\n",
       "trapped                  32\n",
       "rescuers                 32\n",
       "mass%20murderer          32\n",
       "eyewitness               32\n",
       "electrocute              32\n",
       "exploded                 32\n",
       "aftershock               32\n",
       "cyclone                  32\n",
       "engulfed                 32\n",
       "suicide%20bombing        32\n",
       "mass%20murder            32\n",
       "drown                    32\n",
       "blight                   32\n",
       "fire%20truck             32\n",
       "displaced                32\n",
       "suicide%20bomber         31\n",
       "wild%20fires             31\n",
       "devastated               31\n",
       "trauma                   31\n",
       "burning%20buildings      31\n",
       "obliterate               31\n",
       "obliterated              31\n",
       "crushed                  31\n",
       "hostage                  31\n",
       "suicide%20bomb           30\n",
       "survivors                30\n",
       "dead                     30\n",
       "terrorist                30\n",
       "mayhem                   30\n",
       "catastrophic             30\n",
       "avalanche                30\n",
       "first%20responders       29\n",
       "obliteration             29\n",
       "fatal                    29\n",
       "annihilation             29\n",
       "hellfire                 29\n",
       "desolate                 29\n",
       "seismic                  29\n",
       "snowstorm                29\n",
       "sirens                   29\n",
       "demolished               28\n",
       "rubble                   28\n",
       "bombing                  28\n",
       "bioterrorism             28\n",
       "deluged                  27\n",
       "volcano                  26\n",
       "battle                   26\n",
       "bush%20fires             25\n",
       "war%20zone               24\n",
       "rescue                   21\n",
       "forest%20fire            19\n",
       "epicentre                12\n",
       "threat                   11\n",
       "inundation               10\n",
       "radiation%20emergency     9\n",
       "Name: keyword, dtype: int64"
      ]
     },
     "execution_count": 16,
     "metadata": {},
     "output_type": "execute_result"
    }
   ],
   "source": [
    "print(f'Train keyword len : {len(train_df.keyword.value_counts(normalize=True))}')\n",
    "train_df['keyword'].value_counts()"
   ]
  },
  {
   "cell_type": "markdown",
   "id": "66ff6455",
   "metadata": {
    "papermill": {
     "duration": 0.023368,
     "end_time": "2023-05-26T09:57:33.783277",
     "exception": false,
     "start_time": "2023-05-26T09:57:33.759909",
     "status": "completed"
    },
    "tags": []
   },
   "source": [
    "### Checking keywords (disaster or not)"
   ]
  },
  {
   "cell_type": "code",
   "execution_count": 17,
   "id": "940d5876",
   "metadata": {
    "execution": {
     "iopub.execute_input": "2023-05-26T09:57:33.833596Z",
     "iopub.status.busy": "2023-05-26T09:57:33.833156Z",
     "iopub.status.idle": "2023-05-26T09:57:33.893958Z",
     "shell.execute_reply": "2023-05-26T09:57:33.892646Z"
    },
    "papermill": {
     "duration": 0.089596,
     "end_time": "2023-05-26T09:57:33.896529",
     "exception": false,
     "start_time": "2023-05-26T09:57:33.806933",
     "status": "completed"
    },
    "tags": []
   },
   "outputs": [
    {
     "data": {
      "text/html": [
       "<div>\n",
       "<style scoped>\n",
       "    .dataframe tbody tr th:only-of-type {\n",
       "        vertical-align: middle;\n",
       "    }\n",
       "\n",
       "    .dataframe tbody tr th {\n",
       "        vertical-align: top;\n",
       "    }\n",
       "\n",
       "    .dataframe thead th {\n",
       "        text-align: right;\n",
       "    }\n",
       "</style>\n",
       "<table border=\"1\" class=\"dataframe\">\n",
       "  <thead>\n",
       "    <tr style=\"text-align: right;\">\n",
       "      <th>target</th>\n",
       "      <th>0</th>\n",
       "      <th>1</th>\n",
       "    </tr>\n",
       "    <tr>\n",
       "      <th>keyword</th>\n",
       "      <th></th>\n",
       "      <th></th>\n",
       "    </tr>\n",
       "  </thead>\n",
       "  <tbody>\n",
       "    <tr>\n",
       "      <th>outbreak</th>\n",
       "      <td>1</td>\n",
       "      <td>38</td>\n",
       "    </tr>\n",
       "    <tr>\n",
       "      <th>debris</th>\n",
       "      <td>0</td>\n",
       "      <td>37</td>\n",
       "    </tr>\n",
       "    <tr>\n",
       "      <th>wreckage</th>\n",
       "      <td>0</td>\n",
       "      <td>37</td>\n",
       "    </tr>\n",
       "    <tr>\n",
       "      <th>oil%20spill</th>\n",
       "      <td>1</td>\n",
       "      <td>37</td>\n",
       "    </tr>\n",
       "    <tr>\n",
       "      <th>typhoon</th>\n",
       "      <td>1</td>\n",
       "      <td>35</td>\n",
       "    </tr>\n",
       "    <tr>\n",
       "      <th>derailment</th>\n",
       "      <td>0</td>\n",
       "      <td>33</td>\n",
       "    </tr>\n",
       "    <tr>\n",
       "      <th>evacuated</th>\n",
       "      <td>4</td>\n",
       "      <td>32</td>\n",
       "    </tr>\n",
       "    <tr>\n",
       "      <th>suicide%20bombing</th>\n",
       "      <td>1</td>\n",
       "      <td>31</td>\n",
       "    </tr>\n",
       "    <tr>\n",
       "      <th>nuclear%20disaster</th>\n",
       "      <td>3</td>\n",
       "      <td>31</td>\n",
       "    </tr>\n",
       "    <tr>\n",
       "      <th>razed</th>\n",
       "      <td>4</td>\n",
       "      <td>31</td>\n",
       "    </tr>\n",
       "    <tr>\n",
       "      <th>suicide%20bomber</th>\n",
       "      <td>1</td>\n",
       "      <td>30</td>\n",
       "    </tr>\n",
       "    <tr>\n",
       "      <th>earthquake</th>\n",
       "      <td>9</td>\n",
       "      <td>30</td>\n",
       "    </tr>\n",
       "    <tr>\n",
       "      <th>rescuers</th>\n",
       "      <td>3</td>\n",
       "      <td>29</td>\n",
       "    </tr>\n",
       "    <tr>\n",
       "      <th>wildfire</th>\n",
       "      <td>4</td>\n",
       "      <td>29</td>\n",
       "    </tr>\n",
       "    <tr>\n",
       "      <th>airplane%20accident</th>\n",
       "      <td>5</td>\n",
       "      <td>29</td>\n",
       "    </tr>\n",
       "    <tr>\n",
       "      <th>bridge%20collapse</th>\n",
       "      <td>6</td>\n",
       "      <td>29</td>\n",
       "    </tr>\n",
       "    <tr>\n",
       "      <th>collision</th>\n",
       "      <td>10</td>\n",
       "      <td>29</td>\n",
       "    </tr>\n",
       "    <tr>\n",
       "      <th>casualties</th>\n",
       "      <td>7</td>\n",
       "      <td>28</td>\n",
       "    </tr>\n",
       "    <tr>\n",
       "      <th>drought</th>\n",
       "      <td>7</td>\n",
       "      <td>28</td>\n",
       "    </tr>\n",
       "    <tr>\n",
       "      <th>sandstorm</th>\n",
       "      <td>9</td>\n",
       "      <td>28</td>\n",
       "    </tr>\n",
       "  </tbody>\n",
       "</table>\n",
       "</div>"
      ],
      "text/plain": [
       "target                0   1\n",
       "keyword                    \n",
       "outbreak              1  38\n",
       "debris                0  37\n",
       "wreckage              0  37\n",
       "oil%20spill           1  37\n",
       "typhoon               1  35\n",
       "derailment            0  33\n",
       "evacuated             4  32\n",
       "suicide%20bombing     1  31\n",
       "nuclear%20disaster    3  31\n",
       "razed                 4  31\n",
       "suicide%20bomber      1  30\n",
       "earthquake            9  30\n",
       "rescuers              3  29\n",
       "wildfire              4  29\n",
       "airplane%20accident   5  29\n",
       "bridge%20collapse     6  29\n",
       "collision            10  29\n",
       "casualties            7  28\n",
       "drought               7  28\n",
       "sandstorm             9  28"
      ]
     },
     "execution_count": 17,
     "metadata": {},
     "output_type": "execute_result"
    }
   ],
   "source": [
    "keyword_values=pd.crosstab(train_df['keyword'] , train_df['target'])\n",
    "keyword_values.sort_values(by=[1,0], ascending=[False,True] )[:20]"
   ]
  },
  {
   "cell_type": "markdown",
   "id": "c3adccb9",
   "metadata": {
    "papermill": {
     "duration": 0.024183,
     "end_time": "2023-05-26T09:57:33.946225",
     "exception": false,
     "start_time": "2023-05-26T09:57:33.922042",
     "status": "completed"
    },
    "tags": []
   },
   "source": [
    "### Showing Top Ten Keywords (Used)"
   ]
  },
  {
   "cell_type": "code",
   "execution_count": 18,
   "id": "343287f8",
   "metadata": {
    "execution": {
     "iopub.execute_input": "2023-05-26T09:57:33.998451Z",
     "iopub.status.busy": "2023-05-26T09:57:33.998031Z",
     "iopub.status.idle": "2023-05-26T09:57:34.434907Z",
     "shell.execute_reply": "2023-05-26T09:57:34.433046Z"
    },
    "papermill": {
     "duration": 0.466209,
     "end_time": "2023-05-26T09:57:34.437618",
     "exception": false,
     "start_time": "2023-05-26T09:57:33.971409",
     "status": "completed"
    },
    "tags": []
   },
   "outputs": [
    {
     "data": {
      "image/png": "[encoded data removed]",
      "text/plain": [
       "<Figure size 640x480 with 1 Axes>"
      ]
     },
     "metadata": {},
     "output_type": "display_data"
    }
   ],
   "source": [
    "sns.barplot(y=train_df['keyword'].value_counts()[:10].index,x=train_df['keyword'].value_counts()[:10],\n",
    "            orient='h')\n",
    "plt.title(\"Top ten keywords \")\n",
    "plt.show()"
   ]
  },
  {
   "cell_type": "markdown",
   "id": "fab25c47",
   "metadata": {
    "papermill": {
     "duration": 0.026226,
     "end_time": "2023-05-26T09:57:34.489502",
     "exception": false,
     "start_time": "2023-05-26T09:57:34.463276",
     "status": "completed"
    },
    "tags": []
   },
   "source": [
    "### trimming all locations names"
   ]
  },
  {
   "cell_type": "code",
   "execution_count": 19,
   "id": "2865f639",
   "metadata": {
    "execution": {
     "iopub.execute_input": "2023-05-26T09:57:34.543327Z",
     "iopub.status.busy": "2023-05-26T09:57:34.542920Z",
     "iopub.status.idle": "2023-05-26T09:57:34.568344Z",
     "shell.execute_reply": "2023-05-26T09:57:34.567276Z"
    },
    "papermill": {
     "duration": 0.054581,
     "end_time": "2023-05-26T09:57:34.571068",
     "exception": false,
     "start_time": "2023-05-26T09:57:34.516487",
     "status": "completed"
    },
    "tags": []
   },
   "outputs": [],
   "source": [
    "train_df['location'].replace({\n",
    "\n",
    "\n",
    "                           'New York':'USA',\n",
    "                           'United States':'USA',\n",
    "                            \"Florida\":'USA',\n",
    "                            \"Los Angeles, CA\":'USA',\n",
    "                            \"Washington, D.C.\":'USA',\n",
    "                            \"California\":'USA',\n",
    "                            \"Chicago, IL\":'USA',\n",
    "                            \"Chicago\":'USA',\n",
    "                            \"San Francisco\":'USA',\n",
    "                            \"New York, NY\":'USA',\n",
    "                            \"California, USA\":'USA',\n",
    "                            \"FLorida\":'USA',\n",
    "                            \"Los Angeles\":'USA',\n",
    "                            \"San Francisco, CA\":'USA',\n",
    "                            \"NYC\":'USA',\n",
    "                            \"Seattle\":'USA',\n",
    "                            \"New York City\":'USA',\n",
    "                            \"Atlanta, GA\":'USA',\n",
    "                            \"Texas\":'USA',\n",
    "\n",
    "                            \"Ireland\":'UK',\"London, England\":'UK',\n",
    "                            \"London, UK\":'UK',\n",
    "                            \"London\":'UK',\n",
    "                            \"United Kingdom\":'UK',\n",
    "\n",
    "                            \"Nigeria\":'Africa',\n",
    "                            \"Kenya\":'Africa',\n",
    "\n",
    "                            \"Everywhere\":'Somewehere',\n",
    "                            \"Earth\":'Somewehere', \n",
    "                            \n",
    "\n",
    "                            \"Mumbai\":\"India\", \n",
    "\n",
    "                            \"Toronto\":'Canada'\n",
    "\n",
    "                            },inplace=True)"
   ]
  },
  {
   "cell_type": "markdown",
   "id": "24f7e239",
   "metadata": {
    "papermill": {
     "duration": 0.024632,
     "end_time": "2023-05-26T09:57:34.620527",
     "exception": false,
     "start_time": "2023-05-26T09:57:34.595895",
     "status": "completed"
    },
    "tags": []
   },
   "source": [
    "### Showing Top Ten Locations"
   ]
  },
  {
   "cell_type": "code",
   "execution_count": 20,
   "id": "72d0ce11",
   "metadata": {
    "execution": {
     "iopub.execute_input": "2023-05-26T09:57:34.672984Z",
     "iopub.status.busy": "2023-05-26T09:57:34.672553Z",
     "iopub.status.idle": "2023-05-26T09:57:35.098849Z",
     "shell.execute_reply": "2023-05-26T09:57:35.097929Z"
    },
    "papermill": {
     "duration": 0.456173,
     "end_time": "2023-05-26T09:57:35.101392",
     "exception": false,
     "start_time": "2023-05-26T09:57:34.645219",
     "status": "completed"
    },
    "tags": []
   },
   "outputs": [
    {
     "data": {
      "image/png": "[encoded data removed]",
      "text/plain": [
       "<Figure size 640x480 with 1 Axes>"
      ]
     },
     "metadata": {},
     "output_type": "display_data"
    }
   ],
   "source": [
    "sns.barplot(y=train_df['location'].value_counts()[:10].index , x=train_df['location'].value_counts()[:10] ,orient='h')\n",
    "plt.title('Top common locations')\n",
    "plt.show()"
   ]
  },
  {
   "cell_type": "markdown",
   "id": "3c325f69",
   "metadata": {
    "papermill": {
     "duration": 0.026311,
     "end_time": "2023-05-26T09:57:35.153781",
     "exception": false,
     "start_time": "2023-05-26T09:57:35.127470",
     "status": "completed"
    },
    "tags": []
   },
   "source": [
    "<div style=\"color:white;\n",
    "           display:fill;\n",
    "           border-radius:5px;\n",
    "           background-color:black;\n",
    "           font-size:200%;\n",
    "           font-family:Serif;\n",
    "           letter-spacing:0.5px\">\n",
    "\n",
    "<p style=\"padding: 10px;\n",
    "          color:white;\n",
    "          font-size:120%;\n",
    "          text-align:center;\">\n",
    "Data Pre-Processing\n",
    "</p>\n",
    "</div>"
   ]
  },
  {
   "cell_type": "markdown",
   "id": "17339ff8",
   "metadata": {
    "papermill": {
     "duration": 0.026316,
     "end_time": "2023-05-26T09:57:35.207081",
     "exception": false,
     "start_time": "2023-05-26T09:57:35.180765",
     "status": "completed"
    },
    "tags": []
   },
   "source": [
    "### Cleaning text"
   ]
  },
  {
   "cell_type": "code",
   "execution_count": 21,
   "id": "0a1bd6e8",
   "metadata": {
    "execution": {
     "iopub.execute_input": "2023-05-26T09:57:35.261196Z",
     "iopub.status.busy": "2023-05-26T09:57:35.260794Z",
     "iopub.status.idle": "2023-05-26T09:57:35.720481Z",
     "shell.execute_reply": "2023-05-26T09:57:35.719325Z"
    },
    "papermill": {
     "duration": 0.489899,
     "end_time": "2023-05-26T09:57:35.723232",
     "exception": false,
     "start_time": "2023-05-26T09:57:35.233333",
     "status": "completed"
    },
    "tags": []
   },
   "outputs": [],
   "source": [
    "def text_cleaner(text):\n",
    "    \n",
    "    text=text.lower()\n",
    "    text = re.sub('\\[.*?\\]', '', text)\n",
    "    text = re.sub('https?://\\S+|www\\.\\S+', '', text)\n",
    "    text = re.sub('<.*?>+', '', text)\n",
    "    text = re.sub('[%s]' % re.escape(string.punctuation), '', text)\n",
    "    text = re.sub('\\n', '', text)\n",
    "    text = re.sub('\\w*\\d\\w*', '', text)\n",
    "    return text \n",
    "\n",
    "train_df['text']=train_df['text'].apply(lambda x :text_cleaner(x))\n",
    "test_df['text']=test_df['text'].apply(lambda x :text_cleaner(x))"
   ]
  },
  {
   "cell_type": "code",
   "execution_count": 22,
   "id": "4fc61808",
   "metadata": {
    "execution": {
     "iopub.execute_input": "2023-05-26T09:57:35.778306Z",
     "iopub.status.busy": "2023-05-26T09:57:35.777852Z",
     "iopub.status.idle": "2023-05-26T09:57:35.788227Z",
     "shell.execute_reply": "2023-05-26T09:57:35.786697Z"
    },
    "papermill": {
     "duration": 0.041266,
     "end_time": "2023-05-26T09:57:35.790833",
     "exception": false,
     "start_time": "2023-05-26T09:57:35.749567",
     "status": "completed"
    },
    "tags": []
   },
   "outputs": [
    {
     "data": {
      "text/plain": [
       "7142     well im also gay but girls like some too so  ...\n",
       "2375    temecafreeman gm i pray any attack of the enem...\n",
       "4587    health fact  of muscle mass is made up of flui...\n",
       "6721    severe thunderstorm warnings have been cancell...\n",
       "5051    raì¼l sends a message of condolence to vietnam...\n",
       "6335    the result of failure in correcting structural...\n",
       "2198    interesting  aircraft debris found on la reuni...\n",
       "3003    dust devil maintenance fee  buy up la rotary s...\n",
       "1839    honestly nightmarish god driving to new places...\n",
       "2521    free kindle book  aug   thriller  desolation r...\n",
       "Name: text, dtype: object"
      ]
     },
     "execution_count": 22,
     "metadata": {},
     "output_type": "execute_result"
    }
   ],
   "source": [
    "train_df['text'].sample(10)"
   ]
  },
  {
   "cell_type": "code",
   "execution_count": 23,
   "id": "3aa0b97a",
   "metadata": {
    "execution": {
     "iopub.execute_input": "2023-05-26T09:57:35.846143Z",
     "iopub.status.busy": "2023-05-26T09:57:35.845511Z",
     "iopub.status.idle": "2023-05-26T09:57:35.859958Z",
     "shell.execute_reply": "2023-05-26T09:57:35.858690Z"
    },
    "papermill": {
     "duration": 0.046041,
     "end_time": "2023-05-26T09:57:35.862747",
     "exception": false,
     "start_time": "2023-05-26T09:57:35.816706",
     "status": "completed"
    },
    "tags": []
   },
   "outputs": [
    {
     "data": {
      "text/html": [
       "<div>\n",
       "<style scoped>\n",
       "    .dataframe tbody tr th:only-of-type {\n",
       "        vertical-align: middle;\n",
       "    }\n",
       "\n",
       "    .dataframe tbody tr th {\n",
       "        vertical-align: top;\n",
       "    }\n",
       "\n",
       "    .dataframe thead th {\n",
       "        text-align: right;\n",
       "    }\n",
       "</style>\n",
       "<table border=\"1\" class=\"dataframe\">\n",
       "  <thead>\n",
       "    <tr style=\"text-align: right;\">\n",
       "      <th></th>\n",
       "      <th>id</th>\n",
       "      <th>keyword</th>\n",
       "      <th>location</th>\n",
       "      <th>text</th>\n",
       "      <th>target</th>\n",
       "    </tr>\n",
       "  </thead>\n",
       "  <tbody>\n",
       "    <tr>\n",
       "      <th>0</th>\n",
       "      <td>1</td>\n",
       "      <td>NaN</td>\n",
       "      <td>NaN</td>\n",
       "      <td>our deeds are the reason of this earthquake ma...</td>\n",
       "      <td>1</td>\n",
       "    </tr>\n",
       "    <tr>\n",
       "      <th>1</th>\n",
       "      <td>4</td>\n",
       "      <td>NaN</td>\n",
       "      <td>NaN</td>\n",
       "      <td>forest fire near la ronge sask canada</td>\n",
       "      <td>1</td>\n",
       "    </tr>\n",
       "    <tr>\n",
       "      <th>2</th>\n",
       "      <td>5</td>\n",
       "      <td>NaN</td>\n",
       "      <td>NaN</td>\n",
       "      <td>all residents asked to shelter in place are be...</td>\n",
       "      <td>1</td>\n",
       "    </tr>\n",
       "    <tr>\n",
       "      <th>3</th>\n",
       "      <td>6</td>\n",
       "      <td>NaN</td>\n",
       "      <td>NaN</td>\n",
       "      <td>people receive wildfires evacuation orders in...</td>\n",
       "      <td>1</td>\n",
       "    </tr>\n",
       "    <tr>\n",
       "      <th>4</th>\n",
       "      <td>7</td>\n",
       "      <td>NaN</td>\n",
       "      <td>NaN</td>\n",
       "      <td>just got sent this photo from ruby alaska as s...</td>\n",
       "      <td>1</td>\n",
       "    </tr>\n",
       "  </tbody>\n",
       "</table>\n",
       "</div>"
      ],
      "text/plain": [
       "   id keyword location                                               text  \\\n",
       "0   1     NaN      NaN  our deeds are the reason of this earthquake ma...   \n",
       "1   4     NaN      NaN              forest fire near la ronge sask canada   \n",
       "2   5     NaN      NaN  all residents asked to shelter in place are be...   \n",
       "3   6     NaN      NaN   people receive wildfires evacuation orders in...   \n",
       "4   7     NaN      NaN  just got sent this photo from ruby alaska as s...   \n",
       "\n",
       "   target  \n",
       "0       1  \n",
       "1       1  \n",
       "2       1  \n",
       "3       1  \n",
       "4       1  "
      ]
     },
     "execution_count": 23,
     "metadata": {},
     "output_type": "execute_result"
    }
   ],
   "source": [
    "train_df.head()"
   ]
  },
  {
   "cell_type": "markdown",
   "id": "3ab412e2",
   "metadata": {
    "papermill": {
     "duration": 0.025834,
     "end_time": "2023-05-26T09:57:35.914794",
     "exception": false,
     "start_time": "2023-05-26T09:57:35.888960",
     "status": "completed"
    },
    "tags": []
   },
   "source": [
    "### Tokenization process"
   ]
  },
  {
   "cell_type": "code",
   "execution_count": 24,
   "id": "acd6115b",
   "metadata": {
    "execution": {
     "iopub.execute_input": "2023-05-26T09:57:35.970961Z",
     "iopub.status.busy": "2023-05-26T09:57:35.970525Z",
     "iopub.status.idle": "2023-05-26T09:57:36.248901Z",
     "shell.execute_reply": "2023-05-26T09:57:36.247595Z"
    },
    "papermill": {
     "duration": 0.310441,
     "end_time": "2023-05-26T09:57:36.251623",
     "exception": false,
     "start_time": "2023-05-26T09:57:35.941182",
     "status": "completed"
    },
    "tags": []
   },
   "outputs": [],
   "source": [
    "Tokenizer=RegexpTokenizer(r'\\w+')\n",
    "train_df['text']=train_df['text'].apply(lambda x : Tokenizer.tokenize(x))\n",
    "test_df['text']=test_df['text'].apply(lambda x : Tokenizer.tokenize(x))"
   ]
  },
  {
   "cell_type": "code",
   "execution_count": 25,
   "id": "f1418004",
   "metadata": {
    "execution": {
     "iopub.execute_input": "2023-05-26T09:57:36.308647Z",
     "iopub.status.busy": "2023-05-26T09:57:36.308233Z",
     "iopub.status.idle": "2023-05-26T09:57:36.330050Z",
     "shell.execute_reply": "2023-05-26T09:57:36.329134Z"
    },
    "papermill": {
     "duration": 0.053838,
     "end_time": "2023-05-26T09:57:36.332546",
     "exception": false,
     "start_time": "2023-05-26T09:57:36.278708",
     "status": "completed"
    },
    "tags": []
   },
   "outputs": [
    {
     "data": {
      "text/html": [
       "<div>\n",
       "<style scoped>\n",
       "    .dataframe tbody tr th:only-of-type {\n",
       "        vertical-align: middle;\n",
       "    }\n",
       "\n",
       "    .dataframe tbody tr th {\n",
       "        vertical-align: top;\n",
       "    }\n",
       "\n",
       "    .dataframe thead th {\n",
       "        text-align: right;\n",
       "    }\n",
       "</style>\n",
       "<table border=\"1\" class=\"dataframe\">\n",
       "  <thead>\n",
       "    <tr style=\"text-align: right;\">\n",
       "      <th></th>\n",
       "      <th>id</th>\n",
       "      <th>keyword</th>\n",
       "      <th>location</th>\n",
       "      <th>text</th>\n",
       "      <th>target</th>\n",
       "    </tr>\n",
       "  </thead>\n",
       "  <tbody>\n",
       "    <tr>\n",
       "      <th>2198</th>\n",
       "      <td>3150</td>\n",
       "      <td>debris</td>\n",
       "      <td>Bristol, UK</td>\n",
       "      <td>[interesting, aircraft, debris, found, on, la,...</td>\n",
       "      <td>1</td>\n",
       "    </tr>\n",
       "    <tr>\n",
       "      <th>4476</th>\n",
       "      <td>6366</td>\n",
       "      <td>hostages</td>\n",
       "      <td>china</td>\n",
       "      <td>[hot, specially, modified, to, land, in, a, st...</td>\n",
       "      <td>0</td>\n",
       "    </tr>\n",
       "    <tr>\n",
       "      <th>4202</th>\n",
       "      <td>5965</td>\n",
       "      <td>hazard</td>\n",
       "      <td>USA</td>\n",
       "      <td>[biggest, lead, hazard, in, new, england, hist...</td>\n",
       "      <td>0</td>\n",
       "    </tr>\n",
       "    <tr>\n",
       "      <th>195</th>\n",
       "      <td>274</td>\n",
       "      <td>ambulance</td>\n",
       "      <td>|| c h i c a g o ||</td>\n",
       "      <td>[when, you, dont, know, which, way, an, ambula...</td>\n",
       "      <td>1</td>\n",
       "    </tr>\n",
       "    <tr>\n",
       "      <th>2170</th>\n",
       "      <td>3112</td>\n",
       "      <td>debris</td>\n",
       "      <td>NaN</td>\n",
       "      <td>[aircraft, debris, found, on, la, reunion, is,...</td>\n",
       "      <td>1</td>\n",
       "    </tr>\n",
       "    <tr>\n",
       "      <th>4349</th>\n",
       "      <td>6175</td>\n",
       "      <td>hijack</td>\n",
       "      <td>NaN</td>\n",
       "      <td>[rickybonessxm, fuck, specially, there, new, s...</td>\n",
       "      <td>0</td>\n",
       "    </tr>\n",
       "    <tr>\n",
       "      <th>2108</th>\n",
       "      <td>3027</td>\n",
       "      <td>death</td>\n",
       "      <td>NaN</td>\n",
       "      <td>[going, to, starve, to, death]</td>\n",
       "      <td>0</td>\n",
       "    </tr>\n",
       "    <tr>\n",
       "      <th>4920</th>\n",
       "      <td>7008</td>\n",
       "      <td>mayhem</td>\n",
       "      <td>GLOBAL/WORLDWIDE</td>\n",
       "      <td>[raynbowaffair, editor, in, chief, diamondkesa...</td>\n",
       "      <td>0</td>\n",
       "    </tr>\n",
       "    <tr>\n",
       "      <th>2102</th>\n",
       "      <td>3019</td>\n",
       "      <td>death</td>\n",
       "      <td>NaN</td>\n",
       "      <td>[rss, judge, orders, texas, to, recognize, spo...</td>\n",
       "      <td>0</td>\n",
       "    </tr>\n",
       "    <tr>\n",
       "      <th>6421</th>\n",
       "      <td>9181</td>\n",
       "      <td>suicide%20bomber</td>\n",
       "      <td>NaN</td>\n",
       "      <td>[bbclaurak, why, is, no, one, talking, about, ...</td>\n",
       "      <td>1</td>\n",
       "    </tr>\n",
       "  </tbody>\n",
       "</table>\n",
       "</div>"
      ],
      "text/plain": [
       "        id           keyword             location  \\\n",
       "2198  3150            debris          Bristol, UK   \n",
       "4476  6366          hostages                china   \n",
       "4202  5965            hazard                  USA   \n",
       "195    274         ambulance  || c h i c a g o ||   \n",
       "2170  3112            debris                  NaN   \n",
       "4349  6175            hijack                  NaN   \n",
       "2108  3027             death                  NaN   \n",
       "4920  7008            mayhem     GLOBAL/WORLDWIDE   \n",
       "2102  3019             death                  NaN   \n",
       "6421  9181  suicide%20bomber                  NaN   \n",
       "\n",
       "                                                   text  target  \n",
       "2198  [interesting, aircraft, debris, found, on, la,...       1  \n",
       "4476  [hot, specially, modified, to, land, in, a, st...       0  \n",
       "4202  [biggest, lead, hazard, in, new, england, hist...       0  \n",
       "195   [when, you, dont, know, which, way, an, ambula...       1  \n",
       "2170  [aircraft, debris, found, on, la, reunion, is,...       1  \n",
       "4349  [rickybonessxm, fuck, specially, there, new, s...       0  \n",
       "2108                     [going, to, starve, to, death]       0  \n",
       "4920  [raynbowaffair, editor, in, chief, diamondkesa...       0  \n",
       "2102  [rss, judge, orders, texas, to, recognize, spo...       0  \n",
       "6421  [bbclaurak, why, is, no, one, talking, about, ...       1  "
      ]
     },
     "execution_count": 25,
     "metadata": {},
     "output_type": "execute_result"
    }
   ],
   "source": [
    "train_df.sample(10)"
   ]
  },
  {
   "cell_type": "markdown",
   "id": "f10742ac",
   "metadata": {
    "papermill": {
     "duration": 0.027286,
     "end_time": "2023-05-26T09:57:36.386718",
     "exception": false,
     "start_time": "2023-05-26T09:57:36.359432",
     "status": "completed"
    },
    "tags": []
   },
   "source": [
    "### Downloading momentous packeges"
   ]
  },
  {
   "cell_type": "code",
   "execution_count": 26,
   "id": "64761437",
   "metadata": {
    "execution": {
     "iopub.execute_input": "2023-05-26T09:57:36.443582Z",
     "iopub.status.busy": "2023-05-26T09:57:36.443160Z",
     "iopub.status.idle": "2023-05-26T09:57:37.015641Z",
     "shell.execute_reply": "2023-05-26T09:57:37.014406Z"
    },
    "papermill": {
     "duration": 0.604415,
     "end_time": "2023-05-26T09:57:37.018251",
     "exception": false,
     "start_time": "2023-05-26T09:57:36.413836",
     "status": "completed"
    },
    "tags": []
   },
   "outputs": [
    {
     "name": "stderr",
     "output_type": "stream",
     "text": [
      "[nltk_data] Downloading package wordnet to\n",
      "[nltk_data]     /Users/luyuxuan/nltk_data...\n",
      "[nltk_data] Downloading package punkt to /Users/luyuxuan/nltk_data...\n",
      "[nltk_data]   Package punkt is already up-to-date!\n",
      "[nltk_data] Downloading package averaged_perceptron_tagger to\n",
      "[nltk_data]     /Users/luyuxuan/nltk_data...\n",
      "[nltk_data]   Package averaged_perceptron_tagger is already up-to-\n",
      "[nltk_data]       date!\n",
      "[nltk_data] Downloading package omw-1.4 to\n",
      "[nltk_data]     /Users/luyuxuan/nltk_data...\n",
      "[nltk_data]   Package omw-1.4 is already up-to-date!\n"
     ]
    },
    {
     "data": {
      "text/plain": [
       "True"
      ]
     },
     "execution_count": 26,
     "metadata": {},
     "output_type": "execute_result"
    }
   ],
   "source": [
    "nltk.download('wordnet')\n",
    "nltk.download('punkt')\n",
    "nltk.download('averaged_perceptron_tagger')\n",
    "nltk.download('omw-1.4')"
   ]
  },
  {
   "cell_type": "markdown",
   "id": "a7d4369c",
   "metadata": {
    "papermill": {
     "duration": 0.027872,
     "end_time": "2023-05-26T09:57:37.073327",
     "exception": false,
     "start_time": "2023-05-26T09:57:37.045455",
     "status": "completed"
    },
    "tags": []
   },
   "source": [
    "### lemmatization processing and pasting words together"
   ]
  },
  {
   "cell_type": "code",
   "execution_count": 27,
   "id": "9a0dee29",
   "metadata": {
    "execution": {
     "iopub.execute_input": "2023-05-26T09:57:37.129200Z",
     "iopub.status.busy": "2023-05-26T09:57:37.128616Z",
     "iopub.status.idle": "2023-05-26T09:57:42.865592Z",
     "shell.execute_reply": "2023-05-26T09:57:42.864746Z"
    },
    "papermill": {
     "duration": 5.768407,
     "end_time": "2023-05-26T09:57:42.868384",
     "exception": false,
     "start_time": "2023-05-26T09:57:37.099977",
     "status": "completed"
    },
    "tags": []
   },
   "outputs": [],
   "source": [
    "\n",
    "# lemmatizer = WordNetLemmatizer() we can use lemmatizer \n",
    "Stemmer = PorterStemmer()\n",
    "def stopwords_cleaner(text):\n",
    "\n",
    "    stopwords_list = stopwords.words('english')\n",
    "    # word = [lemmatizer.lemmatize(letter) for letter in text if letter not in stopwords_list]\n",
    "    word = [Stemmer.stem(letter) for letter in text if letter not in stopwords_list]\n",
    "    peasting = ' '.join(word)\n",
    "    return peasting\n",
    "\n",
    "\n",
    "train_df['text'] = train_df['text'].apply(lambda x : stopwords_cleaner(x))\n",
    "test_df['text'] = test_df['text'].apply(lambda x : stopwords_cleaner(x))"
   ]
  },
  {
   "cell_type": "code",
   "execution_count": 28,
   "id": "a94231ce",
   "metadata": {
    "execution": {
     "iopub.execute_input": "2023-05-26T09:57:42.925277Z",
     "iopub.status.busy": "2023-05-26T09:57:42.924276Z",
     "iopub.status.idle": "2023-05-26T09:57:42.932805Z",
     "shell.execute_reply": "2023-05-26T09:57:42.931830Z"
    },
    "papermill": {
     "duration": 0.039797,
     "end_time": "2023-05-26T09:57:42.935241",
     "exception": false,
     "start_time": "2023-05-26T09:57:42.895444",
     "status": "completed"
    },
    "tags": []
   },
   "outputs": [
    {
     "data": {
      "text/plain": [
       "1943                          dont even come worri curfew\n",
       "4993         peopl die human experi unit japanes militari\n",
       "6291               dove storm greatest denier electr prom\n",
       "1163    sioux citi fire offici believ bridg collaps le...\n",
       "887     enter win entir set butterlondon lip crayon vi...\n",
       "6382    old pkk suicid bomber deton bomb turkey armi t...\n",
       "1807             akilah world news cop pull man car avoid\n",
       "286     rt ourmothermari short readingapocalyps spirit...\n",
       "7559                           exot car wreck train accid\n",
       "6194    run siren half hour hotel halfhourhotel edgars...\n",
       "Name: text, dtype: object"
      ]
     },
     "execution_count": 28,
     "metadata": {},
     "output_type": "execute_result"
    }
   ],
   "source": [
    "train_df['text'].sample(10)"
   ]
  },
  {
   "cell_type": "markdown",
   "id": "a749e358",
   "metadata": {
    "papermill": {
     "duration": 0.026731,
     "end_time": "2023-05-26T09:57:42.989267",
     "exception": false,
     "start_time": "2023-05-26T09:57:42.962536",
     "status": "completed"
    },
    "tags": []
   },
   "source": [
    "### Using CounterVectorizer on our text"
   ]
  },
  {
   "cell_type": "code",
   "execution_count": 29,
   "id": "e72151a2",
   "metadata": {
    "execution": {
     "iopub.execute_input": "2023-05-26T09:57:43.046735Z",
     "iopub.status.busy": "2023-05-26T09:57:43.046078Z",
     "iopub.status.idle": "2023-05-26T09:57:43.277147Z",
     "shell.execute_reply": "2023-05-26T09:57:43.275681Z"
    },
    "papermill": {
     "duration": 0.262396,
     "end_time": "2023-05-26T09:57:43.279610",
     "exception": false,
     "start_time": "2023-05-26T09:57:43.017214",
     "status": "completed"
    },
    "tags": []
   },
   "outputs": [
    {
     "name": "stdout",
     "output_type": "stream",
     "text": [
      "[[0 0 0 ... 0 0 0]]\n"
     ]
    }
   ],
   "source": [
    "count_vectorizer=CountVectorizer()\n",
    "train_vectors=count_vectorizer.fit_transform(train_df['text'])\n",
    "\n",
    "test_vectors = count_vectorizer.transform(test_df[\"text\"])\n",
    "\n",
    "\n",
    "print(train_vectors[0].todense())"
   ]
  },
  {
   "cell_type": "markdown",
   "id": "eaeee890",
   "metadata": {
    "papermill": {
     "duration": 0.029116,
     "end_time": "2023-05-26T09:57:43.335693",
     "exception": false,
     "start_time": "2023-05-26T09:57:43.306577",
     "status": "completed"
    },
    "tags": []
   },
   "source": [
    "<div style=\"color:white;\n",
    "           display:fill;\n",
    "           border-radius:5px;\n",
    "           background-color:black;\n",
    "           font-size:200%;\n",
    "           font-family:Serif;\n",
    "           letter-spacing:0.5px\">\n",
    "\n",
    "<p style=\"padding: 10px;\n",
    "          color:white;\n",
    "          font-size:120%;\n",
    "          text-align:center;\">\n",
    "Model Building \n",
    "</p>\n",
    "</div>"
   ]
  },
  {
   "cell_type": "markdown",
   "id": "7ef69fcb",
   "metadata": {
    "papermill": {
     "duration": 0.027638,
     "end_time": "2023-05-26T09:57:43.390490",
     "exception": false,
     "start_time": "2023-05-26T09:57:43.362852",
     "status": "completed"
    },
    "tags": []
   },
   "source": [
    "### Spliting data to train and test (CounterVectorizer)"
   ]
  },
  {
   "cell_type": "code",
   "execution_count": 143,
   "id": "d1696526",
   "metadata": {
    "execution": {
     "iopub.execute_input": "2023-05-26T09:57:43.450070Z",
     "iopub.status.busy": "2023-05-26T09:57:43.449614Z",
     "iopub.status.idle": "2023-05-26T09:57:43.460377Z",
     "shell.execute_reply": "2023-05-26T09:57:43.458970Z"
    },
    "papermill": {
     "duration": 0.044877,
     "end_time": "2023-05-26T09:57:43.463691",
     "exception": false,
     "start_time": "2023-05-26T09:57:43.418814",
     "status": "completed"
    },
    "tags": []
   },
   "outputs": [],
   "source": [
    "X_train , X_test , y_train , y_test  = train_test_split(train_vectors , train_df['target'] , test_size=0.3 ,\n",
    "random_state=27)\n"
   ]
  },
  {
   "cell_type": "markdown",
   "id": "f2746df7",
   "metadata": {
    "papermill": {
     "duration": 0.02889,
     "end_time": "2023-05-26T09:57:43.522142",
     "exception": false,
     "start_time": "2023-05-26T09:57:43.493252",
     "status": "completed"
    },
    "tags": []
   },
   "source": [
    "### Using TfidfVectorizer on our text"
   ]
  },
  {
   "cell_type": "code",
   "execution_count": 144,
   "id": "89fde621",
   "metadata": {
    "execution": {
     "iopub.execute_input": "2023-05-26T09:57:43.581815Z",
     "iopub.status.busy": "2023-05-26T09:57:43.581378Z",
     "iopub.status.idle": "2023-05-26T09:57:44.022696Z",
     "shell.execute_reply": "2023-05-26T09:57:44.021085Z"
    },
    "papermill": {
     "duration": 0.474548,
     "end_time": "2023-05-26T09:57:44.025445",
     "exception": false,
     "start_time": "2023-05-26T09:57:43.550897",
     "status": "completed"
    },
    "tags": []
   },
   "outputs": [],
   "source": [
    "tfidf=TfidfVectorizer(min_df=2,max_df=0.5,ngram_range=(1,2))\n",
    "\n",
    "train_tfidf=tfidf.fit_transform(train_df['text'])\n",
    "test_tfidf = tfidf.transform(test_df[\"text\"])"
   ]
  },
  {
   "cell_type": "markdown",
   "id": "84b7ed7f",
   "metadata": {
    "papermill": {
     "duration": 0.028546,
     "end_time": "2023-05-26T09:57:44.082829",
     "exception": false,
     "start_time": "2023-05-26T09:57:44.054283",
     "status": "completed"
    },
    "tags": []
   },
   "source": [
    "### Spliting data to train and test (TF_IDF)"
   ]
  },
  {
   "cell_type": "code",
   "execution_count": 145,
   "id": "0167b4ab",
   "metadata": {
    "execution": {
     "iopub.execute_input": "2023-05-26T09:57:44.141037Z",
     "iopub.status.busy": "2023-05-26T09:57:44.140176Z",
     "iopub.status.idle": "2023-05-26T09:57:44.148734Z",
     "shell.execute_reply": "2023-05-26T09:57:44.147771Z"
    },
    "papermill": {
     "duration": 0.042089,
     "end_time": "2023-05-26T09:57:44.152428",
     "exception": false,
     "start_time": "2023-05-26T09:57:44.110339",
     "status": "completed"
    },
    "tags": []
   },
   "outputs": [],
   "source": [
    "X_test_tf , X_train_tf , y_test_tf , y_train_tf = train_test_split(train_tfidf , train_df['target'] ,\n",
    "                                                                   test_size=0.3 , random_state=27)"
   ]
  },
  {
   "cell_type": "code",
   "execution_count": 146,
   "id": "34af2965",
   "metadata": {
    "execution": {
     "iopub.execute_input": "2023-05-26T09:57:44.210878Z",
     "iopub.status.busy": "2023-05-26T09:57:44.209888Z",
     "iopub.status.idle": "2023-05-26T09:57:44.221612Z",
     "shell.execute_reply": "2023-05-26T09:57:44.220404Z"
    },
    "papermill": {
     "duration": 0.044421,
     "end_time": "2023-05-26T09:57:44.224467",
     "exception": false,
     "start_time": "2023-05-26T09:57:44.180046",
     "status": "completed"
    },
    "tags": []
   },
   "outputs": [],
   "source": [
    "training_score_vectorizer=[]\n",
    "testing_score_vectorizer =[]\n",
    "\n",
    "def model_prediction(model):\n",
    "    model.fit(X_train,y_train)\n",
    "    x_train_pred = model.predict(X_train)\n",
    "    x_test_pred = model.predict(X_test)\n",
    "    a = accuracy_score(y_train,x_train_pred)*100\n",
    "    b = accuracy_score(y_test,x_test_pred)*100\n",
    "    training_score_vectorizer.append(a)\n",
    "    testing_score_vectorizer .append(b)\n",
    "    model_name = str(model).split('(')[0]\n",
    "    print(f\"Accuracy_Score of {model_name} model on Training Data is:\",a)\n",
    "    print(f\"Accuracy_Score of {model_name} model on Testing Data is:\",b)\n",
    "    print(\"\\n------------------------------------------------------------------------\")\n",
    "    print(f\"Precision Score of {model_name} model is:\",precision_score(y_test,x_test_pred))\n",
    "    print(f\"Recall Score of {model_name} model is:\",recall_score(y_test,x_test_pred))\n",
    "    print(f\"F1 Score of {model_name} model is:\",f1_score(y_test,x_test_pred))\n",
    "    print(\"\\n------------------------------------------------------------------------\")\n",
    "    print(f\"Confusion Matrix of {model_name} model is:\")\n",
    "    cm = confusion_matrix(y_test,x_test_pred)\n",
    "    plt.figure(figsize=(8,4))\n",
    "    sns.heatmap(cm,annot=True,fmt=\"g\",cmap=\"summer\")\n",
    "    plt.show()"
   ]
  },
  {
   "cell_type": "code",
   "execution_count": 147,
   "id": "11de4ede",
   "metadata": {
    "execution": {
     "iopub.execute_input": "2023-05-26T09:57:44.284530Z",
     "iopub.status.busy": "2023-05-26T09:57:44.284102Z",
     "iopub.status.idle": "2023-05-26T09:57:45.211943Z",
     "shell.execute_reply": "2023-05-26T09:57:45.210743Z"
    },
    "papermill": {
     "duration": 0.959093,
     "end_time": "2023-05-26T09:57:45.214453",
     "exception": false,
     "start_time": "2023-05-26T09:57:44.255360",
     "status": "completed"
    },
    "tags": []
   },
   "outputs": [
    {
     "name": "stdout",
     "output_type": "stream",
     "text": [
      "Accuracy_Score of LogisticRegression model on Training Data is: 95.26975683890578\n",
      "Accuracy_Score of LogisticRegression model on Testing Data is: 80.01772264067345\n",
      "\n",
      "------------------------------------------------------------------------\n",
      "Precision Score of LogisticRegression model is: 0.815\n",
      "Recall Score of LogisticRegression model is: 0.6827225130890052\n",
      "F1 Score of LogisticRegression model is: 0.743019943019943\n",
      "\n",
      "------------------------------------------------------------------------\n",
      "Confusion Matrix of LogisticRegression model is:\n"
     ]
    },
    {
     "data": {
      "image/png": "[encoded data removed]",
      "text/plain": [
       "<Figure size 800x400 with 2 Axes>"
      ]
     },
     "metadata": {},
     "output_type": "display_data"
    }
   ],
   "source": [
    "LogesticReg_CounetrVectorizer=LogisticRegression()\n",
    "model_prediction(LogesticReg_CounetrVectorizer)"
   ]
  },
  {
   "cell_type": "code",
   "execution_count": 148,
   "id": "1cb6bf6a",
   "metadata": {
    "execution": {
     "iopub.execute_input": "2023-05-26T09:57:45.275487Z",
     "iopub.status.busy": "2023-05-26T09:57:45.273992Z",
     "iopub.status.idle": "2023-05-26T09:58:11.001615Z",
     "shell.execute_reply": "2023-05-26T09:58:11.000256Z"
    },
    "papermill": {
     "duration": 25.760749,
     "end_time": "2023-05-26T09:58:11.004395",
     "exception": false,
     "start_time": "2023-05-26T09:57:45.243646",
     "status": "completed"
    },
    "tags": []
   },
   "outputs": [
    {
     "name": "stdout",
     "output_type": "stream",
     "text": [
      "Accuracy_Score of RandomForestClassifier model on Training Data is: 98.86018237082067\n",
      "Accuracy_Score of RandomForestClassifier model on Testing Data is: 79.04297740363315\n",
      "\n",
      "------------------------------------------------------------------------\n",
      "Precision Score of RandomForestClassifier model is: 0.8310439560439561\n",
      "Recall Score of RandomForestClassifier model is: 0.6335078534031413\n",
      "F1 Score of RandomForestClassifier model is: 0.718954248366013\n",
      "\n",
      "------------------------------------------------------------------------\n",
      "Confusion Matrix of RandomForestClassifier model is:\n"
     ]
    },
    {
     "data": {
      "image/png": "[encoded data removed]",
      "text/plain": [
       "<Figure size 800x400 with 2 Axes>"
      ]
     },
     "metadata": {},
     "output_type": "display_data"
    }
   ],
   "source": [
    "RandomForset_CounterVectorizer=RandomForestClassifier(n_estimators=100)\n",
    "model_prediction(RandomForset_CounterVectorizer)"
   ]
  },
  {
   "cell_type": "code",
   "execution_count": 149,
   "id": "bc307358",
   "metadata": {
    "execution": {
     "iopub.execute_input": "2023-05-26T09:58:11.066206Z",
     "iopub.status.busy": "2023-05-26T09:58:11.065393Z",
     "iopub.status.idle": "2023-05-26T09:58:11.420789Z",
     "shell.execute_reply": "2023-05-26T09:58:11.419782Z"
    },
    "papermill": {
     "duration": 0.387435,
     "end_time": "2023-05-26T09:58:11.423241",
     "exception": false,
     "start_time": "2023-05-26T09:58:11.035806",
     "status": "completed"
    },
    "tags": []
   },
   "outputs": [
    {
     "name": "stdout",
     "output_type": "stream",
     "text": [
      "Accuracy_Score of MultinomialNB model on Training Data is: 90.99544072948328\n",
      "Accuracy_Score of MultinomialNB model on Testing Data is: 80.94816127603013\n",
      "\n",
      "------------------------------------------------------------------------\n",
      "Precision Score of MultinomialNB model is: 0.7959413754227734\n",
      "Recall Score of MultinomialNB model is: 0.7392670157068063\n",
      "F1 Score of MultinomialNB model is: 0.7665580890336591\n",
      "\n",
      "------------------------------------------------------------------------\n",
      "Confusion Matrix of MultinomialNB model is:\n"
     ]
    },
    {
     "data": {
      "image/png": "[encoded data removed]",
      "text/plain": [
       "<Figure size 800x400 with 2 Axes>"
      ]
     },
     "metadata": {},
     "output_type": "display_data"
    }
   ],
   "source": [
    "Gussian_CounterVectorizer=MultinomialNB()\n",
    "model_prediction(Gussian_CounterVectorizer)"
   ]
  },
  {
   "cell_type": "code",
   "execution_count": 150,
   "id": "c390d440",
   "metadata": {
    "execution": {
     "iopub.execute_input": "2023-05-26T09:58:11.482915Z",
     "iopub.status.busy": "2023-05-26T09:58:11.482305Z",
     "iopub.status.idle": "2023-05-26T09:58:21.305611Z",
     "shell.execute_reply": "2023-05-26T09:58:21.304135Z"
    },
    "papermill": {
     "duration": 9.857327,
     "end_time": "2023-05-26T09:58:21.309382",
     "exception": false,
     "start_time": "2023-05-26T09:58:11.452055",
     "status": "completed"
    },
    "tags": []
   },
   "outputs": [
    {
     "name": "stdout",
     "output_type": "stream",
     "text": [
      "Accuracy_Score of SVC model on Training Data is: 94.68085106382979\n",
      "Accuracy_Score of SVC model on Testing Data is: 80.81524147097917\n",
      "\n",
      "------------------------------------------------------------------------\n",
      "Precision Score of SVC model is: 0.8728571428571429\n",
      "Recall Score of SVC model is: 0.6397905759162303\n",
      "F1 Score of SVC model is: 0.738368580060423\n",
      "\n",
      "------------------------------------------------------------------------\n",
      "Confusion Matrix of SVC model is:\n"
     ]
    },
    {
     "data": {
      "image/png": "[encoded data removed]",
      "text/plain": [
       "<Figure size 800x400 with 2 Axes>"
      ]
     },
     "metadata": {},
     "output_type": "display_data"
    }
   ],
   "source": [
    "SVC_CounterVectorizer=SVC()\n",
    "model_prediction(SVC_CounterVectorizer)"
   ]
  },
  {
   "cell_type": "code",
   "execution_count": 151,
   "id": "dd06ea56",
   "metadata": {
    "execution": {
     "iopub.execute_input": "2023-05-26T09:58:21.377967Z",
     "iopub.status.busy": "2023-05-26T09:58:21.377552Z",
     "iopub.status.idle": "2023-05-26T09:58:22.401016Z",
     "shell.execute_reply": "2023-05-26T09:58:22.399866Z"
    },
    "papermill": {
     "duration": 1.057069,
     "end_time": "2023-05-26T09:58:22.403388",
     "exception": false,
     "start_time": "2023-05-26T09:58:21.346319",
     "status": "completed"
    },
    "tags": []
   },
   "outputs": [
    {
     "name": "stdout",
     "output_type": "stream",
     "text": [
      "Accuracy_Score of XGBClassifier model on Training Data is: 83.41565349544074\n",
      "Accuracy_Score of XGBClassifier model on Testing Data is: 78.33407177669473\n",
      "\n",
      "------------------------------------------------------------------------\n",
      "Precision Score of XGBClassifier model is: 0.8357348703170029\n",
      "Recall Score of XGBClassifier model is: 0.6073298429319371\n",
      "F1 Score of XGBClassifier model is: 0.703456640388114\n",
      "\n",
      "------------------------------------------------------------------------\n",
      "Confusion Matrix of XGBClassifier model is:\n"
     ]
    },
    {
     "data": {
      "image/png": "[encoded data removed]",
      "text/plain": [
       "<Figure size 800x400 with 2 Axes>"
      ]
     },
     "metadata": {},
     "output_type": "display_data"
    }
   ],
   "source": [
    "XGB_CounterVectorizer=XGBClassifier()\n",
    "model_prediction(XGB_CounterVectorizer)"
   ]
  },
  {
   "cell_type": "markdown",
   "id": "3802b587",
   "metadata": {
    "papermill": {
     "duration": 0.030089,
     "end_time": "2023-05-26T09:58:22.463218",
     "exception": false,
     "start_time": "2023-05-26T09:58:22.433129",
     "status": "completed"
    },
    "tags": []
   },
   "source": [
    "### Observing all models Performance for CounterVectorizer"
   ]
  },
  {
   "cell_type": "code",
   "execution_count": 152,
   "id": "f536fc6c",
   "metadata": {
    "execution": {
     "iopub.execute_input": "2023-05-26T09:58:22.525447Z",
     "iopub.status.busy": "2023-05-26T09:58:22.525024Z",
     "iopub.status.idle": "2023-05-26T09:58:22.531135Z",
     "shell.execute_reply": "2023-05-26T09:58:22.529865Z"
    },
    "papermill": {
     "duration": 0.039984,
     "end_time": "2023-05-26T09:58:22.533687",
     "exception": false,
     "start_time": "2023-05-26T09:58:22.493703",
     "status": "completed"
    },
    "tags": []
   },
   "outputs": [],
   "source": [
    "models_vectorizer = [\"Logistic Regression\",\"Random Forest\",\"Naive Bayes\",\"SVM\"\n",
    "          ,\"XGBoost\"]"
   ]
  },
  {
   "cell_type": "code",
   "execution_count": 153,
   "id": "0240c382",
   "metadata": {
    "execution": {
     "iopub.execute_input": "2023-05-26T09:58:22.597263Z",
     "iopub.status.busy": "2023-05-26T09:58:22.596423Z",
     "iopub.status.idle": "2023-05-26T09:58:22.602385Z",
     "shell.execute_reply": "2023-05-26T09:58:22.601133Z"
    },
    "papermill": {
     "duration": 0.0402,
     "end_time": "2023-05-26T09:58:22.605188",
     "exception": false,
     "start_time": "2023-05-26T09:58:22.564988",
     "status": "completed"
    },
    "tags": []
   },
   "outputs": [],
   "source": [
    "df_vectorizer = pd.DataFrame({\"Algorithms\":models_vectorizer,\n",
    "                   \"Training Score\":training_score_vectorizer,\n",
    "                   \"Testing Score\":testing_score_vectorizer})"
   ]
  },
  {
   "cell_type": "code",
   "execution_count": 154,
   "id": "7ba956a4",
   "metadata": {
    "execution": {
     "iopub.execute_input": "2023-05-26T09:58:22.667338Z",
     "iopub.status.busy": "2023-05-26T09:58:22.666542Z",
     "iopub.status.idle": "2023-05-26T09:58:23.199537Z",
     "shell.execute_reply": "2023-05-26T09:58:23.198059Z"
    },
    "papermill": {
     "duration": 0.567074,
     "end_time": "2023-05-26T09:58:23.202473",
     "exception": false,
     "start_time": "2023-05-26T09:58:22.635399",
     "status": "completed"
    },
    "tags": []
   },
   "outputs": [
    {
     "data": {
      "image/png": "[encoded data removed]",
      "text/plain": [
       "<Figure size 1600x600 with 1 Axes>"
      ]
     },
     "metadata": {},
     "output_type": "display_data"
    }
   ],
   "source": [
    "df_vectorizer.plot(x=\"Algorithms\",y=[\"Training Score\",\"Testing Score\"], figsize=(16,6),kind=\"bar\",\n",
    "        title=\"Performance Visualization of Different Models (Vectorizing)\",colormap=\"Set1\")\n",
    "plt.show()"
   ]
  },
  {
   "cell_type": "code",
   "execution_count": 155,
   "id": "2401f327",
   "metadata": {
    "execution": {
     "iopub.execute_input": "2023-05-26T09:58:23.268126Z",
     "iopub.status.busy": "2023-05-26T09:58:23.267704Z",
     "iopub.status.idle": "2023-05-26T09:58:23.278267Z",
     "shell.execute_reply": "2023-05-26T09:58:23.277064Z"
    },
    "papermill": {
     "duration": 0.045861,
     "end_time": "2023-05-26T09:58:23.280904",
     "exception": false,
     "start_time": "2023-05-26T09:58:23.235043",
     "status": "completed"
    },
    "tags": []
   },
   "outputs": [],
   "source": [
    "training_score_tf =[]\n",
    "testing_score_tf =[]\n",
    "\n",
    "def model_prediction_tf(model):\n",
    "    model.fit(X_train_tf,y_train_tf)\n",
    "    x_train_pred = model.predict(X_train_tf)\n",
    "    x_test_pred = model.predict(X_test_tf)\n",
    "    a = accuracy_score(y_train_tf,x_train_pred)*100\n",
    "    b = accuracy_score(y_test_tf,x_test_pred)*100\n",
    "    training_score_tf.append(a)\n",
    "    testing_score_tf.append(b)\n",
    "    model_name = str(model).split('(')[0]\n",
    "    print(f\"Accuracy_Score of {model_name} model on Training Data is:\",a)\n",
    "    print(f\"Accuracy_Score of {model_name} model on Testing Data is:\",b)\n",
    "    print(\"\\n------------------------------------------------------------------------\")\n",
    "    print(f\"Precision Score of {model_name} model is:\",precision_score(y_test_tf,x_test_pred))\n",
    "    print(f\"Recall Score of {model_name} model is:\",recall_score(y_test_tf,x_test_pred))\n",
    "    print(f\"F1 Score of {model_name} model is:\",f1_score(y_test_tf,x_test_pred))\n",
    "    print(\"\\n------------------------------------------------------------------------\")\n",
    "    print(f\"Confusion Matrix of {model_name} model is:\")\n",
    "    cm = confusion_matrix(y_test_tf,x_test_pred)\n",
    "    plt.figure(figsize=(8,4))\n",
    "    sns.heatmap(cm,annot=True,fmt=\"g\",cmap=\"summer\")\n",
    "    plt.show()"
   ]
  },
  {
   "cell_type": "code",
   "execution_count": 156,
   "id": "6972f2c1",
   "metadata": {
    "execution": {
     "iopub.execute_input": "2023-05-26T09:58:23.345394Z",
     "iopub.status.busy": "2023-05-26T09:58:23.344986Z",
     "iopub.status.idle": "2023-05-26T09:58:23.805909Z",
     "shell.execute_reply": "2023-05-26T09:58:23.804590Z"
    },
    "papermill": {
     "duration": 0.496844,
     "end_time": "2023-05-26T09:58:23.808476",
     "exception": false,
     "start_time": "2023-05-26T09:58:23.311632",
     "status": "completed"
    },
    "tags": []
   },
   "outputs": [
    {
     "name": "stdout",
     "output_type": "stream",
     "text": [
      "Accuracy_Score of LogisticRegression model on Training Data is: 90.91714665485158\n",
      "Accuracy_Score of LogisticRegression model on Testing Data is: 77.35562310030394\n",
      "\n",
      "------------------------------------------------------------------------\n",
      "Precision Score of LogisticRegression model is: 0.8537074148296593\n",
      "Recall Score of LogisticRegression model is: 0.567747667703243\n",
      "F1 Score of LogisticRegression model is: 0.6819637139807898\n",
      "\n",
      "------------------------------------------------------------------------\n",
      "Confusion Matrix of LogisticRegression model is:\n"
     ]
    },
    {
     "data": {
      "image/png": "[encoded data removed]",
      "text/plain": [
       "<Figure size 800x400 with 2 Axes>"
      ]
     },
     "metadata": {},
     "output_type": "display_data"
    }
   ],
   "source": [
    "LogesticReg_tf=LogisticRegression()\n",
    "model_prediction_tf(LogesticReg_tf)"
   ]
  },
  {
   "cell_type": "code",
   "execution_count": 157,
   "id": "a5623d6c",
   "metadata": {
    "execution": {
     "iopub.execute_input": "2023-05-26T09:58:23.875250Z",
     "iopub.status.busy": "2023-05-26T09:58:23.874427Z",
     "iopub.status.idle": "2023-05-26T09:58:26.078270Z",
     "shell.execute_reply": "2023-05-26T09:58:26.076835Z"
    },
    "papermill": {
     "duration": 2.239298,
     "end_time": "2023-05-26T09:58:26.080806",
     "exception": false,
     "start_time": "2023-05-26T09:58:23.841508",
     "status": "completed"
    },
    "tags": []
   },
   "outputs": [
    {
     "name": "stdout",
     "output_type": "stream",
     "text": [
      "Accuracy_Score of RandomForestClassifier model on Training Data is: 98.89233495790873\n",
      "Accuracy_Score of RandomForestClassifier model on Testing Data is: 75.2659574468085\n",
      "\n",
      "------------------------------------------------------------------------\n",
      "Precision Score of RandomForestClassifier model is: 0.8165443629086058\n",
      "Recall Score of RandomForestClassifier model is: 0.543758329631275\n",
      "F1 Score of RandomForestClassifier model is: 0.6527999999999999\n",
      "\n",
      "------------------------------------------------------------------------\n",
      "Confusion Matrix of RandomForestClassifier model is:\n"
     ]
    },
    {
     "data": {
      "image/png": "[encoded data removed]",
      "text/plain": [
       "<Figure size 800x400 with 2 Axes>"
      ]
     },
     "metadata": {},
     "output_type": "display_data"
    }
   ],
   "source": [
    "RandomForset_tf=RandomForestClassifier(n_estimators=100)\n",
    "model_prediction_tf(RandomForset_tf)"
   ]
  },
  {
   "cell_type": "code",
   "execution_count": 158,
   "id": "971494bc",
   "metadata": {
    "execution": {
     "iopub.execute_input": "2023-05-26T09:58:26.145733Z",
     "iopub.status.busy": "2023-05-26T09:58:26.145318Z",
     "iopub.status.idle": "2023-05-26T09:58:26.489971Z",
     "shell.execute_reply": "2023-05-26T09:58:26.488494Z"
    },
    "papermill": {
     "duration": 0.380084,
     "end_time": "2023-05-26T09:58:26.492513",
     "exception": false,
     "start_time": "2023-05-26T09:58:26.112429",
     "status": "completed"
    },
    "tags": []
   },
   "outputs": [
    {
     "name": "stdout",
     "output_type": "stream",
     "text": [
      "Accuracy_Score of MultinomialNB model on Training Data is: 90.03101462117856\n",
      "Accuracy_Score of MultinomialNB model on Testing Data is: 77.45060790273556\n",
      "\n",
      "------------------------------------------------------------------------\n",
      "Precision Score of MultinomialNB model is: 0.8609226594301221\n",
      "Recall Score of MultinomialNB model is: 0.5637494446912483\n",
      "F1 Score of MultinomialNB model is: 0.6813422818791947\n",
      "\n",
      "------------------------------------------------------------------------\n",
      "Confusion Matrix of MultinomialNB model is:\n"
     ]
    },
    {
     "data": {
      "image/png": "[encoded data removed]",
      "text/plain": [
       "<Figure size 800x400 with 2 Axes>"
      ]
     },
     "metadata": {},
     "output_type": "display_data"
    }
   ],
   "source": [
    "Gussian_tf=MultinomialNB()\n",
    "model_prediction_tf(Gussian_tf)"
   ]
  },
  {
   "cell_type": "code",
   "execution_count": 159,
   "id": "dbc3938a",
   "metadata": {
    "execution": {
     "iopub.execute_input": "2023-05-26T09:58:26.562163Z",
     "iopub.status.busy": "2023-05-26T09:58:26.561768Z",
     "iopub.status.idle": "2023-05-26T09:58:27.645747Z",
     "shell.execute_reply": "2023-05-26T09:58:27.644745Z"
    },
    "papermill": {
     "duration": 1.123001,
     "end_time": "2023-05-26T09:58:27.648202",
     "exception": false,
     "start_time": "2023-05-26T09:58:26.525201",
     "status": "completed"
    },
    "tags": []
   },
   "outputs": [
    {
     "name": "stdout",
     "output_type": "stream",
     "text": [
      "Accuracy_Score of SVC model on Training Data is: 97.7403633141338\n",
      "Accuracy_Score of SVC model on Testing Data is: 76.709726443769\n",
      "\n",
      "------------------------------------------------------------------------\n",
      "Precision Score of SVC model is: 0.860661505981703\n",
      "Recall Score of SVC model is: 0.5433140826299423\n",
      "F1 Score of SVC model is: 0.6661220043572985\n",
      "\n",
      "------------------------------------------------------------------------\n",
      "Confusion Matrix of SVC model is:\n"
     ]
    },
    {
     "data": {
      "image/png": "[encoded data removed]",
      "text/plain": [
       "<Figure size 800x400 with 2 Axes>"
      ]
     },
     "metadata": {},
     "output_type": "display_data"
    }
   ],
   "source": [
    "SVC_tf=SVC()\n",
    "model_prediction_tf(SVC_tf)"
   ]
  },
  {
   "cell_type": "code",
   "execution_count": 160,
   "id": "fe9030d5",
   "metadata": {
    "execution": {
     "iopub.execute_input": "2023-05-26T09:58:27.717413Z",
     "iopub.status.busy": "2023-05-26T09:58:27.717032Z",
     "iopub.status.idle": "2023-05-26T09:58:28.438483Z",
     "shell.execute_reply": "2023-05-26T09:58:28.437243Z"
    },
    "papermill": {
     "duration": 0.758684,
     "end_time": "2023-05-26T09:58:28.441224",
     "exception": false,
     "start_time": "2023-05-26T09:58:27.682540",
     "status": "completed"
    },
    "tags": []
   },
   "outputs": [
    {
     "name": "stdout",
     "output_type": "stream",
     "text": [
      "Accuracy_Score of XGBClassifier model on Training Data is: 89.41072219760744\n",
      "Accuracy_Score of XGBClassifier model on Testing Data is: 74.94300911854104\n",
      "\n",
      "------------------------------------------------------------------------\n",
      "Precision Score of XGBClassifier model is: 0.7712456344586729\n",
      "Recall Score of XGBClassifier model is: 0.5886272767658818\n",
      "F1 Score of XGBClassifier model is: 0.6676744771982867\n",
      "\n",
      "------------------------------------------------------------------------\n",
      "Confusion Matrix of XGBClassifier model is:\n"
     ]
    },
    {
     "data": {
      "image/png": "[encoded data removed]",
      "text/plain": [
       "<Figure size 800x400 with 2 Axes>"
      ]
     },
     "metadata": {},
     "output_type": "display_data"
    }
   ],
   "source": [
    "XGB_tf=XGBClassifier()\n",
    "model_prediction_tf(XGB_tf)"
   ]
  },
  {
   "cell_type": "markdown",
   "id": "b272b332",
   "metadata": {
    "papermill": {
     "duration": 0.032877,
     "end_time": "2023-05-26T09:58:28.507287",
     "exception": false,
     "start_time": "2023-05-26T09:58:28.474410",
     "status": "completed"
    },
    "tags": []
   },
   "source": [
    "### Observing all models Performance fot TF_IDF"
   ]
  },
  {
   "cell_type": "code",
   "execution_count": 161,
   "id": "4d8499b8",
   "metadata": {
    "execution": {
     "iopub.execute_input": "2023-05-26T09:58:28.576677Z",
     "iopub.status.busy": "2023-05-26T09:58:28.576259Z",
     "iopub.status.idle": "2023-05-26T09:58:28.582042Z",
     "shell.execute_reply": "2023-05-26T09:58:28.580475Z"
    },
    "papermill": {
     "duration": 0.04386,
     "end_time": "2023-05-26T09:58:28.584648",
     "exception": false,
     "start_time": "2023-05-26T09:58:28.540788",
     "status": "completed"
    },
    "tags": []
   },
   "outputs": [],
   "source": [
    "models_tf = [\"Logistic Regression\",\"Random Forest\",\"Naive Bayes\",\"SVM\"\n",
    "          ,\"XGBoost\"]"
   ]
  },
  {
   "cell_type": "code",
   "execution_count": 162,
   "id": "a8b78703",
   "metadata": {
    "execution": {
     "iopub.execute_input": "2023-05-26T09:58:28.654834Z",
     "iopub.status.busy": "2023-05-26T09:58:28.653945Z",
     "iopub.status.idle": "2023-05-26T09:58:28.660214Z",
     "shell.execute_reply": "2023-05-26T09:58:28.658935Z"
    },
    "papermill": {
     "duration": 0.04483,
     "end_time": "2023-05-26T09:58:28.662878",
     "exception": false,
     "start_time": "2023-05-26T09:58:28.618048",
     "status": "completed"
    },
    "tags": []
   },
   "outputs": [],
   "source": [
    "df_tf = pd.DataFrame({\"Algorithms\":models_tf,\n",
    "                   \"Training Score\":training_score_tf,\n",
    "                   \"Testing Score\":testing_score_tf})"
   ]
  },
  {
   "cell_type": "code",
   "execution_count": 163,
   "id": "52ab1694",
   "metadata": {
    "execution": {
     "iopub.execute_input": "2023-05-26T09:58:28.731803Z",
     "iopub.status.busy": "2023-05-26T09:58:28.730960Z",
     "iopub.status.idle": "2023-05-26T09:58:29.185936Z",
     "shell.execute_reply": "2023-05-26T09:58:29.184760Z"
    },
    "papermill": {
     "duration": 0.492162,
     "end_time": "2023-05-26T09:58:29.188419",
     "exception": false,
     "start_time": "2023-05-26T09:58:28.696257",
     "status": "completed"
    },
    "tags": []
   },
   "outputs": [
    {
     "data": {
      "image/png": "[encoded data removed]",
      "text/plain": [
       "<Figure size 1600x600 with 1 Axes>"
      ]
     },
     "metadata": {},
     "output_type": "display_data"
    }
   ],
   "source": [
    "df_tf.plot(x=\"Algorithms\",y=[\"Training Score\",\"Testing Score\"], figsize=(16,6),kind=\"bar\",\n",
    "        title=\"Performance Visualization of Different Models (TF-IDF)\",colormap=\"Set2\")\n",
    "plt.show()"
   ]
  },
  {
   "cell_type": "markdown",
   "id": "1e99f2ab",
   "metadata": {
    "papermill": {
     "duration": 0.035341,
     "end_time": "2023-05-26T09:58:29.258181",
     "exception": false,
     "start_time": "2023-05-26T09:58:29.222840",
     "status": "completed"
    },
    "tags": []
   },
   "source": [
    "### Prediction for CounterVectorizer and Saving"
   ]
  },
  {
   "cell_type": "code",
   "execution_count": 166,
   "id": "f934ee83",
   "metadata": {
    "execution": {
     "iopub.execute_input": "2023-05-26T09:58:29.344350Z",
     "iopub.status.busy": "2023-05-26T09:58:29.343125Z",
     "iopub.status.idle": "2023-05-26T09:58:31.199190Z",
     "shell.execute_reply": "2023-05-26T09:58:31.197741Z"
    },
    "papermill": {
     "duration": 1.899002,
     "end_time": "2023-05-26T09:58:31.202352",
     "exception": false,
     "start_time": "2023-05-26T09:58:29.303350",
     "status": "completed"
    },
    "tags": []
   },
   "outputs": [
    {
     "data": {
      "text/html": [
       "<div>\n",
       "<style scoped>\n",
       "    .dataframe tbody tr th:only-of-type {\n",
       "        vertical-align: middle;\n",
       "    }\n",
       "\n",
       "    .dataframe tbody tr th {\n",
       "        vertical-align: top;\n",
       "    }\n",
       "\n",
       "    .dataframe thead th {\n",
       "        text-align: right;\n",
       "    }\n",
       "</style>\n",
       "<table border=\"1\" class=\"dataframe\">\n",
       "  <thead>\n",
       "    <tr style=\"text-align: right;\">\n",
       "      <th></th>\n",
       "      <th>id</th>\n",
       "      <th>keyword</th>\n",
       "      <th>location</th>\n",
       "      <th>text</th>\n",
       "      <th>target</th>\n",
       "    </tr>\n",
       "  </thead>\n",
       "  <tbody>\n",
       "    <tr>\n",
       "      <th>574</th>\n",
       "      <td>1868</td>\n",
       "      <td>burned</td>\n",
       "      <td>NYC ?? PA</td>\n",
       "      <td>im proud heart play stab cheat burn broken som...</td>\n",
       "      <td>0</td>\n",
       "    </tr>\n",
       "    <tr>\n",
       "      <th>348</th>\n",
       "      <td>1127</td>\n",
       "      <td>blew%20up</td>\n",
       "      <td>twitch.tv/dgn_esports</td>\n",
       "      <td>reason player ego caus cod champ that esport b...</td>\n",
       "      <td>0</td>\n",
       "    </tr>\n",
       "    <tr>\n",
       "      <th>129</th>\n",
       "      <td>411</td>\n",
       "      <td>apocalypse</td>\n",
       "      <td>Instagram:marissatunis</td>\n",
       "      <td>apocalyps</td>\n",
       "      <td>0</td>\n",
       "    </tr>\n",
       "    <tr>\n",
       "      <th>2637</th>\n",
       "      <td>8819</td>\n",
       "      <td>sirens</td>\n",
       "      <td>new jersey</td>\n",
       "      <td>remind dan collab tyler complain siren stop im...</td>\n",
       "      <td>0</td>\n",
       "    </tr>\n",
       "    <tr>\n",
       "      <th>1732</th>\n",
       "      <td>5846</td>\n",
       "      <td>hailstorm</td>\n",
       "      <td>Calgary, Alberta, Canada</td>\n",
       "      <td>yyc hailstorm christma came earli</td>\n",
       "      <td>1</td>\n",
       "    </tr>\n",
       "  </tbody>\n",
       "</table>\n",
       "</div>"
      ],
      "text/plain": [
       "        id     keyword                  location  \\\n",
       "574   1868      burned                 NYC ?? PA   \n",
       "348   1127   blew%20up     twitch.tv/dgn_esports   \n",
       "129    411  apocalypse    Instagram:marissatunis   \n",
       "2637  8819      sirens                new jersey   \n",
       "1732  5846   hailstorm  Calgary, Alberta, Canada   \n",
       "\n",
       "                                                   text  target  \n",
       "574   im proud heart play stab cheat burn broken som...       0  \n",
       "348   reason player ego caus cod champ that esport b...       0  \n",
       "129                                           apocalyps       0  \n",
       "2637  remind dan collab tyler complain siren stop im...       0  \n",
       "1732                  yyc hailstorm christma came earli       1  "
      ]
     },
     "execution_count": 166,
     "metadata": {},
     "output_type": "execute_result"
    }
   ],
   "source": [
    "Final_Model_CounterVector = SVC_CounterVectorizer.predict(test_vectors)\n",
    "test_df['target'] = Final_Model_CounterVector \n",
    "test_df.to_csv('address1.csv')\n",
    "test_df.sample(5)"
   ]
  },
  {
   "cell_type": "markdown",
   "id": "c117e5d5",
   "metadata": {
    "papermill": {
     "duration": 0.034863,
     "end_time": "2023-05-26T09:58:31.273041",
     "exception": false,
     "start_time": "2023-05-26T09:58:31.238178",
     "status": "completed"
    },
    "tags": []
   },
   "source": [
    "### Prediction for Tf_IDF and Saving"
   ]
  },
  {
   "cell_type": "code",
   "execution_count": 167,
   "id": "c2ad14bf",
   "metadata": {
    "execution": {
     "iopub.execute_input": "2023-05-26T09:58:31.343596Z",
     "iopub.status.busy": "2023-05-26T09:58:31.343196Z",
     "iopub.status.idle": "2023-05-26T09:58:31.631392Z",
     "shell.execute_reply": "2023-05-26T09:58:31.629930Z"
    },
    "papermill": {
     "duration": 0.327145,
     "end_time": "2023-05-26T09:58:31.634360",
     "exception": false,
     "start_time": "2023-05-26T09:58:31.307215",
     "status": "completed"
    },
    "tags": []
   },
   "outputs": [
    {
     "data": {
      "text/html": [
       "<div>\n",
       "<style scoped>\n",
       "    .dataframe tbody tr th:only-of-type {\n",
       "        vertical-align: middle;\n",
       "    }\n",
       "\n",
       "    .dataframe tbody tr th {\n",
       "        vertical-align: top;\n",
       "    }\n",
       "\n",
       "    .dataframe thead th {\n",
       "        text-align: right;\n",
       "    }\n",
       "</style>\n",
       "<table border=\"1\" class=\"dataframe\">\n",
       "  <thead>\n",
       "    <tr style=\"text-align: right;\">\n",
       "      <th></th>\n",
       "      <th>id</th>\n",
       "      <th>keyword</th>\n",
       "      <th>location</th>\n",
       "      <th>text</th>\n",
       "      <th>target</th>\n",
       "    </tr>\n",
       "  </thead>\n",
       "  <tbody>\n",
       "    <tr>\n",
       "      <th>529</th>\n",
       "      <td>1734</td>\n",
       "      <td>buildings%20burning</td>\n",
       "      <td>NaN</td>\n",
       "      <td>forestservic rt dhsscitech firefight run burn ...</td>\n",
       "      <td>0</td>\n",
       "    </tr>\n",
       "    <tr>\n",
       "      <th>3159</th>\n",
       "      <td>10480</td>\n",
       "      <td>wild%20fires</td>\n",
       "      <td>NaN</td>\n",
       "      <td>there wild fire us californiaand droughtthi st...</td>\n",
       "      <td>1</td>\n",
       "    </tr>\n",
       "    <tr>\n",
       "      <th>242</th>\n",
       "      <td>776</td>\n",
       "      <td>avalanche</td>\n",
       "      <td>KATONG PLAZA #02-10</td>\n",
       "      <td>fc maid agenc present musician kall mattson re...</td>\n",
       "      <td>0</td>\n",
       "    </tr>\n",
       "    <tr>\n",
       "      <th>1076</th>\n",
       "      <td>3556</td>\n",
       "      <td>desolate</td>\n",
       "      <td>Twin Falls, Idaho, 83301</td>\n",
       "      <td>behold hous left desol matthew nasb</td>\n",
       "      <td>0</td>\n",
       "    </tr>\n",
       "    <tr>\n",
       "      <th>2885</th>\n",
       "      <td>9545</td>\n",
       "      <td>threat</td>\n",
       "      <td>San Francisco, CA</td>\n",
       "      <td>remind white american biggest terror threat un...</td>\n",
       "      <td>0</td>\n",
       "    </tr>\n",
       "  </tbody>\n",
       "</table>\n",
       "</div>"
      ],
      "text/plain": [
       "         id              keyword                  location  \\\n",
       "529    1734  buildings%20burning                       NaN   \n",
       "3159  10480         wild%20fires                       NaN   \n",
       "242     776            avalanche       KATONG PLAZA #02-10   \n",
       "1076   3556             desolate  Twin Falls, Idaho, 83301   \n",
       "2885   9545               threat         San Francisco, CA   \n",
       "\n",
       "                                                   text  target  \n",
       "529   forestservic rt dhsscitech firefight run burn ...       0  \n",
       "3159  there wild fire us californiaand droughtthi st...       1  \n",
       "242   fc maid agenc present musician kall mattson re...       0  \n",
       "1076                behold hous left desol matthew nasb       0  \n",
       "2885  remind white american biggest terror threat un...       0  "
      ]
     },
     "execution_count": 167,
     "metadata": {},
     "output_type": "execute_result"
    }
   ],
   "source": [
    "Final_Model_tf = SVC_tf.predict(test_tfidf)\n",
    "test_df['target'] = Final_Model_tf \n",
    "test_df.to_csv('address2.csv')\n",
    "test_df.sample(5)\n"
   ]
  },
  {
   "cell_type": "code",
   "execution_count": null,
   "id": "7add3e97",
   "metadata": {},
   "outputs": [],
   "source": []
  }
 ],
 "metadata": {
  "kernelspec": {
   "display_name": "Python 3 (ipykernel)",
   "language": "python",
   "name": "python3"
  },
  "language_info": {
   "codemirror_mode": {
    "name": "ipython",
    "version": 3
   },
   "file_extension": ".py",
   "mimetype": "text/x-python",
   "name": "python",
   "nbconvert_exporter": "python",
   "pygments_lexer": "ipython3",
   "version": "3.9.16"
  },
  "papermill": {
   "default_parameters": {},
   "duration": 78.243689,
   "end_time": "2023-05-26T09:58:32.895323",
   "environment_variables": {},
   "exception": null,
   "input_path": "__notebook__.ipynb",
   "output_path": "__notebook__.ipynb",
   "parameters": {},
   "start_time": "2023-05-26T09:57:14.651634",
   "version": "2.4.0"
  }
 },
 "nbformat": 4,
 "nbformat_minor": 5
}
